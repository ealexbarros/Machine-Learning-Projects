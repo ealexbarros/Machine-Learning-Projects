{
  "nbformat": 4,
  "nbformat_minor": 0,
  "metadata": {
    "colab": {
      "name": "ensemble_driver.ipynb",
      "provenance": [],
      "collapsed_sections": [],
      "machine_shape": "hm",
      "authorship_tag": "ABX9TyNGCiyoK/hSje2k7sdy7hVL",
      "include_colab_link": true
    },
    "kernelspec": {
      "name": "python3",
      "display_name": "Python 3"
    },
    "accelerator": "GPU"
  },
  "cells": [
    {
      "cell_type": "markdown",
      "metadata": {
        "id": "view-in-github",
        "colab_type": "text"
      },
      "source": [
        "<a href=\"https://colab.research.google.com/github/ealexbarros/Machine-Learning-Projects/blob/master/ensemble_driver.ipynb\" target=\"_parent\"><img src=\"https://colab.research.google.com/assets/colab-badge.svg\" alt=\"Open In Colab\"/></a>"
      ]
    },
    {
      "cell_type": "code",
      "metadata": {
        "id": "I4GYNQ3snzTU",
        "colab_type": "code",
        "outputId": "6d8e8443-1f68-4afc-8de0-e090b679ea31",
        "colab": {
          "base_uri": "https://localhost:8080/",
          "height": 80
        }
      },
      "source": [
        "import pandas as pd\n",
        "import matplotlib.pyplot as plt\n",
        "import numpy as np\n",
        "import matplotlib.pyplot as plt\n",
        "from scipy.optimize import curve_fit\n",
        "from keras.utils import np_utils\n",
        "from sklearn import datasets, linear_model\n",
        "from sklearn.model_selection import cross_val_score,cross_validate\n",
        "from sklearn import metrics\n",
        "from sklearn.datasets import make_moons\n",
        "from sklearn.metrics import accuracy_score,f1_score, recall_score,precision_score,roc_auc_score,mean_squared_error,roc_curve\n",
        "from sklearn.model_selection import train_test_split\n",
        "from sklearn.tree import DecisionTreeClassifier\n",
        "from sklearn.ensemble import RandomForestClassifier,AdaBoostClassifier,GradientBoostingClassifier,ExtraTreesClassifier\n",
        "from sklearn.preprocessing import LabelEncoder\n",
        "import time as time\n",
        "from sklearn.metrics import make_scorer\n",
        "from sklearn.svm import LinearSVC\n",
        "import pandas as pd\n",
        "import keras\n",
        "from keras.models import Sequential\n",
        "from keras.layers import Dense, Dropout\n",
        "from keras.wrappers.scikit_learn import KerasClassifier\n",
        "from sklearn.model_selection import cross_val_score,ShuffleSplit\n",
        "from keras.utils import np_utils\n",
        "from sklearn.ensemble import VotingClassifier\n"
      ],
      "execution_count": 0,
      "outputs": [
        {
          "output_type": "stream",
          "text": [
            "Using TensorFlow backend.\n"
          ],
          "name": "stderr"
        },
        {
          "output_type": "display_data",
          "data": {
            "text/html": [
              "<p style=\"color: red;\">\n",
              "The default version of TensorFlow in Colab will soon switch to TensorFlow 2.x.<br>\n",
              "We recommend you <a href=\"https://www.tensorflow.org/guide/migrate\" target=\"_blank\">upgrade</a> now \n",
              "or ensure your notebook will continue to use TensorFlow 1.x via the <code>%tensorflow_version 1.x</code> magic:\n",
              "<a href=\"https://colab.research.google.com/notebooks/tensorflow_version.ipynb\" target=\"_blank\">more info</a>.</p>\n"
            ],
            "text/plain": [
              "<IPython.core.display.HTML object>"
            ]
          },
          "metadata": {
            "tags": []
          }
        }
      ]
    },
    {
      "cell_type": "code",
      "metadata": {
        "id": "t4luZQj0n5dy",
        "colab_type": "code",
        "colab": {}
      },
      "source": [
        "# Step1: Create data set\n",
        "\n",
        "data_url = \"https://raw.githubusercontent.com/ealexbarros/Machine-Learning-Projects/master/Ensemble%20Learning/drivedb_final1.csv\"\n",
        "base = pd.read_csv(data_url)"
      ],
      "execution_count": 0,
      "outputs": []
    },
    {
      "cell_type": "code",
      "metadata": {
        "id": "SktKo-DGGHcW",
        "colab_type": "code",
        "outputId": "4e252233-6ff4-4414-8701-8593e3076736",
        "colab": {
          "base_uri": "https://localhost:8080/",
          "height": 419
        }
      },
      "source": [
        "base"
      ],
      "execution_count": 0,
      "outputs": [
        {
          "output_type": "execute_result",
          "data": {
            "text/html": [
              "<div>\n",
              "<style scoped>\n",
              "    .dataframe tbody tr th:only-of-type {\n",
              "        vertical-align: middle;\n",
              "    }\n",
              "\n",
              "    .dataframe tbody tr th {\n",
              "        vertical-align: top;\n",
              "    }\n",
              "\n",
              "    .dataframe thead th {\n",
              "        text-align: right;\n",
              "    }\n",
              "</style>\n",
              "<table border=\"1\" class=\"dataframe\">\n",
              "  <thead>\n",
              "    <tr style=\"text-align: right;\">\n",
              "      <th></th>\n",
              "      <th>mean_q</th>\n",
              "      <th>mean_r</th>\n",
              "      <th>mean_s</th>\n",
              "      <th>stdev_q</th>\n",
              "      <th>stdev_r</th>\n",
              "      <th>stdev_s</th>\n",
              "      <th>qrs_interval</th>\n",
              "      <th>rr_interval</th>\n",
              "      <th>rq_amplitude</th>\n",
              "      <th>qrs_interval.1</th>\n",
              "      <th>person</th>\n",
              "    </tr>\n",
              "  </thead>\n",
              "  <tbody>\n",
              "    <tr>\n",
              "      <th>0</th>\n",
              "      <td>-0.723496</td>\n",
              "      <td>0.278612</td>\n",
              "      <td>0.067206</td>\n",
              "      <td>0.014606</td>\n",
              "      <td>0.006745</td>\n",
              "      <td>0.003261</td>\n",
              "      <td>72.580645</td>\n",
              "      <td>780.241935</td>\n",
              "      <td>1.002108</td>\n",
              "      <td>72.580645</td>\n",
              "      <td>drive16</td>\n",
              "    </tr>\n",
              "    <tr>\n",
              "      <th>1</th>\n",
              "      <td>-0.745529</td>\n",
              "      <td>0.283174</td>\n",
              "      <td>0.074638</td>\n",
              "      <td>0.010212</td>\n",
              "      <td>0.008582</td>\n",
              "      <td>0.003838</td>\n",
              "      <td>72.580645</td>\n",
              "      <td>721.774194</td>\n",
              "      <td>1.028703</td>\n",
              "      <td>72.580645</td>\n",
              "      <td>drive16</td>\n",
              "    </tr>\n",
              "    <tr>\n",
              "      <th>2</th>\n",
              "      <td>-0.727950</td>\n",
              "      <td>0.281287</td>\n",
              "      <td>0.059535</td>\n",
              "      <td>0.011583</td>\n",
              "      <td>0.012637</td>\n",
              "      <td>0.012770</td>\n",
              "      <td>71.908602</td>\n",
              "      <td>687.500000</td>\n",
              "      <td>1.009237</td>\n",
              "      <td>71.908602</td>\n",
              "      <td>drive16</td>\n",
              "    </tr>\n",
              "    <tr>\n",
              "      <th>3</th>\n",
              "      <td>-0.505013</td>\n",
              "      <td>0.285457</td>\n",
              "      <td>-0.206507</td>\n",
              "      <td>0.323151</td>\n",
              "      <td>0.011784</td>\n",
              "      <td>0.373444</td>\n",
              "      <td>64.516129</td>\n",
              "      <td>655.241935</td>\n",
              "      <td>0.790470</td>\n",
              "      <td>64.516129</td>\n",
              "      <td>drive16</td>\n",
              "    </tr>\n",
              "    <tr>\n",
              "      <th>4</th>\n",
              "      <td>-0.285455</td>\n",
              "      <td>0.301478</td>\n",
              "      <td>-0.485068</td>\n",
              "      <td>0.350774</td>\n",
              "      <td>0.014207</td>\n",
              "      <td>0.382756</td>\n",
              "      <td>54.435484</td>\n",
              "      <td>635.080645</td>\n",
              "      <td>0.586933</td>\n",
              "      <td>54.435484</td>\n",
              "      <td>drive16</td>\n",
              "    </tr>\n",
              "    <tr>\n",
              "      <th>...</th>\n",
              "      <td>...</td>\n",
              "      <td>...</td>\n",
              "      <td>...</td>\n",
              "      <td>...</td>\n",
              "      <td>...</td>\n",
              "      <td>...</td>\n",
              "      <td>...</td>\n",
              "      <td>...</td>\n",
              "      <td>...</td>\n",
              "      <td>...</td>\n",
              "      <td>...</td>\n",
              "    </tr>\n",
              "    <tr>\n",
              "      <th>26595</th>\n",
              "      <td>-0.796856</td>\n",
              "      <td>1.004739</td>\n",
              "      <td>-0.179860</td>\n",
              "      <td>0.066082</td>\n",
              "      <td>0.103765</td>\n",
              "      <td>0.125639</td>\n",
              "      <td>55.443548</td>\n",
              "      <td>623.991935</td>\n",
              "      <td>1.801595</td>\n",
              "      <td>55.443548</td>\n",
              "      <td>drive01</td>\n",
              "    </tr>\n",
              "    <tr>\n",
              "      <th>26596</th>\n",
              "      <td>-0.706270</td>\n",
              "      <td>0.942474</td>\n",
              "      <td>-0.271047</td>\n",
              "      <td>0.023319</td>\n",
              "      <td>0.069515</td>\n",
              "      <td>0.017781</td>\n",
              "      <td>60.147849</td>\n",
              "      <td>556.451613</td>\n",
              "      <td>1.648744</td>\n",
              "      <td>60.147849</td>\n",
              "      <td>drive01</td>\n",
              "    </tr>\n",
              "    <tr>\n",
              "      <th>26597</th>\n",
              "      <td>-0.697754</td>\n",
              "      <td>0.921037</td>\n",
              "      <td>-0.266242</td>\n",
              "      <td>0.010162</td>\n",
              "      <td>0.036736</td>\n",
              "      <td>0.014690</td>\n",
              "      <td>59.475806</td>\n",
              "      <td>653.225806</td>\n",
              "      <td>1.618791</td>\n",
              "      <td>59.475806</td>\n",
              "      <td>drive01</td>\n",
              "    </tr>\n",
              "    <tr>\n",
              "      <th>26598</th>\n",
              "      <td>-0.731650</td>\n",
              "      <td>1.002127</td>\n",
              "      <td>-0.305096</td>\n",
              "      <td>0.051388</td>\n",
              "      <td>0.050148</td>\n",
              "      <td>0.005644</td>\n",
              "      <td>60.819892</td>\n",
              "      <td>692.540323</td>\n",
              "      <td>1.733777</td>\n",
              "      <td>60.819892</td>\n",
              "      <td>drive01</td>\n",
              "    </tr>\n",
              "    <tr>\n",
              "      <th>26599</th>\n",
              "      <td>-0.739466</td>\n",
              "      <td>0.971679</td>\n",
              "      <td>-0.272621</td>\n",
              "      <td>0.006579</td>\n",
              "      <td>0.008387</td>\n",
              "      <td>0.008219</td>\n",
              "      <td>59.475806</td>\n",
              "      <td>622.983871</td>\n",
              "      <td>1.711144</td>\n",
              "      <td>59.475806</td>\n",
              "      <td>drive01</td>\n",
              "    </tr>\n",
              "  </tbody>\n",
              "</table>\n",
              "<p>26600 rows × 11 columns</p>\n",
              "</div>"
            ],
            "text/plain": [
              "         mean_q    mean_r    mean_s  ...  rq_amplitude  qrs_interval.1   person\n",
              "0     -0.723496  0.278612  0.067206  ...      1.002108       72.580645  drive16\n",
              "1     -0.745529  0.283174  0.074638  ...      1.028703       72.580645  drive16\n",
              "2     -0.727950  0.281287  0.059535  ...      1.009237       71.908602  drive16\n",
              "3     -0.505013  0.285457 -0.206507  ...      0.790470       64.516129  drive16\n",
              "4     -0.285455  0.301478 -0.485068  ...      0.586933       54.435484  drive16\n",
              "...         ...       ...       ...  ...           ...             ...      ...\n",
              "26595 -0.796856  1.004739 -0.179860  ...      1.801595       55.443548  drive01\n",
              "26596 -0.706270  0.942474 -0.271047  ...      1.648744       60.147849  drive01\n",
              "26597 -0.697754  0.921037 -0.266242  ...      1.618791       59.475806  drive01\n",
              "26598 -0.731650  1.002127 -0.305096  ...      1.733777       60.819892  drive01\n",
              "26599 -0.739466  0.971679 -0.272621  ...      1.711144       59.475806  drive01\n",
              "\n",
              "[26600 rows x 11 columns]"
            ]
          },
          "metadata": {
            "tags": []
          },
          "execution_count": 3
        }
      ]
    },
    {
      "cell_type": "code",
      "metadata": {
        "id": "onauyEHzF9tt",
        "colab_type": "code",
        "colab": {}
      },
      "source": [
        "\n",
        "base_cleaned = base.dropna()\n"
      ],
      "execution_count": 0,
      "outputs": []
    },
    {
      "cell_type": "code",
      "metadata": {
        "id": "Yev8oEhxGRa6",
        "colab_type": "code",
        "outputId": "90e3e032-e249-4e44-b69e-b31c5b48fcfc",
        "colab": {
          "base_uri": "https://localhost:8080/",
          "height": 419
        }
      },
      "source": [
        "base_cleaned"
      ],
      "execution_count": 0,
      "outputs": [
        {
          "output_type": "execute_result",
          "data": {
            "text/html": [
              "<div>\n",
              "<style scoped>\n",
              "    .dataframe tbody tr th:only-of-type {\n",
              "        vertical-align: middle;\n",
              "    }\n",
              "\n",
              "    .dataframe tbody tr th {\n",
              "        vertical-align: top;\n",
              "    }\n",
              "\n",
              "    .dataframe thead th {\n",
              "        text-align: right;\n",
              "    }\n",
              "</style>\n",
              "<table border=\"1\" class=\"dataframe\">\n",
              "  <thead>\n",
              "    <tr style=\"text-align: right;\">\n",
              "      <th></th>\n",
              "      <th>mean_q</th>\n",
              "      <th>mean_r</th>\n",
              "      <th>mean_s</th>\n",
              "      <th>stdev_q</th>\n",
              "      <th>stdev_r</th>\n",
              "      <th>stdev_s</th>\n",
              "      <th>qrs_interval</th>\n",
              "      <th>rr_interval</th>\n",
              "      <th>rq_amplitude</th>\n",
              "      <th>qrs_interval.1</th>\n",
              "      <th>person</th>\n",
              "    </tr>\n",
              "  </thead>\n",
              "  <tbody>\n",
              "    <tr>\n",
              "      <th>0</th>\n",
              "      <td>-0.723496</td>\n",
              "      <td>0.278612</td>\n",
              "      <td>0.067206</td>\n",
              "      <td>0.014606</td>\n",
              "      <td>0.006745</td>\n",
              "      <td>0.003261</td>\n",
              "      <td>72.580645</td>\n",
              "      <td>780.241935</td>\n",
              "      <td>1.002108</td>\n",
              "      <td>72.580645</td>\n",
              "      <td>drive16</td>\n",
              "    </tr>\n",
              "    <tr>\n",
              "      <th>1</th>\n",
              "      <td>-0.745529</td>\n",
              "      <td>0.283174</td>\n",
              "      <td>0.074638</td>\n",
              "      <td>0.010212</td>\n",
              "      <td>0.008582</td>\n",
              "      <td>0.003838</td>\n",
              "      <td>72.580645</td>\n",
              "      <td>721.774194</td>\n",
              "      <td>1.028703</td>\n",
              "      <td>72.580645</td>\n",
              "      <td>drive16</td>\n",
              "    </tr>\n",
              "    <tr>\n",
              "      <th>2</th>\n",
              "      <td>-0.727950</td>\n",
              "      <td>0.281287</td>\n",
              "      <td>0.059535</td>\n",
              "      <td>0.011583</td>\n",
              "      <td>0.012637</td>\n",
              "      <td>0.012770</td>\n",
              "      <td>71.908602</td>\n",
              "      <td>687.500000</td>\n",
              "      <td>1.009237</td>\n",
              "      <td>71.908602</td>\n",
              "      <td>drive16</td>\n",
              "    </tr>\n",
              "    <tr>\n",
              "      <th>3</th>\n",
              "      <td>-0.505013</td>\n",
              "      <td>0.285457</td>\n",
              "      <td>-0.206507</td>\n",
              "      <td>0.323151</td>\n",
              "      <td>0.011784</td>\n",
              "      <td>0.373444</td>\n",
              "      <td>64.516129</td>\n",
              "      <td>655.241935</td>\n",
              "      <td>0.790470</td>\n",
              "      <td>64.516129</td>\n",
              "      <td>drive16</td>\n",
              "    </tr>\n",
              "    <tr>\n",
              "      <th>4</th>\n",
              "      <td>-0.285455</td>\n",
              "      <td>0.301478</td>\n",
              "      <td>-0.485068</td>\n",
              "      <td>0.350774</td>\n",
              "      <td>0.014207</td>\n",
              "      <td>0.382756</td>\n",
              "      <td>54.435484</td>\n",
              "      <td>635.080645</td>\n",
              "      <td>0.586933</td>\n",
              "      <td>54.435484</td>\n",
              "      <td>drive16</td>\n",
              "    </tr>\n",
              "    <tr>\n",
              "      <th>...</th>\n",
              "      <td>...</td>\n",
              "      <td>...</td>\n",
              "      <td>...</td>\n",
              "      <td>...</td>\n",
              "      <td>...</td>\n",
              "      <td>...</td>\n",
              "      <td>...</td>\n",
              "      <td>...</td>\n",
              "      <td>...</td>\n",
              "      <td>...</td>\n",
              "      <td>...</td>\n",
              "    </tr>\n",
              "    <tr>\n",
              "      <th>26595</th>\n",
              "      <td>-0.796856</td>\n",
              "      <td>1.004739</td>\n",
              "      <td>-0.179860</td>\n",
              "      <td>0.066082</td>\n",
              "      <td>0.103765</td>\n",
              "      <td>0.125639</td>\n",
              "      <td>55.443548</td>\n",
              "      <td>623.991935</td>\n",
              "      <td>1.801595</td>\n",
              "      <td>55.443548</td>\n",
              "      <td>drive01</td>\n",
              "    </tr>\n",
              "    <tr>\n",
              "      <th>26596</th>\n",
              "      <td>-0.706270</td>\n",
              "      <td>0.942474</td>\n",
              "      <td>-0.271047</td>\n",
              "      <td>0.023319</td>\n",
              "      <td>0.069515</td>\n",
              "      <td>0.017781</td>\n",
              "      <td>60.147849</td>\n",
              "      <td>556.451613</td>\n",
              "      <td>1.648744</td>\n",
              "      <td>60.147849</td>\n",
              "      <td>drive01</td>\n",
              "    </tr>\n",
              "    <tr>\n",
              "      <th>26597</th>\n",
              "      <td>-0.697754</td>\n",
              "      <td>0.921037</td>\n",
              "      <td>-0.266242</td>\n",
              "      <td>0.010162</td>\n",
              "      <td>0.036736</td>\n",
              "      <td>0.014690</td>\n",
              "      <td>59.475806</td>\n",
              "      <td>653.225806</td>\n",
              "      <td>1.618791</td>\n",
              "      <td>59.475806</td>\n",
              "      <td>drive01</td>\n",
              "    </tr>\n",
              "    <tr>\n",
              "      <th>26598</th>\n",
              "      <td>-0.731650</td>\n",
              "      <td>1.002127</td>\n",
              "      <td>-0.305096</td>\n",
              "      <td>0.051388</td>\n",
              "      <td>0.050148</td>\n",
              "      <td>0.005644</td>\n",
              "      <td>60.819892</td>\n",
              "      <td>692.540323</td>\n",
              "      <td>1.733777</td>\n",
              "      <td>60.819892</td>\n",
              "      <td>drive01</td>\n",
              "    </tr>\n",
              "    <tr>\n",
              "      <th>26599</th>\n",
              "      <td>-0.739466</td>\n",
              "      <td>0.971679</td>\n",
              "      <td>-0.272621</td>\n",
              "      <td>0.006579</td>\n",
              "      <td>0.008387</td>\n",
              "      <td>0.008219</td>\n",
              "      <td>59.475806</td>\n",
              "      <td>622.983871</td>\n",
              "      <td>1.711144</td>\n",
              "      <td>59.475806</td>\n",
              "      <td>drive01</td>\n",
              "    </tr>\n",
              "  </tbody>\n",
              "</table>\n",
              "<p>25530 rows × 11 columns</p>\n",
              "</div>"
            ],
            "text/plain": [
              "         mean_q    mean_r    mean_s  ...  rq_amplitude  qrs_interval.1   person\n",
              "0     -0.723496  0.278612  0.067206  ...      1.002108       72.580645  drive16\n",
              "1     -0.745529  0.283174  0.074638  ...      1.028703       72.580645  drive16\n",
              "2     -0.727950  0.281287  0.059535  ...      1.009237       71.908602  drive16\n",
              "3     -0.505013  0.285457 -0.206507  ...      0.790470       64.516129  drive16\n",
              "4     -0.285455  0.301478 -0.485068  ...      0.586933       54.435484  drive16\n",
              "...         ...       ...       ...  ...           ...             ...      ...\n",
              "26595 -0.796856  1.004739 -0.179860  ...      1.801595       55.443548  drive01\n",
              "26596 -0.706270  0.942474 -0.271047  ...      1.648744       60.147849  drive01\n",
              "26597 -0.697754  0.921037 -0.266242  ...      1.618791       59.475806  drive01\n",
              "26598 -0.731650  1.002127 -0.305096  ...      1.733777       60.819892  drive01\n",
              "26599 -0.739466  0.971679 -0.272621  ...      1.711144       59.475806  drive01\n",
              "\n",
              "[25530 rows x 11 columns]"
            ]
          },
          "metadata": {
            "tags": []
          },
          "execution_count": 5
        }
      ]
    },
    {
      "cell_type": "code",
      "metadata": {
        "id": "XLc4OSxtGP2d",
        "colab_type": "code",
        "colab": {}
      },
      "source": [
        "base=base_cleaned\n",
        "X = base.iloc[:,0:10].values #ao colocar 1:2, o iloc retorna somente a coluna 1\n",
        "y = base.iloc[:,10:11].values #ao colocar 1:2, o iloc retorna somente a coluna 1"
      ],
      "execution_count": 0,
      "outputs": []
    },
    {
      "cell_type": "code",
      "metadata": {
        "id": "m_SWVsF_oqBL",
        "colab_type": "code",
        "colab": {}
      },
      "source": [
        "\n",
        "# Step2: Spliting in train and test files\n",
        "\n",
        "X_train, X_test, y_train, y_test = train_test_split(X, y, test_size=0.30)\n",
        "\n",
        "cv = ShuffleSplit(n_splits=10, random_state=0)\n",
        "#Linear Regression\n",
        "#lm = linear_model.LinearRegression()\n",
        "#model = lm.fit(X_train, y_train)\n",
        "#y_pred = lm.predict(X_test)\n",
        "#accuracy_score(y_test, y_pred)"
      ],
      "execution_count": 0,
      "outputs": []
    },
    {
      "cell_type": "code",
      "metadata": {
        "id": "rHihGe16w01K",
        "colab_type": "code",
        "colab": {}
      },
      "source": [
        ""
      ],
      "execution_count": 0,
      "outputs": []
    },
    {
      "cell_type": "code",
      "metadata": {
        "id": "yGs3DXyGosmA",
        "colab_type": "code",
        "colab": {}
      },
      "source": [
        "# Step 3: Fit a Decision Tree model as comparison\n",
        "#Using cross-validation\n",
        "clf = DecisionTreeClassifier()\n",
        "resultados = cross_val_score(estimator = clf,\n",
        "                             X = X, y = y,\n",
        "                             cv = cv, scoring = 'accuracy')\n",
        "\n",
        "media = resultados.mean()\n",
        "desvio = resultados.std()\n",
        "#getting metrics\n"
      ],
      "execution_count": 0,
      "outputs": []
    },
    {
      "cell_type": "code",
      "metadata": {
        "id": "8q9lvvWJHIvo",
        "colab_type": "code",
        "outputId": "654cf405-fe6f-4ac2-ab75-ce9a873d9c4a",
        "colab": {
          "base_uri": "https://localhost:8080/",
          "height": 34
        }
      },
      "source": [
        "\n",
        "start = time.time()\n",
        "clf = DecisionTreeClassifier()\n",
        "clf.fit(X_train, y_train)\n",
        "end = time.time()\n",
        "y_pred = clf.predict(X_test)\n",
        "acc=accuracy_score(y_test, y_pred)\n",
        "f1=f1_score(y_test, y_pred, average='macro')\n",
        "recall=recall_score(y_test, y_pred, average='macro')\n",
        "precision=precision_score(y_test, y_pred, average='macro')\n",
        "#roc=roc_auc_score(y_test, y_pred)\n",
        "metrics_DT =[(end-start),media, desvio,acc,f1,recall,precision]\n",
        "print(metrics_DT)\n"
      ],
      "execution_count": 0,
      "outputs": [
        {
          "output_type": "stream",
          "text": [
            "[0.28552746772766113, 0.8310614962788876, 0.007363573094683877, 0.833268050659355, 0.8326651205022728, 0.8331348319628357, 0.8323177668902997]\n"
          ],
          "name": "stdout"
        }
      ]
    },
    {
      "cell_type": "code",
      "metadata": {
        "id": "aWuzLf3qLtKm",
        "colab_type": "code",
        "colab": {}
      },
      "source": [
        "\n",
        " "
      ],
      "execution_count": 0,
      "outputs": []
    },
    {
      "cell_type": "code",
      "metadata": {
        "id": "rxR8Yx1JIY8K",
        "colab_type": "code",
        "colab": {}
      },
      "source": [
        ""
      ],
      "execution_count": 0,
      "outputs": []
    },
    {
      "cell_type": "code",
      "metadata": {
        "id": "oTlJtEWEowWy",
        "colab_type": "code",
        "outputId": "08da0ef6-6af8-45ac-cb4d-2a42b0be9037",
        "colab": {
          "base_uri": "https://localhost:8080/",
          "height": 377
        }
      },
      "source": [
        "# Step 3: Fit a Random Forest Model model as comparison\n",
        "#Using cross-validation\n",
        "clf = RandomForestClassifier(n_estimators=200, max_depth=100, min_samples_leaf=3, min_samples_split=10, n_jobs=-1)\n",
        "resultados = cross_val_score(estimator = clf,\n",
        "                             X = X, y = y,\n",
        "                             cv = cv, scoring = 'accuracy')\n",
        "media = resultados.mean()\n",
        "desvio = resultados.std()\n"
      ],
      "execution_count": 0,
      "outputs": [
        {
          "output_type": "stream",
          "text": [
            "/usr/local/lib/python3.6/dist-packages/sklearn/model_selection/_validation.py:515: DataConversionWarning: A column-vector y was passed when a 1d array was expected. Please change the shape of y to (n_samples,), for example using ravel().\n",
            "  estimator.fit(X_train, y_train, **fit_params)\n",
            "/usr/local/lib/python3.6/dist-packages/sklearn/model_selection/_validation.py:515: DataConversionWarning: A column-vector y was passed when a 1d array was expected. Please change the shape of y to (n_samples,), for example using ravel().\n",
            "  estimator.fit(X_train, y_train, **fit_params)\n",
            "/usr/local/lib/python3.6/dist-packages/sklearn/model_selection/_validation.py:515: DataConversionWarning: A column-vector y was passed when a 1d array was expected. Please change the shape of y to (n_samples,), for example using ravel().\n",
            "  estimator.fit(X_train, y_train, **fit_params)\n",
            "/usr/local/lib/python3.6/dist-packages/sklearn/model_selection/_validation.py:515: DataConversionWarning: A column-vector y was passed when a 1d array was expected. Please change the shape of y to (n_samples,), for example using ravel().\n",
            "  estimator.fit(X_train, y_train, **fit_params)\n",
            "/usr/local/lib/python3.6/dist-packages/sklearn/model_selection/_validation.py:515: DataConversionWarning: A column-vector y was passed when a 1d array was expected. Please change the shape of y to (n_samples,), for example using ravel().\n",
            "  estimator.fit(X_train, y_train, **fit_params)\n",
            "/usr/local/lib/python3.6/dist-packages/sklearn/model_selection/_validation.py:515: DataConversionWarning: A column-vector y was passed when a 1d array was expected. Please change the shape of y to (n_samples,), for example using ravel().\n",
            "  estimator.fit(X_train, y_train, **fit_params)\n",
            "/usr/local/lib/python3.6/dist-packages/sklearn/model_selection/_validation.py:515: DataConversionWarning: A column-vector y was passed when a 1d array was expected. Please change the shape of y to (n_samples,), for example using ravel().\n",
            "  estimator.fit(X_train, y_train, **fit_params)\n",
            "/usr/local/lib/python3.6/dist-packages/sklearn/model_selection/_validation.py:515: DataConversionWarning: A column-vector y was passed when a 1d array was expected. Please change the shape of y to (n_samples,), for example using ravel().\n",
            "  estimator.fit(X_train, y_train, **fit_params)\n",
            "/usr/local/lib/python3.6/dist-packages/sklearn/model_selection/_validation.py:515: DataConversionWarning: A column-vector y was passed when a 1d array was expected. Please change the shape of y to (n_samples,), for example using ravel().\n",
            "  estimator.fit(X_train, y_train, **fit_params)\n",
            "/usr/local/lib/python3.6/dist-packages/sklearn/model_selection/_validation.py:515: DataConversionWarning: A column-vector y was passed when a 1d array was expected. Please change the shape of y to (n_samples,), for example using ravel().\n",
            "  estimator.fit(X_train, y_train, **fit_params)\n"
          ],
          "name": "stderr"
        }
      ]
    },
    {
      "cell_type": "code",
      "metadata": {
        "id": "MZR7GILgz0gD",
        "colab_type": "code",
        "outputId": "91d77f43-fed8-49e8-f3ff-5bbfb806d275",
        "colab": {
          "base_uri": "https://localhost:8080/",
          "height": 71
        }
      },
      "source": [
        "#getting metrics\n",
        "start = time.time()\n",
        "clf = RandomForestClassifier(n_estimators=200, max_depth=100, min_samples_leaf=3, min_samples_split=10, n_jobs=-1)\n",
        "clf.fit(X_train, y_train)\n",
        "end = time.time()\n",
        "y_pred = clf.predict(X_test)"
      ],
      "execution_count": 0,
      "outputs": [
        {
          "output_type": "stream",
          "text": [
            "/usr/local/lib/python3.6/dist-packages/ipykernel_launcher.py:3: DataConversionWarning: A column-vector y was passed when a 1d array was expected. Please change the shape of y to (n_samples,), for example using ravel().\n",
            "  This is separate from the ipykernel package so we can avoid doing imports until\n"
          ],
          "name": "stderr"
        }
      ]
    },
    {
      "cell_type": "code",
      "metadata": {
        "id": "nL9MFBdMy940",
        "colab_type": "code",
        "outputId": "628160c4-cec9-4296-ce42-6f002c0b98e0",
        "colab": {
          "base_uri": "https://localhost:8080/",
          "height": 34
        }
      },
      "source": [
        "acc=accuracy_score(y_test, y_pred)\n",
        "f1=f1_score(y_test, y_pred, average='macro')\n",
        "recall=recall_score(y_test, y_pred, average='macro')\n",
        "precision=precision_score(y_test, y_pred, average='macro')\n",
        "#roc=roc_auc_score(y_test, y_pred,multi_class='ovr')\n",
        "#msq= roc_curve(y_test, y_pred)\n",
        "metrics_RF=[(end-start),media, desvio,acc,f1,recall,precision]\n",
        "print(metrics_RF)"
      ],
      "execution_count": 0,
      "outputs": [
        {
          "output_type": "stream",
          "text": [
            "[3.6919546127319336, 0.8835095965530748, 0.006967787111808959, 0.8815772294033164, 0.8810483583879948, 0.8813104006039806, 0.881213108081593]\n"
          ],
          "name": "stdout"
        }
      ]
    },
    {
      "cell_type": "code",
      "metadata": {
        "id": "ne-mjn4UQb-z",
        "colab_type": "code",
        "colab": {}
      },
      "source": [
        ""
      ],
      "execution_count": 0,
      "outputs": []
    },
    {
      "cell_type": "code",
      "metadata": {
        "id": "S5NP8pTvRKcn",
        "colab_type": "code",
        "outputId": "faaef980-0c44-4e54-c406-aeed59a55658",
        "colab": {
          "base_uri": "https://localhost:8080/",
          "height": 34
        }
      },
      "source": [
        "metrics_RF[2]"
      ],
      "execution_count": 0,
      "outputs": [
        {
          "output_type": "execute_result",
          "data": {
            "text/plain": [
              "0.006967787111808959"
            ]
          },
          "metadata": {
            "tags": []
          },
          "execution_count": 13
        }
      ]
    },
    {
      "cell_type": "code",
      "metadata": {
        "id": "ueqUYPksKSI5",
        "colab_type": "code",
        "colab": {}
      },
      "source": [
        ""
      ],
      "execution_count": 0,
      "outputs": []
    },
    {
      "cell_type": "code",
      "metadata": {
        "id": "rOQyQmK2ozCE",
        "colab_type": "code",
        "outputId": "c14b6765-965b-4498-9691-049141855301",
        "colab": {
          "base_uri": "https://localhost:8080/",
          "height": 394
        }
      },
      "source": [
        "# Step 3: Fit a ExtraTreesClassifier Model model as comparison\n",
        "#Using cross-validation\n",
        "clf = ExtraTreesClassifier(n_estimators=100, max_features=\"auto\",random_state=0)\n",
        "resultados = cross_val_score(estimator = clf,\n",
        "                             X = X, y = y,\n",
        "                             cv = cv, scoring = 'accuracy')\n",
        "media = resultados.mean()\n",
        "desvio = resultados.std()\n",
        "print(media,desvio)\n"
      ],
      "execution_count": 0,
      "outputs": [
        {
          "output_type": "stream",
          "text": [
            "/usr/local/lib/python3.6/dist-packages/sklearn/model_selection/_validation.py:515: DataConversionWarning: A column-vector y was passed when a 1d array was expected. Please change the shape of y to (n_samples,), for example using ravel().\n",
            "  estimator.fit(X_train, y_train, **fit_params)\n",
            "/usr/local/lib/python3.6/dist-packages/sklearn/model_selection/_validation.py:515: DataConversionWarning: A column-vector y was passed when a 1d array was expected. Please change the shape of y to (n_samples,), for example using ravel().\n",
            "  estimator.fit(X_train, y_train, **fit_params)\n",
            "/usr/local/lib/python3.6/dist-packages/sklearn/model_selection/_validation.py:515: DataConversionWarning: A column-vector y was passed when a 1d array was expected. Please change the shape of y to (n_samples,), for example using ravel().\n",
            "  estimator.fit(X_train, y_train, **fit_params)\n",
            "/usr/local/lib/python3.6/dist-packages/sklearn/model_selection/_validation.py:515: DataConversionWarning: A column-vector y was passed when a 1d array was expected. Please change the shape of y to (n_samples,), for example using ravel().\n",
            "  estimator.fit(X_train, y_train, **fit_params)\n",
            "/usr/local/lib/python3.6/dist-packages/sklearn/model_selection/_validation.py:515: DataConversionWarning: A column-vector y was passed when a 1d array was expected. Please change the shape of y to (n_samples,), for example using ravel().\n",
            "  estimator.fit(X_train, y_train, **fit_params)\n",
            "/usr/local/lib/python3.6/dist-packages/sklearn/model_selection/_validation.py:515: DataConversionWarning: A column-vector y was passed when a 1d array was expected. Please change the shape of y to (n_samples,), for example using ravel().\n",
            "  estimator.fit(X_train, y_train, **fit_params)\n",
            "/usr/local/lib/python3.6/dist-packages/sklearn/model_selection/_validation.py:515: DataConversionWarning: A column-vector y was passed when a 1d array was expected. Please change the shape of y to (n_samples,), for example using ravel().\n",
            "  estimator.fit(X_train, y_train, **fit_params)\n",
            "/usr/local/lib/python3.6/dist-packages/sklearn/model_selection/_validation.py:515: DataConversionWarning: A column-vector y was passed when a 1d array was expected. Please change the shape of y to (n_samples,), for example using ravel().\n",
            "  estimator.fit(X_train, y_train, **fit_params)\n",
            "/usr/local/lib/python3.6/dist-packages/sklearn/model_selection/_validation.py:515: DataConversionWarning: A column-vector y was passed when a 1d array was expected. Please change the shape of y to (n_samples,), for example using ravel().\n",
            "  estimator.fit(X_train, y_train, **fit_params)\n",
            "/usr/local/lib/python3.6/dist-packages/sklearn/model_selection/_validation.py:515: DataConversionWarning: A column-vector y was passed when a 1d array was expected. Please change the shape of y to (n_samples,), for example using ravel().\n",
            "  estimator.fit(X_train, y_train, **fit_params)\n"
          ],
          "name": "stderr"
        },
        {
          "output_type": "stream",
          "text": [
            "0.8911868390129261 0.006632976689619872\n"
          ],
          "name": "stdout"
        }
      ]
    },
    {
      "cell_type": "code",
      "metadata": {
        "id": "mZQ8cgVPzUSt",
        "colab_type": "code",
        "outputId": "62a996d8-0cf9-4402-ffdd-b6c22855dae7",
        "colab": {
          "base_uri": "https://localhost:8080/",
          "height": 88
        }
      },
      "source": [
        "\n",
        "#getting metrics\n",
        "start = time.time()\n",
        "clf = ExtraTreesClassifier(n_estimators=100, max_features=\"auto\",random_state=0)\n",
        "clf.fit(X_train, y_train)\n",
        "end = time.time()\n",
        "y_pred = clf.predict(X_test)\n",
        "acc=accuracy_score(y_test, y_pred)\n",
        "f1=f1_score(y_test, y_pred, average='macro')\n",
        "recall=recall_score(y_test, y_pred, average='macro')\n",
        "precision=precision_score(y_test, y_pred, average='macro')\n",
        "metrics_extra=[(end-start),media, desvio,acc,f1,recall,precision]\n",
        "print(metrics_extra)"
      ],
      "execution_count": 0,
      "outputs": [
        {
          "output_type": "stream",
          "text": [
            "/usr/local/lib/python3.6/dist-packages/ipykernel_launcher.py:3: DataConversionWarning: A column-vector y was passed when a 1d array was expected. Please change the shape of y to (n_samples,), for example using ravel().\n",
            "  This is separate from the ipykernel package so we can avoid doing imports until\n"
          ],
          "name": "stderr"
        },
        {
          "output_type": "stream",
          "text": [
            "[1.326235294342041, 0.8911868390129261, 0.006632976689619872, 0.8883666274970623, 0.8877073365229915, 0.888150936017449, 0.887827169392853]\n"
          ],
          "name": "stdout"
        }
      ]
    },
    {
      "cell_type": "code",
      "metadata": {
        "id": "fNZlmmeDKUSy",
        "colab_type": "code",
        "colab": {}
      },
      "source": [
        "#plt.scatter(['mean_acc_cv','std','acc_test','f1','recall','precision'], [media, desvio,acc,f1,recall,precision]) #Criando o gráfico\n",
        "#plt.title(metrics[0]) #adicionando o título\n",
        "#plt.xlabel('Metrics')\n",
        "#plt.ylabel('Results')\n",
        "#plt.show()"
      ],
      "execution_count": 0,
      "outputs": []
    },
    {
      "cell_type": "code",
      "metadata": {
        "id": "YC8ddSnno1JA",
        "colab_type": "code",
        "colab": {}
      },
      "source": [
        "# Step 4: Fit a AdaBoost model,\n",
        "#clf = AdaBoostClassifier(n_estimators=100)\n",
        "#resultados = cross_val_score(estimator = clf,\n",
        "#                             X = X, y = y,\n",
        "#                             cv = cv, scoring = 'accuracy')\n",
        "#media = resultados.mean()\n",
        "#desvio = resultados.std()\n",
        "#print(media,desvio)"
      ],
      "execution_count": 0,
      "outputs": []
    },
    {
      "cell_type": "code",
      "metadata": {
        "id": "a5HmrlL7zXA-",
        "colab_type": "code",
        "colab": {}
      },
      "source": [
        "\n",
        "#getting metrics\n",
        "#start = time.time()\n",
        "#clf = AdaBoostClassifier(n_estimators=100)\n",
        "#clf.fit(X_train, y_train)\n",
        "#end = time.time()\n",
        "#y_pred = clf.predict(X_test)\n",
        "#acc=accuracy_score(y_test, y_pred)\n",
        "#f1=f1_score(y_test, y_pred, average='macro')\n",
        "#recall=recall_score(y_test, y_pred, average='macro')\n",
        "#precision=precision_score(y_test, y_pred, average='macro')\n",
        "#roc=roc_auc_score(y_test, y_pred,multi_class='ovr')\n",
        "#metrics_Ada=[(end-start),media, desvio,acc,f1,recall,precision]\n",
        "#print(metrics)"
      ],
      "execution_count": 0,
      "outputs": []
    },
    {
      "cell_type": "code",
      "metadata": {
        "id": "zT-pp__dKZcc",
        "colab_type": "code",
        "colab": {}
      },
      "source": [
        ""
      ],
      "execution_count": 0,
      "outputs": []
    },
    {
      "cell_type": "code",
      "metadata": {
        "id": "94X_L7Fso3QM",
        "colab_type": "code",
        "colab": {}
      },
      "source": [
        "# Step 5: Fit a Gradient Boosting model, \" compared to \"Decision Tree model, accuracy go up by 10%\n",
        "#clf = GradientBoostingClassifier(n_estimators=100)\n",
        "#resultados = cross_val_score(estimator = clf,\n",
        " #                            X = X, y = y,\n",
        "#                           cv = cv, scoring = 'accuracy')\n",
        "#media = resultados.mean()\n",
        "#desvio = resultados.std()\n"
      ],
      "execution_count": 0,
      "outputs": []
    },
    {
      "cell_type": "code",
      "metadata": {
        "id": "0MPLwdYwzZR_",
        "colab_type": "code",
        "colab": {}
      },
      "source": [
        "\n",
        "#getting metrics\n",
        "\n",
        "#start = time.time()\n",
        "#clf = GradientBoostingClassifier(n_estimators=100)\n",
        "#clf.fit(X_train, y_train)\n",
        "#end = time.time()\n",
        "#y_pred = clf.predict(X_test)\n",
        "#acc=accuracy_score(y_test, y_pred)\n",
        "#f1=f1_score(y_test, y_pred, average='macro')\n",
        "#recall=recall_score(y_test, y_pred, average='macro')\n",
        "#precision=precision_score(y_test, y_pred, average='macro')\n",
        "#roc=roc_auc_score(y_test, y_pred,multi_class='ovr')\n",
        "#metrics_Grad=['GradientBoosting',(end-start),media, desvio,acc,f1,recall,precision]\n",
        "#print(metrics_Grad)"
      ],
      "execution_count": 0,
      "outputs": []
    },
    {
      "cell_type": "code",
      "metadata": {
        "id": "TGPGj72QKeDT",
        "colab_type": "code",
        "colab": {}
      },
      "source": [
        "#plt.scatter(['mean_acc_cv','std','acc_test','f1','recall','precision'], [media, desvio,acc,f1,recall,precision]) #Criando o gráfico\n",
        "#plt.title(metrics[0]) #adicionando o título\n",
        "#plt.xlabel('Metrics')\n",
        "#plt.ylabel('Results')\n",
        "#plt.show()"
      ],
      "execution_count": 0,
      "outputs": []
    },
    {
      "cell_type": "code",
      "metadata": {
        "id": "DVGBOq1Do5NU",
        "colab_type": "code",
        "outputId": "154b4a29-0a68-4630-b0fd-3dd64814699b",
        "colab": {
          "base_uri": "https://localhost:8080/",
          "height": 377
        }
      },
      "source": [
        "#SVM\n",
        "# Step 6: Fit a Linear SVM\n",
        "clf = LinearSVC(random_state=0, tol=1e-5, dual=False,)\n",
        "resultados = cross_val_score(estimator = clf,\n",
        "                             X = X, y = y,\n",
        "                             cv = cv, scoring = 'accuracy')\n",
        "media = resultados.mean()\n",
        "desvio = resultados.std()\n"
      ],
      "execution_count": 0,
      "outputs": [
        {
          "output_type": "stream",
          "text": [
            "/usr/local/lib/python3.6/dist-packages/sklearn/utils/validation.py:760: DataConversionWarning: A column-vector y was passed when a 1d array was expected. Please change the shape of y to (n_samples, ), for example using ravel().\n",
            "  y = column_or_1d(y, warn=True)\n",
            "/usr/local/lib/python3.6/dist-packages/sklearn/utils/validation.py:760: DataConversionWarning: A column-vector y was passed when a 1d array was expected. Please change the shape of y to (n_samples, ), for example using ravel().\n",
            "  y = column_or_1d(y, warn=True)\n",
            "/usr/local/lib/python3.6/dist-packages/sklearn/utils/validation.py:760: DataConversionWarning: A column-vector y was passed when a 1d array was expected. Please change the shape of y to (n_samples, ), for example using ravel().\n",
            "  y = column_or_1d(y, warn=True)\n",
            "/usr/local/lib/python3.6/dist-packages/sklearn/utils/validation.py:760: DataConversionWarning: A column-vector y was passed when a 1d array was expected. Please change the shape of y to (n_samples, ), for example using ravel().\n",
            "  y = column_or_1d(y, warn=True)\n",
            "/usr/local/lib/python3.6/dist-packages/sklearn/utils/validation.py:760: DataConversionWarning: A column-vector y was passed when a 1d array was expected. Please change the shape of y to (n_samples, ), for example using ravel().\n",
            "  y = column_or_1d(y, warn=True)\n",
            "/usr/local/lib/python3.6/dist-packages/sklearn/utils/validation.py:760: DataConversionWarning: A column-vector y was passed when a 1d array was expected. Please change the shape of y to (n_samples, ), for example using ravel().\n",
            "  y = column_or_1d(y, warn=True)\n",
            "/usr/local/lib/python3.6/dist-packages/sklearn/utils/validation.py:760: DataConversionWarning: A column-vector y was passed when a 1d array was expected. Please change the shape of y to (n_samples, ), for example using ravel().\n",
            "  y = column_or_1d(y, warn=True)\n",
            "/usr/local/lib/python3.6/dist-packages/sklearn/utils/validation.py:760: DataConversionWarning: A column-vector y was passed when a 1d array was expected. Please change the shape of y to (n_samples, ), for example using ravel().\n",
            "  y = column_or_1d(y, warn=True)\n",
            "/usr/local/lib/python3.6/dist-packages/sklearn/utils/validation.py:760: DataConversionWarning: A column-vector y was passed when a 1d array was expected. Please change the shape of y to (n_samples, ), for example using ravel().\n",
            "  y = column_or_1d(y, warn=True)\n",
            "/usr/local/lib/python3.6/dist-packages/sklearn/utils/validation.py:760: DataConversionWarning: A column-vector y was passed when a 1d array was expected. Please change the shape of y to (n_samples, ), for example using ravel().\n",
            "  y = column_or_1d(y, warn=True)\n"
          ],
          "name": "stderr"
        }
      ]
    },
    {
      "cell_type": "code",
      "metadata": {
        "id": "bjHSGmNGzcoh",
        "colab_type": "code",
        "outputId": "c18ccb84-af12-4d7e-83e2-f1620c23f3fc",
        "colab": {
          "base_uri": "https://localhost:8080/",
          "height": 88
        }
      },
      "source": [
        "\n",
        "#getting metrics\n",
        "start = time.time()\n",
        "clf = LinearSVC(random_state=0, tol=1e-5, dual=False,)\n",
        "clf.fit(X_train, y_train)\n",
        "end = time.time()\n",
        "y_pred = clf.predict(X_test)\n",
        "acc=accuracy_score(y_test, y_pred)\n",
        "f1=f1_score(y_test, y_pred, average='macro')\n",
        "recall=recall_score(y_test, y_pred, average='macro')\n",
        "precision=precision_score(y_test, y_pred, average='macro')\n",
        "#roc=roc_auc_score(y_test, y_pred,multi_class='ovr')\n",
        "metrics_SVM=[(end-start),media, desvio,acc,f1,recall,precision]\n",
        "print(metrics_SVM)"
      ],
      "execution_count": 0,
      "outputs": [
        {
          "output_type": "stream",
          "text": [
            "/usr/local/lib/python3.6/dist-packages/sklearn/utils/validation.py:760: DataConversionWarning: A column-vector y was passed when a 1d array was expected. Please change the shape of y to (n_samples, ), for example using ravel().\n",
            "  y = column_or_1d(y, warn=True)\n"
          ],
          "name": "stderr"
        },
        {
          "output_type": "stream",
          "text": [
            "[1.0496747493743896, 0.6950254602428515, 0.005922775768565877, 0.699177438307873, 0.6733338319474023, 0.6974269437082571, 0.6807495871733258]\n"
          ],
          "name": "stdout"
        }
      ]
    },
    {
      "cell_type": "code",
      "metadata": {
        "id": "xGi09eKAo7Pn",
        "colab_type": "code",
        "outputId": "e0820000-133e-44cc-d731-103c9c7ced87",
        "colab": {
          "base_uri": "https://localhost:8080/",
          "height": 309
        }
      },
      "source": [
        "#step 7: votingrnd_clf = RandomForestClassifier()\n",
        "metrics2=[]\n",
        "dt_clf = DecisionTreeClassifier()\n",
        "rnd_clf = RandomForestClassifier(n_estimators=100, max_features=\"auto\",random_state=0)\n",
        "ext_clf = ExtraTreesClassifier(n_estimators=100, max_features=\"auto\",random_state=0)\n",
        "voting_clf = VotingClassifier(\n",
        "        estimators=[('lr', dt_clf), ('rf', rnd_clf), ('ext', ext_clf)],\n",
        "        voting='hard')\n",
        "voting_clf.fit(X_train, y_train)\n",
        "for clf in (dt_clf, rnd_clf, ext_clf, voting_clf):\n",
        "    clf.fit(X_train, y_train)\n",
        "    y_pred = clf.predict(X_test)\n",
        "    #metrics2.append(accuracy_score(y_test, y_pred))\n",
        "    print(clf.__class__.__name__, accuracy_score(y_test, y_pred))\n",
        "\n",
        "acc=accuracy_score(y_test, y_pred)\n",
        "f1=f1_score(y_test, y_pred, average='macro')\n",
        "recall=recall_score(y_test, y_pred, average='macro')\n",
        "precision=precision_score(y_test, y_pred, average='macro')\n",
        "#roc=roc_auc_score(y_test, y_pred,multi_class='ovr')\n",
        "metrics_voting=[(end-start),media, desvio,acc,f1,recall,precision]"
      ],
      "execution_count": 0,
      "outputs": [
        {
          "output_type": "stream",
          "text": [
            "/usr/local/lib/python3.6/dist-packages/sklearn/preprocessing/_label.py:235: DataConversionWarning: A column-vector y was passed when a 1d array was expected. Please change the shape of y to (n_samples, ), for example using ravel().\n",
            "  y = column_or_1d(y, warn=True)\n",
            "/usr/local/lib/python3.6/dist-packages/sklearn/preprocessing/_label.py:268: DataConversionWarning: A column-vector y was passed when a 1d array was expected. Please change the shape of y to (n_samples, ), for example using ravel().\n",
            "  y = column_or_1d(y, warn=True)\n"
          ],
          "name": "stderr"
        },
        {
          "output_type": "stream",
          "text": [
            "DecisionTreeClassifier 0.8341820080950516\n"
          ],
          "name": "stdout"
        },
        {
          "output_type": "stream",
          "text": [
            "/usr/local/lib/python3.6/dist-packages/ipykernel_launcher.py:10: DataConversionWarning: A column-vector y was passed when a 1d array was expected. Please change the shape of y to (n_samples,), for example using ravel().\n",
            "  # Remove the CWD from sys.path while we load stuff.\n"
          ],
          "name": "stderr"
        },
        {
          "output_type": "stream",
          "text": [
            "RandomForestClassifier 0.8865387126256692\n"
          ],
          "name": "stdout"
        },
        {
          "output_type": "stream",
          "text": [
            "/usr/local/lib/python3.6/dist-packages/ipykernel_launcher.py:10: DataConversionWarning: A column-vector y was passed when a 1d array was expected. Please change the shape of y to (n_samples,), for example using ravel().\n",
            "  # Remove the CWD from sys.path while we load stuff.\n"
          ],
          "name": "stderr"
        },
        {
          "output_type": "stream",
          "text": [
            "ExtraTreesClassifier 0.8883666274970623\n"
          ],
          "name": "stdout"
        },
        {
          "output_type": "stream",
          "text": [
            "/usr/local/lib/python3.6/dist-packages/sklearn/preprocessing/_label.py:235: DataConversionWarning: A column-vector y was passed when a 1d array was expected. Please change the shape of y to (n_samples, ), for example using ravel().\n",
            "  y = column_or_1d(y, warn=True)\n",
            "/usr/local/lib/python3.6/dist-packages/sklearn/preprocessing/_label.py:268: DataConversionWarning: A column-vector y was passed when a 1d array was expected. Please change the shape of y to (n_samples, ), for example using ravel().\n",
            "  y = column_or_1d(y, warn=True)\n"
          ],
          "name": "stderr"
        },
        {
          "output_type": "stream",
          "text": [
            "VotingClassifier 0.8884971928450189\n"
          ],
          "name": "stdout"
        }
      ]
    },
    {
      "cell_type": "code",
      "metadata": {
        "id": "YWF7ZJmW0IBU",
        "colab_type": "code",
        "outputId": "c13a9059-0496-4ba7-955a-bf89a626f8b3",
        "colab": {
          "base_uri": "https://localhost:8080/",
          "height": 309
        }
      },
      "source": [
        "#step 7: votingrnd_clf = RandomForestClassifier()\n",
        "metrics2=[]\n",
        "dt_clf = DecisionTreeClassifier()\n",
        "rnd_clf = RandomForestClassifier(n_estimators=100, max_features=\"auto\",random_state=0)\n",
        "ext_clf = ExtraTreesClassifier(n_estimators=100, max_features=\"auto\",random_state=0)\n",
        "voting_clf = VotingClassifier(\n",
        "        estimators=[('lr', dt_clf), ('rf', rnd_clf), ('ext', ext_clf)],\n",
        "        voting='soft')\n",
        "voting_clf.fit(X_train, y_train)\n",
        "for clf in (dt_clf, rnd_clf, ext_clf, voting_clf):\n",
        "    clf.fit(X_train, y_train)\n",
        "    y_pred = clf.predict(X_test)\n",
        "    #metrics2.append(accuracy_score(y_test, y_pred))\n",
        "    print(clf.__class__.__name__, accuracy_score(y_test, y_pred))\n",
        "\n",
        "acc=accuracy_score(y_test, y_pred)\n",
        "f1=f1_score(y_test, y_pred, average='macro')\n",
        "recall=recall_score(y_test, y_pred, average='macro')\n",
        "precision=precision_score(y_test, y_pred, average='macro')\n",
        "#roc=roc_auc_score(y_test, y_pred,multi_class='ovr')\n",
        "metrics_voting_soft=[(end-start),media, desvio,acc,f1,recall,precision]"
      ],
      "execution_count": 0,
      "outputs": [
        {
          "output_type": "stream",
          "text": [
            "/usr/local/lib/python3.6/dist-packages/sklearn/preprocessing/_label.py:235: DataConversionWarning: A column-vector y was passed when a 1d array was expected. Please change the shape of y to (n_samples, ), for example using ravel().\n",
            "  y = column_or_1d(y, warn=True)\n",
            "/usr/local/lib/python3.6/dist-packages/sklearn/preprocessing/_label.py:268: DataConversionWarning: A column-vector y was passed when a 1d array was expected. Please change the shape of y to (n_samples, ), for example using ravel().\n",
            "  y = column_or_1d(y, warn=True)\n"
          ],
          "name": "stderr"
        },
        {
          "output_type": "stream",
          "text": [
            "DecisionTreeClassifier 0.833659746703225\n"
          ],
          "name": "stdout"
        },
        {
          "output_type": "stream",
          "text": [
            "/usr/local/lib/python3.6/dist-packages/ipykernel_launcher.py:10: DataConversionWarning: A column-vector y was passed when a 1d array was expected. Please change the shape of y to (n_samples,), for example using ravel().\n",
            "  # Remove the CWD from sys.path while we load stuff.\n"
          ],
          "name": "stderr"
        },
        {
          "output_type": "stream",
          "text": [
            "RandomForestClassifier 0.8865387126256692\n"
          ],
          "name": "stdout"
        },
        {
          "output_type": "stream",
          "text": [
            "/usr/local/lib/python3.6/dist-packages/ipykernel_launcher.py:10: DataConversionWarning: A column-vector y was passed when a 1d array was expected. Please change the shape of y to (n_samples,), for example using ravel().\n",
            "  # Remove the CWD from sys.path while we load stuff.\n"
          ],
          "name": "stderr"
        },
        {
          "output_type": "stream",
          "text": [
            "ExtraTreesClassifier 0.8883666274970623\n"
          ],
          "name": "stdout"
        },
        {
          "output_type": "stream",
          "text": [
            "/usr/local/lib/python3.6/dist-packages/sklearn/preprocessing/_label.py:235: DataConversionWarning: A column-vector y was passed when a 1d array was expected. Please change the shape of y to (n_samples, ), for example using ravel().\n",
            "  y = column_or_1d(y, warn=True)\n",
            "/usr/local/lib/python3.6/dist-packages/sklearn/preprocessing/_label.py:268: DataConversionWarning: A column-vector y was passed when a 1d array was expected. Please change the shape of y to (n_samples, ), for example using ravel().\n",
            "  y = column_or_1d(y, warn=True)\n"
          ],
          "name": "stderr"
        },
        {
          "output_type": "stream",
          "text": [
            "VotingClassifier 0.8563781172476824\n"
          ],
          "name": "stdout"
        }
      ]
    },
    {
      "cell_type": "code",
      "metadata": {
        "id": "Nf674AlWKhsU",
        "colab_type": "code",
        "colab": {}
      },
      "source": [
        "#plt.scatter(['mean_acc_cv','std','acc_test','f1','recall','precision'], [media, desvio,acc,f1,recall,precision]) #Criando o gráfico\n",
        "#plt.title(metrics[0]) #adicionando o título\n",
        "#plt.xlabel('Metrics')\n",
        "#plt.ylabel('Results')\n",
        "#plt.show()"
      ],
      "execution_count": 0,
      "outputs": []
    },
    {
      "cell_type": "code",
      "metadata": {
        "id": "jzEQIR1aOuzJ",
        "colab_type": "code",
        "outputId": "bc6baa3f-2c3f-40a3-9b29-dcc4862092b4",
        "colab": {
          "base_uri": "https://localhost:8080/",
          "height": 296
        }
      },
      "source": [
        "dt=plt.scatter(['mean_acc_cv','std','acc_test','f1','recall','precision'], [metrics_DT[1], metrics_DT[2],metrics_DT[3],metrics_DT[4],metrics_DT[5],metrics_DT[6]],\n",
        "            label='DT',marker='^') #Criando o gráfico\n",
        "rf=plt.scatter(['mean_acc_cv','std','acc_test','f1','recall','precision'], [metrics_RF[1], metrics_RF[2],metrics_RF[3],metrics_RF[4],metrics_RF[5],metrics_RF[6]],\n",
        "            label='RF',marker='*') #Criando o gráfico\n",
        "svm=plt.scatter(['mean_acc_cv','std','acc_test','f1','recall','precision'], [metrics_SVM[1], metrics_SVM[2],metrics_SVM[3],metrics_SVM[4],metrics_SVM[5],metrics_SVM[6]],\n",
        "            label='SVM', marker='v') #Criando o gráfico\n",
        "extra=plt.scatter(['mean_acc_cv','std','acc_test','f1','recall','precision'], [metrics_extra[1], metrics_extra[2],metrics_extra[3],metrics_extra[4],metrics_extra[5],metrics_extra[6]],\n",
        "            label='Voting',marker='X') #Criando o gráfico\n",
        "voting= plt.scatter(['mean_acc_cv','std','acc_test','f1','recall','precision'], [metrics_voting[1], metrics_voting[2],metrics_voting[3],metrics_voting[4],metrics_voting[5],metrics_voting[6]],\n",
        "            label='Voting',marker=7) #Criando o gráfico\n",
        "plt.legend((dt, rf,svm,extra,voting),\n",
        "           ('DT', 'RF','SVM','Extra','Voting'),\n",
        "           scatterpoints=1,\n",
        "           loc='lower right',\n",
        "           ncol=3,\n",
        "           fontsize=8)\n",
        "plt.title('All Classifiers') #adicionando o título\n",
        "plt.xlabel('Metrics')\n",
        "plt.ylabel('Results')\n",
        "plt.show()"
      ],
      "execution_count": 0,
      "outputs": [
        {
          "output_type": "display_data",
          "data": {
            "image/png": "[encoded data removed]",
            "text/plain": [
              "<Figure size 432x288 with 1 Axes>"
            ]
          },
          "metadata": {
            "tags": []
          }
        }
      ]
    },
    {
      "cell_type": "code",
      "metadata": {
        "id": "Bj36knTZhs7S",
        "colab_type": "code",
        "outputId": "8f098108-7292-4ecd-b5f9-75cac447eb60",
        "colab": {
          "base_uri": "https://localhost:8080/",
          "height": 265
        }
      },
      "source": [
        "plt.bar('SVM', metrics_SVM[1])\n",
        "plt.show()"
      ],
      "execution_count": 0,
      "outputs": [
        {
          "output_type": "display_data",
          "data": {
            "image/png": "[encoded data removed]",
            "text/plain": [
              "<Figure size 432x288 with 1 Axes>"
            ]
          },
          "metadata": {
            "tags": []
          }
        }
      ]
    },
    {
      "cell_type": "code",
      "metadata": {
        "id": "Uby8KkkyRoRN",
        "colab_type": "code",
        "outputId": "37ba0d14-8d0f-44b1-e985-35a06ed70643",
        "colab": {
          "base_uri": "https://localhost:8080/",
          "height": 296
        }
      },
      "source": [
        "classifiers=('SVM','DT','RF','Extra')\n",
        "results = [metrics_SVM[1],metrics_DT[1], metrics_RF[1], metrics_extra[1]]\n",
        "plt.ylabel(\"Accuracy\")\n",
        "plt.xlabel(\"Classifiers\")\n",
        "plt.bar(classifiers, results, color=['black', 'red', 'green', 'blue', 'cyan'],edgecolor='blue')\n"
      ],
      "execution_count": 0,
      "outputs": [
        {
          "output_type": "execute_result",
          "data": {
            "text/plain": [
              "<BarContainer object of 4 artists>"
            ]
          },
          "metadata": {
            "tags": []
          },
          "execution_count": 28
        },
        {
          "output_type": "display_data",
          "data": {
            "image/png": "[encoded data removed]",
            "text/plain": [
              "<Figure size 432x288 with 1 Axes>"
            ]
          },
          "metadata": {
            "tags": []
          }
        }
      ]
    },
    {
      "cell_type": "code",
      "metadata": {
        "id": "p4V-50mWnrF3",
        "colab_type": "code",
        "colab": {}
      },
      "source": [
        ""
      ],
      "execution_count": 0,
      "outputs": []
    },
    {
      "cell_type": "code",
      "metadata": {
        "id": "QBdCQQ3XQxum",
        "colab_type": "code",
        "outputId": "dd7c651f-5774-4e7f-9cc1-817820c2f72c",
        "colab": {
          "base_uri": "https://localhost:8080/",
          "height": 296
        }
      },
      "source": [
        "dt=plt.scatter(['mean_acc_cv','acc_test','f1','recall','precision'], [metrics_DT[1],metrics_DT[3],metrics_DT[4],metrics_DT[5],metrics_DT[6]],\n",
        "            label='DT',marker='^') #Criando o gráfico\n",
        "rf=plt.scatter(['mean_acc_cv','acc_test','f1','recall','precision'], [metrics_RF[1],metrics_RF[3],metrics_RF[4],metrics_RF[5],metrics_RF[6]],\n",
        "            label='RF',marker='*') #Criando o gráfico\n",
        "svm=plt.scatter(['mean_acc_cv','acc_test','f1','recall','precision'], [metrics_SVM[1],metrics_SVM[3],metrics_SVM[4],metrics_SVM[5],metrics_SVM[6]],\n",
        "            label='SVM', marker='v') #Criando o gráfico\n",
        "extra=plt.scatter(['mean_acc_cv','acc_test','f1','recall','precision'], [metrics_extra[1],metrics_extra[3],metrics_extra[4],metrics_extra[5],metrics_extra[6]],\n",
        "            label='Voting',marker='X') #Criando o gráfico\n",
        "voting= plt.scatter(['mean_acc_cv','acc_test','f1','recall','precision'], [metrics_voting[1],metrics_voting[3],metrics_voting[4],metrics_voting[5],metrics_voting[6]],\n",
        "            label='Voting',marker=7) #Criando o gráfico\n",
        "plt.legend((dt, rf,svm,extra,voting),\n",
        "           ('DT', 'RF','SVM','Extra','Voting'),\n",
        "           scatterpoints=1,\n",
        "           loc='lower right',\n",
        "           ncol=3,\n",
        "           fontsize=8)\n",
        "plt.title('All Classifiers') #adicionando o título\n",
        "plt.xlabel('Metrics')\n",
        "plt.ylabel('Results')\n",
        "plt.show()"
      ],
      "execution_count": 0,
      "outputs": [
        {
          "output_type": "display_data",
          "data": {
            "image/png": "[encoded data removed]",
            "text/plain": [
              "<Figure size 432x288 with 1 Axes>"
            ]
          },
          "metadata": {
            "tags": []
          }
        }
      ]
    },
    {
      "cell_type": "code",
      "metadata": {
        "id": "RnFiQXDSo9KU",
        "colab_type": "code",
        "outputId": "174ae60f-a35a-467b-dd8c-7e181bcf1fe8",
        "colab": {
          "base_uri": "https://localhost:8080/",
          "height": 1000
        }
      },
      "source": [
        "# Step 7: Fit a Neural Network\n",
        "\n",
        "from sklearn.preprocessing import LabelEncoder\n",
        "labelencoder = LabelEncoder()\n",
        "classe_encoder = labelencoder.fit_transform(y)\n",
        "classe_dummy = np_utils.to_categorical(classe_encoder)\n",
        "previsores_treinamento, previsores_teste, classe_treinamento, classe_teste = train_test_split(X, classe_dummy, test_size=0.2)\n",
        "#input_dim=atributos previsores\n",
        "start = time.time()\n",
        "classificador = Sequential()\n",
        "classificador.add(Dense(units = 12, activation = 'relu', input_dim = 10))\n",
        "classificador.add(Dense(units = 12, activation = 'relu'))\n",
        "classificador.add(Dense(units = 12, activation = 'relu'))\n",
        "classificador.add(Dense(units = 12, activation = 'relu'))\n",
        "classificador.add(Dense(units = 12, activation = 'relu'))\n",
        "classificador.add(Dense(units = 14, activation = 'softmax'))\n",
        "classificador.compile(optimizer = 'adam', loss = 'categorical_crossentropy',\n",
        "                      metrics = ['categorical_accuracy'])\n",
        "classificador.fit(previsores_treinamento, classe_treinamento, batch_size = 1000,\n",
        "                  epochs = 1000)\n",
        "end = time.time()\n",
        "resultado = classificador.evaluate(previsores_teste, classe_teste)\n",
        "previsoes = classificador.predict(previsores_teste)\n",
        "acc=accuracy_score(y_test, y_pred)\n",
        "f1=f1_score(y_test, y_pred, average='macro')\n",
        "recall=recall_score(y_test, y_pred, average='macro')\n",
        "precision=precision_score(y_test, y_pred, average='macro')\n",
        "#roc=roc_auc_score(y_test, y_pred,multi_class='ovr')\n",
        "metrics_neural=[(end-start),media, desvio,acc,f1,recall,precision]\n",
        "print(metrics_neural)"
      ],
      "execution_count": 0,
      "outputs": [
        {
          "output_type": "stream",
          "text": [
            "WARNING:tensorflow:From /usr/local/lib/python3.6/dist-packages/keras/backend/tensorflow_backend.py:66: The name tf.get_default_graph is deprecated. Please use tf.compat.v1.get_default_graph instead.\n",
            "\n",
            "WARNING:tensorflow:From /usr/local/lib/python3.6/dist-packages/keras/backend/tensorflow_backend.py:541: The name tf.placeholder is deprecated. Please use tf.compat.v1.placeholder instead.\n",
            "\n",
            "WARNING:tensorflow:From /usr/local/lib/python3.6/dist-packages/keras/backend/tensorflow_backend.py:4432: The name tf.random_uniform is deprecated. Please use tf.random.uniform instead.\n",
            "\n",
            "WARNING:tensorflow:From /usr/local/lib/python3.6/dist-packages/keras/optimizers.py:793: The name tf.train.Optimizer is deprecated. Please use tf.compat.v1.train.Optimizer instead.\n",
            "\n",
            "WARNING:tensorflow:From /usr/local/lib/python3.6/dist-packages/keras/backend/tensorflow_backend.py:3576: The name tf.log is deprecated. Please use tf.math.log instead.\n",
            "\n",
            "WARNING:tensorflow:From /usr/local/lib/python3.6/dist-packages/tensorflow_core/python/ops/math_grad.py:1424: where (from tensorflow.python.ops.array_ops) is deprecated and will be removed in a future version.\n",
            "Instructions for updating:\n",
            "Use tf.where in 2.0, which has the same broadcast rule as np.where\n"
          ],
          "name": "stdout"
        },
        {
          "output_type": "stream",
          "text": [
            "/usr/local/lib/python3.6/dist-packages/sklearn/preprocessing/_label.py:251: DataConversionWarning: A column-vector y was passed when a 1d array was expected. Please change the shape of y to (n_samples, ), for example using ravel().\n",
            "  y = column_or_1d(y, warn=True)\n"
          ],
          "name": "stderr"
        },
        {
          "output_type": "stream",
          "text": [
            "WARNING:tensorflow:From /usr/local/lib/python3.6/dist-packages/keras/backend/tensorflow_backend.py:1033: The name tf.assign_add is deprecated. Please use tf.compat.v1.assign_add instead.\n",
            "\n",
            "WARNING:tensorflow:From /usr/local/lib/python3.6/dist-packages/keras/backend/tensorflow_backend.py:1020: The name tf.assign is deprecated. Please use tf.compat.v1.assign instead.\n",
            "\n",
            "WARNING:tensorflow:From /usr/local/lib/python3.6/dist-packages/keras/backend/tensorflow_backend.py:3005: The name tf.Session is deprecated. Please use tf.compat.v1.Session instead.\n",
            "\n",
            "Epoch 1/1000\n",
            "WARNING:tensorflow:From /usr/local/lib/python3.6/dist-packages/keras/backend/tensorflow_backend.py:190: The name tf.get_default_session is deprecated. Please use tf.compat.v1.get_default_session instead.\n",
            "\n",
            "WARNING:tensorflow:From /usr/local/lib/python3.6/dist-packages/keras/backend/tensorflow_backend.py:197: The name tf.ConfigProto is deprecated. Please use tf.compat.v1.ConfigProto instead.\n",
            "\n",
            "WARNING:tensorflow:From /usr/local/lib/python3.6/dist-packages/keras/backend/tensorflow_backend.py:207: The name tf.global_variables is deprecated. Please use tf.compat.v1.global_variables instead.\n",
            "\n",
            "WARNING:tensorflow:From /usr/local/lib/python3.6/dist-packages/keras/backend/tensorflow_backend.py:216: The name tf.is_variable_initialized is deprecated. Please use tf.compat.v1.is_variable_initialized instead.\n",
            "\n",
            "WARNING:tensorflow:From /usr/local/lib/python3.6/dist-packages/keras/backend/tensorflow_backend.py:223: The name tf.variables_initializer is deprecated. Please use tf.compat.v1.variables_initializer instead.\n",
            "\n",
            "20424/20424 [==============================] - 9s 461us/step - loss: 13.7583 - categorical_accuracy: 0.0758\n",
            "Epoch 2/1000\n",
            "20424/20424 [==============================] - 0s 4us/step - loss: 11.9903 - categorical_accuracy: 0.0867\n",
            "Epoch 3/1000\n",
            "20424/20424 [==============================] - 0s 4us/step - loss: 11.0456 - categorical_accuracy: 0.0754\n",
            "Epoch 4/1000\n",
            "20424/20424 [==============================] - 0s 4us/step - loss: 10.9031 - categorical_accuracy: 0.0924\n",
            "Epoch 5/1000\n",
            "20424/20424 [==============================] - 0s 4us/step - loss: 10.5471 - categorical_accuracy: 0.0958\n",
            "Epoch 6/1000\n",
            "20424/20424 [==============================] - 0s 4us/step - loss: 9.1629 - categorical_accuracy: 0.0771\n",
            "Epoch 7/1000\n",
            "20424/20424 [==============================] - 0s 4us/step - loss: 8.9883 - categorical_accuracy: 0.0926\n",
            "Epoch 8/1000\n",
            "20424/20424 [==============================] - 0s 4us/step - loss: 8.9700 - categorical_accuracy: 0.0734\n",
            "Epoch 9/1000\n",
            "20424/20424 [==============================] - 0s 4us/step - loss: 8.9625 - categorical_accuracy: 0.0838\n",
            "Epoch 10/1000\n",
            "20424/20424 [==============================] - 0s 4us/step - loss: 8.9600 - categorical_accuracy: 0.0822\n",
            "Epoch 11/1000\n",
            "20424/20424 [==============================] - 0s 4us/step - loss: 8.6586 - categorical_accuracy: 0.0914\n",
            "Epoch 12/1000\n",
            "20424/20424 [==============================] - 0s 4us/step - loss: 8.0947 - categorical_accuracy: 0.0828\n",
            "Epoch 13/1000\n",
            "20424/20424 [==============================] - 0s 4us/step - loss: 8.0378 - categorical_accuracy: 0.0712\n",
            "Epoch 14/1000\n",
            "20424/20424 [==============================] - 0s 4us/step - loss: 8.0289 - categorical_accuracy: 0.0877\n",
            "Epoch 15/1000\n",
            "20424/20424 [==============================] - 0s 4us/step - loss: 8.0152 - categorical_accuracy: 0.1045\n",
            "Epoch 16/1000\n",
            "20424/20424 [==============================] - 0s 4us/step - loss: 8.0069 - categorical_accuracy: 0.1048\n",
            "Epoch 17/1000\n",
            "20424/20424 [==============================] - 0s 4us/step - loss: 8.0040 - categorical_accuracy: 0.1074\n",
            "Epoch 18/1000\n",
            "20424/20424 [==============================] - 0s 4us/step - loss: 7.9976 - categorical_accuracy: 0.1079\n",
            "Epoch 19/1000\n",
            "20424/20424 [==============================] - 0s 4us/step - loss: 7.9917 - categorical_accuracy: 0.1055\n",
            "Epoch 20/1000\n",
            "20424/20424 [==============================] - 0s 4us/step - loss: 7.9867 - categorical_accuracy: 0.1251\n",
            "Epoch 21/1000\n",
            "20424/20424 [==============================] - 0s 4us/step - loss: 7.9784 - categorical_accuracy: 0.1189\n",
            "Epoch 22/1000\n",
            "20424/20424 [==============================] - 0s 4us/step - loss: 7.9654 - categorical_accuracy: 0.1232\n",
            "Epoch 23/1000\n",
            "20424/20424 [==============================] - 0s 4us/step - loss: 7.9533 - categorical_accuracy: 0.1190\n",
            "Epoch 24/1000\n",
            "20424/20424 [==============================] - 0s 4us/step - loss: 7.9461 - categorical_accuracy: 0.1309\n",
            "Epoch 25/1000\n",
            "20424/20424 [==============================] - 0s 4us/step - loss: 7.9384 - categorical_accuracy: 0.1396\n",
            "Epoch 26/1000\n",
            "20424/20424 [==============================] - 0s 4us/step - loss: 7.9280 - categorical_accuracy: 0.1332\n",
            "Epoch 27/1000\n",
            "20424/20424 [==============================] - 0s 4us/step - loss: 7.9201 - categorical_accuracy: 0.1426\n",
            "Epoch 28/1000\n",
            "20424/20424 [==============================] - 0s 4us/step - loss: 7.9088 - categorical_accuracy: 0.1379\n",
            "Epoch 29/1000\n",
            "20424/20424 [==============================] - 0s 4us/step - loss: 7.9038 - categorical_accuracy: 0.1452\n",
            "Epoch 30/1000\n",
            "20424/20424 [==============================] - 0s 4us/step - loss: 7.8965 - categorical_accuracy: 0.1512\n",
            "Epoch 31/1000\n",
            "20424/20424 [==============================] - 0s 4us/step - loss: 7.8843 - categorical_accuracy: 0.1515\n",
            "Epoch 32/1000\n",
            "20424/20424 [==============================] - 0s 4us/step - loss: 7.8793 - categorical_accuracy: 0.1585\n",
            "Epoch 33/1000\n",
            "20424/20424 [==============================] - 0s 4us/step - loss: 7.8721 - categorical_accuracy: 0.1630\n",
            "Epoch 34/1000\n",
            "20424/20424 [==============================] - 0s 4us/step - loss: 7.8583 - categorical_accuracy: 0.1706\n",
            "Epoch 35/1000\n",
            "20424/20424 [==============================] - 0s 4us/step - loss: 7.8602 - categorical_accuracy: 0.1704\n",
            "Epoch 36/1000\n",
            "20424/20424 [==============================] - 0s 4us/step - loss: 7.8503 - categorical_accuracy: 0.1647\n",
            "Epoch 37/1000\n",
            "20424/20424 [==============================] - 0s 4us/step - loss: 7.8339 - categorical_accuracy: 0.1915\n",
            "Epoch 38/1000\n",
            "20424/20424 [==============================] - 0s 4us/step - loss: 7.8315 - categorical_accuracy: 0.1848\n",
            "Epoch 39/1000\n",
            "20424/20424 [==============================] - 0s 4us/step - loss: 7.8274 - categorical_accuracy: 0.1921\n",
            "Epoch 40/1000\n",
            "20424/20424 [==============================] - 0s 4us/step - loss: 7.8204 - categorical_accuracy: 0.1898\n",
            "Epoch 41/1000\n",
            "20424/20424 [==============================] - 0s 4us/step - loss: 7.8145 - categorical_accuracy: 0.1956\n",
            "Epoch 42/1000\n",
            "20424/20424 [==============================] - 0s 4us/step - loss: 7.8131 - categorical_accuracy: 0.1998\n",
            "Epoch 43/1000\n",
            "20424/20424 [==============================] - 0s 4us/step - loss: 7.8068 - categorical_accuracy: 0.1923\n",
            "Epoch 44/1000\n",
            "20424/20424 [==============================] - 0s 4us/step - loss: 7.7997 - categorical_accuracy: 0.1964\n",
            "Epoch 45/1000\n",
            "20424/20424 [==============================] - 0s 4us/step - loss: 7.5845 - categorical_accuracy: 0.1840\n",
            "Epoch 46/1000\n",
            "20424/20424 [==============================] - 0s 4us/step - loss: 6.9137 - categorical_accuracy: 0.1765\n",
            "Epoch 47/1000\n",
            "20424/20424 [==============================] - 0s 4us/step - loss: 6.8541 - categorical_accuracy: 0.2098\n",
            "Epoch 48/1000\n",
            "20424/20424 [==============================] - 0s 4us/step - loss: 6.8441 - categorical_accuracy: 0.2122\n",
            "Epoch 49/1000\n",
            "20424/20424 [==============================] - 0s 4us/step - loss: 6.7588 - categorical_accuracy: 0.2112\n",
            "Epoch 50/1000\n",
            "20424/20424 [==============================] - 0s 4us/step - loss: 6.1716 - categorical_accuracy: 0.1212\n",
            "Epoch 51/1000\n",
            "20424/20424 [==============================] - 0s 4us/step - loss: 6.0673 - categorical_accuracy: 0.1251\n",
            "Epoch 52/1000\n",
            "20424/20424 [==============================] - 0s 4us/step - loss: 6.0423 - categorical_accuracy: 0.1580\n",
            "Epoch 53/1000\n",
            "20424/20424 [==============================] - 0s 4us/step - loss: 5.9927 - categorical_accuracy: 0.1663\n",
            "Epoch 54/1000\n",
            "20424/20424 [==============================] - 0s 4us/step - loss: 5.7768 - categorical_accuracy: 0.1941\n",
            "Epoch 55/1000\n",
            "20424/20424 [==============================] - 0s 4us/step - loss: 5.0986 - categorical_accuracy: 0.1586\n",
            "Epoch 56/1000\n",
            "20424/20424 [==============================] - 0s 4us/step - loss: 5.0333 - categorical_accuracy: 0.2144\n",
            "Epoch 57/1000\n",
            "20424/20424 [==============================] - 0s 4us/step - loss: 5.0109 - categorical_accuracy: 0.2104\n",
            "Epoch 58/1000\n",
            "20424/20424 [==============================] - 0s 4us/step - loss: 4.9880 - categorical_accuracy: 0.2332\n",
            "Epoch 59/1000\n",
            "20424/20424 [==============================] - 0s 4us/step - loss: 4.9674 - categorical_accuracy: 0.2346\n",
            "Epoch 60/1000\n",
            "20424/20424 [==============================] - 0s 4us/step - loss: 4.9446 - categorical_accuracy: 0.2384\n",
            "Epoch 61/1000\n",
            "20424/20424 [==============================] - 0s 4us/step - loss: 4.9212 - categorical_accuracy: 0.2457\n",
            "Epoch 62/1000\n",
            "20424/20424 [==============================] - 0s 4us/step - loss: 4.8981 - categorical_accuracy: 0.2660\n",
            "Epoch 63/1000\n",
            "20424/20424 [==============================] - 0s 4us/step - loss: 4.8799 - categorical_accuracy: 0.2707\n",
            "Epoch 64/1000\n",
            "20424/20424 [==============================] - 0s 4us/step - loss: 4.8671 - categorical_accuracy: 0.2807\n",
            "Epoch 65/1000\n",
            "20424/20424 [==============================] - 0s 4us/step - loss: 4.8497 - categorical_accuracy: 0.2787\n",
            "Epoch 66/1000\n",
            "20424/20424 [==============================] - 0s 4us/step - loss: 4.8320 - categorical_accuracy: 0.2856\n",
            "Epoch 67/1000\n",
            "20424/20424 [==============================] - 0s 4us/step - loss: 4.8043 - categorical_accuracy: 0.2827\n",
            "Epoch 68/1000\n",
            "20424/20424 [==============================] - 0s 4us/step - loss: 4.7824 - categorical_accuracy: 0.3028\n",
            "Epoch 69/1000\n",
            "20424/20424 [==============================] - 0s 4us/step - loss: 4.7654 - categorical_accuracy: 0.3104\n",
            "Epoch 70/1000\n",
            "20424/20424 [==============================] - 0s 4us/step - loss: 4.7515 - categorical_accuracy: 0.3089\n",
            "Epoch 71/1000\n",
            "20424/20424 [==============================] - 0s 4us/step - loss: 4.7370 - categorical_accuracy: 0.3202\n",
            "Epoch 72/1000\n",
            "20424/20424 [==============================] - 0s 4us/step - loss: 4.7190 - categorical_accuracy: 0.3296\n",
            "Epoch 73/1000\n",
            "20424/20424 [==============================] - 0s 4us/step - loss: 4.7147 - categorical_accuracy: 0.3288\n",
            "Epoch 74/1000\n",
            "20424/20424 [==============================] - 0s 4us/step - loss: 4.7008 - categorical_accuracy: 0.3352\n",
            "Epoch 75/1000\n",
            "20424/20424 [==============================] - 0s 4us/step - loss: 4.6824 - categorical_accuracy: 0.3462\n",
            "Epoch 76/1000\n",
            "20424/20424 [==============================] - 0s 4us/step - loss: 4.6693 - categorical_accuracy: 0.3557\n",
            "Epoch 77/1000\n",
            "20424/20424 [==============================] - 0s 4us/step - loss: 4.6609 - categorical_accuracy: 0.3561\n",
            "Epoch 78/1000\n",
            "20424/20424 [==============================] - 0s 4us/step - loss: 4.6450 - categorical_accuracy: 0.3687\n",
            "Epoch 79/1000\n",
            "20424/20424 [==============================] - 0s 4us/step - loss: 4.6313 - categorical_accuracy: 0.3729\n",
            "Epoch 80/1000\n",
            "20424/20424 [==============================] - 0s 4us/step - loss: 4.6198 - categorical_accuracy: 0.3806\n",
            "Epoch 81/1000\n",
            "20424/20424 [==============================] - 0s 4us/step - loss: 4.6128 - categorical_accuracy: 0.3807\n",
            "Epoch 82/1000\n",
            "20424/20424 [==============================] - 0s 4us/step - loss: 4.5975 - categorical_accuracy: 0.3890\n",
            "Epoch 83/1000\n",
            "20424/20424 [==============================] - 0s 4us/step - loss: 4.5844 - categorical_accuracy: 0.3886\n",
            "Epoch 84/1000\n",
            "20424/20424 [==============================] - 0s 4us/step - loss: 4.5714 - categorical_accuracy: 0.3976\n",
            "Epoch 85/1000\n",
            "20424/20424 [==============================] - 0s 4us/step - loss: 4.5581 - categorical_accuracy: 0.4077\n",
            "Epoch 86/1000\n",
            "20424/20424 [==============================] - 0s 4us/step - loss: 4.5616 - categorical_accuracy: 0.3910\n",
            "Epoch 87/1000\n",
            "20424/20424 [==============================] - 0s 4us/step - loss: 4.5624 - categorical_accuracy: 0.3916\n",
            "Epoch 88/1000\n",
            "20424/20424 [==============================] - 0s 4us/step - loss: 4.5289 - categorical_accuracy: 0.4090\n",
            "Epoch 89/1000\n",
            "20424/20424 [==============================] - 0s 4us/step - loss: 4.5130 - categorical_accuracy: 0.4239\n",
            "Epoch 90/1000\n",
            "20424/20424 [==============================] - 0s 4us/step - loss: 4.5072 - categorical_accuracy: 0.4200\n",
            "Epoch 91/1000\n",
            "20424/20424 [==============================] - 0s 4us/step - loss: 4.5012 - categorical_accuracy: 0.4165\n",
            "Epoch 92/1000\n",
            "20424/20424 [==============================] - 0s 4us/step - loss: 4.4986 - categorical_accuracy: 0.4116\n",
            "Epoch 93/1000\n",
            "20424/20424 [==============================] - 0s 4us/step - loss: 4.4865 - categorical_accuracy: 0.4185\n",
            "Epoch 94/1000\n",
            "20424/20424 [==============================] - 0s 4us/step - loss: 4.4759 - categorical_accuracy: 0.4252\n",
            "Epoch 95/1000\n",
            "20424/20424 [==============================] - 0s 4us/step - loss: 4.4665 - categorical_accuracy: 0.4246\n",
            "Epoch 96/1000\n",
            "20424/20424 [==============================] - 0s 4us/step - loss: 4.4541 - categorical_accuracy: 0.4388\n",
            "Epoch 97/1000\n",
            "20424/20424 [==============================] - 0s 4us/step - loss: 4.4607 - categorical_accuracy: 0.4213\n",
            "Epoch 98/1000\n",
            "20424/20424 [==============================] - 0s 4us/step - loss: 4.4404 - categorical_accuracy: 0.4410\n",
            "Epoch 99/1000\n",
            "20424/20424 [==============================] - 0s 4us/step - loss: 4.4393 - categorical_accuracy: 0.4292\n",
            "Epoch 100/1000\n",
            "20424/20424 [==============================] - 0s 4us/step - loss: 4.4288 - categorical_accuracy: 0.4409\n",
            "Epoch 101/1000\n",
            "20424/20424 [==============================] - 0s 4us/step - loss: 4.4195 - categorical_accuracy: 0.4454\n",
            "Epoch 102/1000\n",
            "20424/20424 [==============================] - 0s 4us/step - loss: 4.4178 - categorical_accuracy: 0.4365\n",
            "Epoch 103/1000\n",
            "20424/20424 [==============================] - 0s 4us/step - loss: 4.4100 - categorical_accuracy: 0.4492\n",
            "Epoch 104/1000\n",
            "20424/20424 [==============================] - 0s 4us/step - loss: 4.4174 - categorical_accuracy: 0.4362\n",
            "Epoch 105/1000\n",
            "20424/20424 [==============================] - 0s 5us/step - loss: 4.3945 - categorical_accuracy: 0.4532\n",
            "Epoch 106/1000\n",
            "20424/20424 [==============================] - 0s 4us/step - loss: 4.3833 - categorical_accuracy: 0.4693\n",
            "Epoch 107/1000\n",
            "20424/20424 [==============================] - 0s 4us/step - loss: 4.3798 - categorical_accuracy: 0.4655\n",
            "Epoch 108/1000\n",
            "20424/20424 [==============================] - 0s 4us/step - loss: 4.3756 - categorical_accuracy: 0.4616\n",
            "Epoch 109/1000\n",
            "20424/20424 [==============================] - 0s 4us/step - loss: 4.3677 - categorical_accuracy: 0.4633\n",
            "Epoch 110/1000\n",
            "20424/20424 [==============================] - 0s 4us/step - loss: 4.3617 - categorical_accuracy: 0.4643\n",
            "Epoch 111/1000\n",
            "20424/20424 [==============================] - 0s 4us/step - loss: 4.3565 - categorical_accuracy: 0.4744\n",
            "Epoch 112/1000\n",
            "20424/20424 [==============================] - 0s 4us/step - loss: 4.3638 - categorical_accuracy: 0.4483\n",
            "Epoch 113/1000\n",
            "20424/20424 [==============================] - 0s 4us/step - loss: 4.3477 - categorical_accuracy: 0.4753\n",
            "Epoch 114/1000\n",
            "20424/20424 [==============================] - 0s 4us/step - loss: 4.3386 - categorical_accuracy: 0.4819\n",
            "Epoch 115/1000\n",
            "20424/20424 [==============================] - 0s 4us/step - loss: 4.3478 - categorical_accuracy: 0.4685\n",
            "Epoch 116/1000\n",
            "20424/20424 [==============================] - 0s 4us/step - loss: 4.3398 - categorical_accuracy: 0.4726\n",
            "Epoch 117/1000\n",
            "20424/20424 [==============================] - 0s 4us/step - loss: 4.3298 - categorical_accuracy: 0.4825\n",
            "Epoch 118/1000\n",
            "20424/20424 [==============================] - 0s 4us/step - loss: 4.3198 - categorical_accuracy: 0.4988\n",
            "Epoch 119/1000\n",
            "20424/20424 [==============================] - 0s 4us/step - loss: 4.3126 - categorical_accuracy: 0.4977\n",
            "Epoch 120/1000\n",
            "20424/20424 [==============================] - 0s 4us/step - loss: 4.3215 - categorical_accuracy: 0.4787\n",
            "Epoch 121/1000\n",
            "20424/20424 [==============================] - 0s 4us/step - loss: 4.3242 - categorical_accuracy: 0.4756\n",
            "Epoch 122/1000\n",
            "20424/20424 [==============================] - 0s 4us/step - loss: 4.3122 - categorical_accuracy: 0.4852\n",
            "Epoch 123/1000\n",
            "20424/20424 [==============================] - 0s 4us/step - loss: 4.3077 - categorical_accuracy: 0.4803\n",
            "Epoch 124/1000\n",
            "20424/20424 [==============================] - 0s 4us/step - loss: 4.2980 - categorical_accuracy: 0.5013\n",
            "Epoch 125/1000\n",
            "20424/20424 [==============================] - 0s 4us/step - loss: 4.2898 - categorical_accuracy: 0.5073\n",
            "Epoch 126/1000\n",
            "20424/20424 [==============================] - 0s 4us/step - loss: 4.2975 - categorical_accuracy: 0.4902\n",
            "Epoch 127/1000\n",
            "20424/20424 [==============================] - 0s 4us/step - loss: 4.2951 - categorical_accuracy: 0.4885\n",
            "Epoch 128/1000\n",
            "20424/20424 [==============================] - 0s 4us/step - loss: 4.2841 - categorical_accuracy: 0.5016\n",
            "Epoch 129/1000\n",
            "20424/20424 [==============================] - 0s 4us/step - loss: 4.2795 - categorical_accuracy: 0.5057\n",
            "Epoch 130/1000\n",
            "20424/20424 [==============================] - 0s 4us/step - loss: 4.2901 - categorical_accuracy: 0.4863\n",
            "Epoch 131/1000\n",
            "20424/20424 [==============================] - 0s 4us/step - loss: 4.2758 - categorical_accuracy: 0.5023\n",
            "Epoch 132/1000\n",
            "20424/20424 [==============================] - 0s 4us/step - loss: 4.2757 - categorical_accuracy: 0.4997\n",
            "Epoch 133/1000\n",
            "20424/20424 [==============================] - 0s 4us/step - loss: 4.2723 - categorical_accuracy: 0.4966\n",
            "Epoch 134/1000\n",
            "20424/20424 [==============================] - 0s 4us/step - loss: 4.2903 - categorical_accuracy: 0.4773\n",
            "Epoch 135/1000\n",
            "20424/20424 [==============================] - 0s 4us/step - loss: 4.2828 - categorical_accuracy: 0.4815\n",
            "Epoch 136/1000\n",
            "20424/20424 [==============================] - 0s 4us/step - loss: 4.2674 - categorical_accuracy: 0.4956\n",
            "Epoch 137/1000\n",
            "20424/20424 [==============================] - 0s 4us/step - loss: 4.2508 - categorical_accuracy: 0.5183\n",
            "Epoch 138/1000\n",
            "20424/20424 [==============================] - 0s 4us/step - loss: 4.2475 - categorical_accuracy: 0.5221\n",
            "Epoch 139/1000\n",
            "20424/20424 [==============================] - 0s 4us/step - loss: 4.2469 - categorical_accuracy: 0.5260\n",
            "Epoch 140/1000\n",
            "20424/20424 [==============================] - 0s 4us/step - loss: 4.2448 - categorical_accuracy: 0.5146\n",
            "Epoch 141/1000\n",
            "20424/20424 [==============================] - 0s 4us/step - loss: 4.2420 - categorical_accuracy: 0.5188\n",
            "Epoch 142/1000\n",
            "20424/20424 [==============================] - 0s 4us/step - loss: 4.2489 - categorical_accuracy: 0.5113\n",
            "Epoch 143/1000\n",
            "20424/20424 [==============================] - 0s 4us/step - loss: 4.2372 - categorical_accuracy: 0.5218\n",
            "Epoch 144/1000\n",
            "20424/20424 [==============================] - 0s 4us/step - loss: 4.2387 - categorical_accuracy: 0.5140\n",
            "Epoch 145/1000\n",
            "20424/20424 [==============================] - 0s 4us/step - loss: 4.2336 - categorical_accuracy: 0.5158\n",
            "Epoch 146/1000\n",
            "20424/20424 [==============================] - 0s 4us/step - loss: 4.2557 - categorical_accuracy: 0.4922\n",
            "Epoch 147/1000\n",
            "20424/20424 [==============================] - 0s 4us/step - loss: 4.2439 - categorical_accuracy: 0.5029\n",
            "Epoch 148/1000\n",
            "20424/20424 [==============================] - 0s 4us/step - loss: 4.2249 - categorical_accuracy: 0.5251\n",
            "Epoch 149/1000\n",
            "20424/20424 [==============================] - 0s 4us/step - loss: 4.2150 - categorical_accuracy: 0.5340\n",
            "Epoch 150/1000\n",
            "20424/20424 [==============================] - 0s 4us/step - loss: 4.2152 - categorical_accuracy: 0.5321\n",
            "Epoch 151/1000\n",
            "20424/20424 [==============================] - 0s 4us/step - loss: 4.2493 - categorical_accuracy: 0.4893\n",
            "Epoch 152/1000\n",
            "20424/20424 [==============================] - 0s 4us/step - loss: 4.2332 - categorical_accuracy: 0.5029\n",
            "Epoch 153/1000\n",
            "20424/20424 [==============================] - 0s 4us/step - loss: 4.2230 - categorical_accuracy: 0.5142\n",
            "Epoch 154/1000\n",
            "20424/20424 [==============================] - 0s 5us/step - loss: 4.2149 - categorical_accuracy: 0.5222\n",
            "Epoch 155/1000\n",
            "20424/20424 [==============================] - 0s 4us/step - loss: 4.2045 - categorical_accuracy: 0.5376\n",
            "Epoch 156/1000\n",
            "20424/20424 [==============================] - 0s 4us/step - loss: 4.2060 - categorical_accuracy: 0.5284\n",
            "Epoch 157/1000\n",
            "20424/20424 [==============================] - 0s 4us/step - loss: 4.2015 - categorical_accuracy: 0.5350\n",
            "Epoch 158/1000\n",
            "20424/20424 [==============================] - 0s 4us/step - loss: 4.2047 - categorical_accuracy: 0.5255\n",
            "Epoch 159/1000\n",
            "20424/20424 [==============================] - 0s 4us/step - loss: 4.1914 - categorical_accuracy: 0.5443\n",
            "Epoch 160/1000\n",
            "20424/20424 [==============================] - 0s 4us/step - loss: 4.2002 - categorical_accuracy: 0.5256\n",
            "Epoch 161/1000\n",
            "20424/20424 [==============================] - 0s 4us/step - loss: 4.1895 - categorical_accuracy: 0.5407\n",
            "Epoch 162/1000\n",
            "20424/20424 [==============================] - 0s 4us/step - loss: 4.1950 - categorical_accuracy: 0.5336\n",
            "Epoch 163/1000\n",
            "20424/20424 [==============================] - 0s 4us/step - loss: 4.1961 - categorical_accuracy: 0.5339\n",
            "Epoch 164/1000\n",
            "20424/20424 [==============================] - 0s 4us/step - loss: 4.1858 - categorical_accuracy: 0.5392\n",
            "Epoch 165/1000\n",
            "20424/20424 [==============================] - 0s 4us/step - loss: 4.2022 - categorical_accuracy: 0.5219\n",
            "Epoch 166/1000\n",
            "20424/20424 [==============================] - 0s 4us/step - loss: 4.1840 - categorical_accuracy: 0.5386\n",
            "Epoch 167/1000\n",
            "20424/20424 [==============================] - 0s 4us/step - loss: 4.1761 - categorical_accuracy: 0.5459\n",
            "Epoch 168/1000\n",
            "20424/20424 [==============================] - 0s 4us/step - loss: 4.1750 - categorical_accuracy: 0.5495\n",
            "Epoch 169/1000\n",
            "20424/20424 [==============================] - 0s 4us/step - loss: 4.1736 - categorical_accuracy: 0.5472\n",
            "Epoch 170/1000\n",
            "20424/20424 [==============================] - 0s 4us/step - loss: 4.2054 - categorical_accuracy: 0.5103\n",
            "Epoch 171/1000\n",
            "20424/20424 [==============================] - 0s 4us/step - loss: 4.2020 - categorical_accuracy: 0.5101\n",
            "Epoch 172/1000\n",
            "20424/20424 [==============================] - 0s 4us/step - loss: 4.1713 - categorical_accuracy: 0.5453\n",
            "Epoch 173/1000\n",
            "20424/20424 [==============================] - 0s 4us/step - loss: 4.1687 - categorical_accuracy: 0.5472\n",
            "Epoch 174/1000\n",
            "20424/20424 [==============================] - 0s 4us/step - loss: 4.1875 - categorical_accuracy: 0.5231\n",
            "Epoch 175/1000\n",
            "20424/20424 [==============================] - 0s 4us/step - loss: 4.1833 - categorical_accuracy: 0.5306\n",
            "Epoch 176/1000\n",
            "20424/20424 [==============================] - 0s 4us/step - loss: 4.1656 - categorical_accuracy: 0.5476\n",
            "Epoch 177/1000\n",
            "20424/20424 [==============================] - 0s 4us/step - loss: 4.1640 - categorical_accuracy: 0.5458\n",
            "Epoch 178/1000\n",
            "20424/20424 [==============================] - 0s 4us/step - loss: 4.1613 - categorical_accuracy: 0.5449\n",
            "Epoch 179/1000\n",
            "20424/20424 [==============================] - 0s 4us/step - loss: 4.1616 - categorical_accuracy: 0.5458\n",
            "Epoch 180/1000\n",
            "20424/20424 [==============================] - 0s 4us/step - loss: 4.1981 - categorical_accuracy: 0.5109\n",
            "Epoch 181/1000\n",
            "20424/20424 [==============================] - 0s 4us/step - loss: 4.1675 - categorical_accuracy: 0.5366\n",
            "Epoch 182/1000\n",
            "20424/20424 [==============================] - 0s 4us/step - loss: 4.1640 - categorical_accuracy: 0.5443\n",
            "Epoch 183/1000\n",
            "20424/20424 [==============================] - 0s 4us/step - loss: 4.1695 - categorical_accuracy: 0.5346\n",
            "Epoch 184/1000\n",
            "20424/20424 [==============================] - 0s 4us/step - loss: 4.1754 - categorical_accuracy: 0.5289\n",
            "Epoch 185/1000\n",
            "20424/20424 [==============================] - 0s 4us/step - loss: 4.1549 - categorical_accuracy: 0.5466\n",
            "Epoch 186/1000\n",
            "20424/20424 [==============================] - 0s 4us/step - loss: 4.1516 - categorical_accuracy: 0.5549\n",
            "Epoch 187/1000\n",
            "20424/20424 [==============================] - 0s 4us/step - loss: 4.1521 - categorical_accuracy: 0.5509\n",
            "Epoch 188/1000\n",
            "20424/20424 [==============================] - 0s 4us/step - loss: 4.1463 - categorical_accuracy: 0.5573\n",
            "Epoch 189/1000\n",
            "20424/20424 [==============================] - 0s 4us/step - loss: 4.1514 - categorical_accuracy: 0.5492\n",
            "Epoch 190/1000\n",
            "20424/20424 [==============================] - 0s 4us/step - loss: 4.1446 - categorical_accuracy: 0.5562\n",
            "Epoch 191/1000\n",
            "20424/20424 [==============================] - 0s 4us/step - loss: 4.1554 - categorical_accuracy: 0.5404\n",
            "Epoch 192/1000\n",
            "20424/20424 [==============================] - 0s 4us/step - loss: 4.1581 - categorical_accuracy: 0.5377\n",
            "Epoch 193/1000\n",
            "20424/20424 [==============================] - 0s 4us/step - loss: 4.1471 - categorical_accuracy: 0.5559\n",
            "Epoch 194/1000\n",
            "20424/20424 [==============================] - 0s 4us/step - loss: 4.1429 - categorical_accuracy: 0.5549\n",
            "Epoch 195/1000\n",
            "20424/20424 [==============================] - 0s 4us/step - loss: 4.1383 - categorical_accuracy: 0.5613\n",
            "Epoch 196/1000\n",
            "20424/20424 [==============================] - 0s 5us/step - loss: 4.1497 - categorical_accuracy: 0.5446\n",
            "Epoch 197/1000\n",
            "20424/20424 [==============================] - 0s 4us/step - loss: 4.1422 - categorical_accuracy: 0.5537\n",
            "Epoch 198/1000\n",
            "20424/20424 [==============================] - 0s 4us/step - loss: 4.1458 - categorical_accuracy: 0.5462\n",
            "Epoch 199/1000\n",
            "20424/20424 [==============================] - 0s 4us/step - loss: 4.1544 - categorical_accuracy: 0.5358\n",
            "Epoch 200/1000\n",
            "20424/20424 [==============================] - 0s 4us/step - loss: 4.1537 - categorical_accuracy: 0.5360\n",
            "Epoch 201/1000\n",
            "20424/20424 [==============================] - 0s 4us/step - loss: 4.2390 - categorical_accuracy: 0.4925\n",
            "Epoch 202/1000\n",
            "20424/20424 [==============================] - 0s 4us/step - loss: 4.1581 - categorical_accuracy: 0.5323\n",
            "Epoch 203/1000\n",
            "20424/20424 [==============================] - 0s 4us/step - loss: 4.1420 - categorical_accuracy: 0.5506\n",
            "Epoch 204/1000\n",
            "20424/20424 [==============================] - 0s 4us/step - loss: 4.1405 - categorical_accuracy: 0.5478\n",
            "Epoch 205/1000\n",
            "20424/20424 [==============================] - 0s 4us/step - loss: 4.1649 - categorical_accuracy: 0.5251\n",
            "Epoch 206/1000\n",
            "20424/20424 [==============================] - 0s 4us/step - loss: 4.1396 - categorical_accuracy: 0.5502\n",
            "Epoch 207/1000\n",
            "20424/20424 [==============================] - 0s 4us/step - loss: 4.1340 - categorical_accuracy: 0.5566\n",
            "Epoch 208/1000\n",
            "20424/20424 [==============================] - 0s 4us/step - loss: 4.1292 - categorical_accuracy: 0.5634\n",
            "Epoch 209/1000\n",
            "20424/20424 [==============================] - 0s 4us/step - loss: 4.1392 - categorical_accuracy: 0.5511\n",
            "Epoch 210/1000\n",
            "20424/20424 [==============================] - 0s 4us/step - loss: 4.1465 - categorical_accuracy: 0.5463\n",
            "Epoch 211/1000\n",
            "20424/20424 [==============================] - 0s 4us/step - loss: 4.1272 - categorical_accuracy: 0.5606\n",
            "Epoch 212/1000\n",
            "20424/20424 [==============================] - 0s 4us/step - loss: 4.1399 - categorical_accuracy: 0.5477\n",
            "Epoch 213/1000\n",
            "20424/20424 [==============================] - 0s 4us/step - loss: 4.1360 - categorical_accuracy: 0.5477\n",
            "Epoch 214/1000\n",
            "20424/20424 [==============================] - 0s 4us/step - loss: 4.1544 - categorical_accuracy: 0.5329\n",
            "Epoch 215/1000\n",
            "20424/20424 [==============================] - 0s 4us/step - loss: 4.1457 - categorical_accuracy: 0.5424\n",
            "Epoch 216/1000\n",
            "20424/20424 [==============================] - 0s 4us/step - loss: 4.1255 - categorical_accuracy: 0.5643\n",
            "Epoch 217/1000\n",
            "20424/20424 [==============================] - 0s 4us/step - loss: 4.1219 - categorical_accuracy: 0.5687\n",
            "Epoch 218/1000\n",
            "20424/20424 [==============================] - 0s 4us/step - loss: 4.1409 - categorical_accuracy: 0.5443\n",
            "Epoch 219/1000\n",
            "20424/20424 [==============================] - 0s 4us/step - loss: 4.1440 - categorical_accuracy: 0.5415\n",
            "Epoch 220/1000\n",
            "20424/20424 [==============================] - 0s 4us/step - loss: 4.1632 - categorical_accuracy: 0.5262\n",
            "Epoch 221/1000\n",
            "20424/20424 [==============================] - 0s 4us/step - loss: 4.1425 - categorical_accuracy: 0.5430\n",
            "Epoch 222/1000\n",
            "20424/20424 [==============================] - 0s 4us/step - loss: 4.1195 - categorical_accuracy: 0.5662\n",
            "Epoch 223/1000\n",
            "20424/20424 [==============================] - 0s 4us/step - loss: 4.1213 - categorical_accuracy: 0.5627\n",
            "Epoch 224/1000\n",
            "20424/20424 [==============================] - 0s 4us/step - loss: 4.1156 - categorical_accuracy: 0.5671\n",
            "Epoch 225/1000\n",
            "20424/20424 [==============================] - 0s 5us/step - loss: 4.1314 - categorical_accuracy: 0.5484\n",
            "Epoch 226/1000\n",
            "20424/20424 [==============================] - 0s 5us/step - loss: 4.1388 - categorical_accuracy: 0.5416\n",
            "Epoch 227/1000\n",
            "20424/20424 [==============================] - 0s 4us/step - loss: 4.1536 - categorical_accuracy: 0.5329\n",
            "Epoch 228/1000\n",
            "20424/20424 [==============================] - 0s 4us/step - loss: 4.1192 - categorical_accuracy: 0.5613\n",
            "Epoch 229/1000\n",
            "20424/20424 [==============================] - 0s 4us/step - loss: 4.1234 - categorical_accuracy: 0.5555\n",
            "Epoch 230/1000\n",
            "20424/20424 [==============================] - 0s 4us/step - loss: 4.1173 - categorical_accuracy: 0.5602\n",
            "Epoch 231/1000\n",
            "20424/20424 [==============================] - 0s 4us/step - loss: 4.1235 - categorical_accuracy: 0.5494\n",
            "Epoch 232/1000\n",
            "20424/20424 [==============================] - 0s 4us/step - loss: 4.1208 - categorical_accuracy: 0.5552\n",
            "Epoch 233/1000\n",
            "20424/20424 [==============================] - 0s 4us/step - loss: 4.1069 - categorical_accuracy: 0.5708\n",
            "Epoch 234/1000\n",
            "20424/20424 [==============================] - 0s 4us/step - loss: 4.1139 - categorical_accuracy: 0.5608\n",
            "Epoch 235/1000\n",
            "20424/20424 [==============================] - 0s 4us/step - loss: 4.1076 - categorical_accuracy: 0.5705\n",
            "Epoch 236/1000\n",
            "20424/20424 [==============================] - 0s 4us/step - loss: 4.1092 - categorical_accuracy: 0.5660\n",
            "Epoch 237/1000\n",
            "20424/20424 [==============================] - 0s 4us/step - loss: 4.1043 - categorical_accuracy: 0.5688\n",
            "Epoch 238/1000\n",
            "20424/20424 [==============================] - 0s 4us/step - loss: 4.1069 - categorical_accuracy: 0.5660\n",
            "Epoch 239/1000\n",
            "20424/20424 [==============================] - 0s 4us/step - loss: 4.1072 - categorical_accuracy: 0.5703\n",
            "Epoch 240/1000\n",
            "20424/20424 [==============================] - 0s 4us/step - loss: 4.1042 - categorical_accuracy: 0.5708\n",
            "Epoch 241/1000\n",
            "20424/20424 [==============================] - 0s 4us/step - loss: 4.1108 - categorical_accuracy: 0.5621\n",
            "Epoch 242/1000\n",
            "20424/20424 [==============================] - 0s 4us/step - loss: 4.1139 - categorical_accuracy: 0.5569\n",
            "Epoch 243/1000\n",
            "20424/20424 [==============================] - 0s 4us/step - loss: 4.1072 - categorical_accuracy: 0.5674\n",
            "Epoch 244/1000\n",
            "20424/20424 [==============================] - 0s 4us/step - loss: 4.1337 - categorical_accuracy: 0.5387\n",
            "Epoch 245/1000\n",
            "20424/20424 [==============================] - 0s 4us/step - loss: 4.1192 - categorical_accuracy: 0.5511\n",
            "Epoch 246/1000\n",
            "20424/20424 [==============================] - 0s 4us/step - loss: 4.1095 - categorical_accuracy: 0.5637\n",
            "Epoch 247/1000\n",
            "20424/20424 [==============================] - 0s 4us/step - loss: 4.1064 - categorical_accuracy: 0.5684\n",
            "Epoch 248/1000\n",
            "20424/20424 [==============================] - 0s 4us/step - loss: 4.1005 - categorical_accuracy: 0.5686\n",
            "Epoch 249/1000\n",
            "20424/20424 [==============================] - 0s 4us/step - loss: 4.1052 - categorical_accuracy: 0.5652\n",
            "Epoch 250/1000\n",
            "20424/20424 [==============================] - 0s 4us/step - loss: 4.1036 - categorical_accuracy: 0.5650\n",
            "Epoch 251/1000\n",
            "20424/20424 [==============================] - 0s 4us/step - loss: 4.1212 - categorical_accuracy: 0.5470\n",
            "Epoch 252/1000\n",
            "20424/20424 [==============================] - 0s 4us/step - loss: 4.1206 - categorical_accuracy: 0.5456\n",
            "Epoch 253/1000\n",
            "20424/20424 [==============================] - 0s 4us/step - loss: 4.1101 - categorical_accuracy: 0.5588\n",
            "Epoch 254/1000\n",
            "20424/20424 [==============================] - 0s 4us/step - loss: 4.0993 - categorical_accuracy: 0.5703\n",
            "Epoch 255/1000\n",
            "20424/20424 [==============================] - 0s 4us/step - loss: 4.0986 - categorical_accuracy: 0.5692\n",
            "Epoch 256/1000\n",
            "20424/20424 [==============================] - 0s 4us/step - loss: 4.0943 - categorical_accuracy: 0.5750\n",
            "Epoch 257/1000\n",
            "20424/20424 [==============================] - 0s 4us/step - loss: 4.0981 - categorical_accuracy: 0.5689\n",
            "Epoch 258/1000\n",
            "20424/20424 [==============================] - 0s 4us/step - loss: 4.0962 - categorical_accuracy: 0.5726\n",
            "Epoch 259/1000\n",
            "20424/20424 [==============================] - 0s 4us/step - loss: 4.1028 - categorical_accuracy: 0.5611\n",
            "Epoch 260/1000\n",
            "20424/20424 [==============================] - 0s 4us/step - loss: 4.1518 - categorical_accuracy: 0.5286\n",
            "Epoch 261/1000\n",
            "20424/20424 [==============================] - 0s 4us/step - loss: 4.0980 - categorical_accuracy: 0.5655\n",
            "Epoch 262/1000\n",
            "20424/20424 [==============================] - 0s 4us/step - loss: 4.0960 - categorical_accuracy: 0.5679\n",
            "Epoch 263/1000\n",
            "20424/20424 [==============================] - 0s 4us/step - loss: 4.1092 - categorical_accuracy: 0.5582\n",
            "Epoch 264/1000\n",
            "20424/20424 [==============================] - 0s 4us/step - loss: 4.0957 - categorical_accuracy: 0.5690\n",
            "Epoch 265/1000\n",
            "20424/20424 [==============================] - 0s 4us/step - loss: 4.1017 - categorical_accuracy: 0.5646\n",
            "Epoch 266/1000\n",
            "20424/20424 [==============================] - 0s 4us/step - loss: 4.0921 - categorical_accuracy: 0.5707\n",
            "Epoch 267/1000\n",
            "20424/20424 [==============================] - 0s 4us/step - loss: 4.0983 - categorical_accuracy: 0.5677\n",
            "Epoch 268/1000\n",
            "20424/20424 [==============================] - 0s 4us/step - loss: 4.0948 - categorical_accuracy: 0.5689\n",
            "Epoch 269/1000\n",
            "20424/20424 [==============================] - 0s 4us/step - loss: 4.0908 - categorical_accuracy: 0.5735\n",
            "Epoch 270/1000\n",
            "20424/20424 [==============================] - 0s 4us/step - loss: 4.0939 - categorical_accuracy: 0.5681\n",
            "Epoch 271/1000\n",
            "20424/20424 [==============================] - 0s 4us/step - loss: 4.1091 - categorical_accuracy: 0.5513\n",
            "Epoch 272/1000\n",
            "20424/20424 [==============================] - 0s 4us/step - loss: 4.0931 - categorical_accuracy: 0.5708\n",
            "Epoch 273/1000\n",
            "20424/20424 [==============================] - 0s 4us/step - loss: 4.1061 - categorical_accuracy: 0.5571\n",
            "Epoch 274/1000\n",
            "20424/20424 [==============================] - 0s 4us/step - loss: 4.1280 - categorical_accuracy: 0.5376\n",
            "Epoch 275/1000\n",
            "20424/20424 [==============================] - 0s 4us/step - loss: 4.0918 - categorical_accuracy: 0.5692\n",
            "Epoch 276/1000\n",
            "20424/20424 [==============================] - 0s 4us/step - loss: 4.0893 - categorical_accuracy: 0.5725\n",
            "Epoch 277/1000\n",
            "20424/20424 [==============================] - 0s 4us/step - loss: 4.0886 - categorical_accuracy: 0.5710\n",
            "Epoch 278/1000\n",
            "20424/20424 [==============================] - 0s 4us/step - loss: 4.0893 - categorical_accuracy: 0.5690\n",
            "Epoch 279/1000\n",
            "20424/20424 [==============================] - 0s 4us/step - loss: 4.0940 - categorical_accuracy: 0.5656\n",
            "Epoch 280/1000\n",
            "20424/20424 [==============================] - 0s 4us/step - loss: 4.0959 - categorical_accuracy: 0.5658\n",
            "Epoch 281/1000\n",
            "20424/20424 [==============================] - 0s 4us/step - loss: 4.0874 - categorical_accuracy: 0.5699\n",
            "Epoch 282/1000\n",
            "20424/20424 [==============================] - 0s 4us/step - loss: 4.0854 - categorical_accuracy: 0.5731\n",
            "Epoch 283/1000\n",
            "20424/20424 [==============================] - 0s 4us/step - loss: 4.1072 - categorical_accuracy: 0.5533\n",
            "Epoch 284/1000\n",
            "20424/20424 [==============================] - 0s 4us/step - loss: 4.0896 - categorical_accuracy: 0.5684\n",
            "Epoch 285/1000\n",
            "20424/20424 [==============================] - 0s 4us/step - loss: 4.1118 - categorical_accuracy: 0.5472\n",
            "Epoch 286/1000\n",
            "20424/20424 [==============================] - 0s 4us/step - loss: 4.0868 - categorical_accuracy: 0.5702\n",
            "Epoch 287/1000\n",
            "20424/20424 [==============================] - 0s 4us/step - loss: 4.1424 - categorical_accuracy: 0.5266\n",
            "Epoch 288/1000\n",
            "20424/20424 [==============================] - 0s 4us/step - loss: 4.1131 - categorical_accuracy: 0.5443\n",
            "Epoch 289/1000\n",
            "20424/20424 [==============================] - 0s 4us/step - loss: 4.0882 - categorical_accuracy: 0.5654\n",
            "Epoch 290/1000\n",
            "20424/20424 [==============================] - 0s 4us/step - loss: 4.0946 - categorical_accuracy: 0.5621\n",
            "Epoch 291/1000\n",
            "20424/20424 [==============================] - 0s 4us/step - loss: 4.0840 - categorical_accuracy: 0.5708\n",
            "Epoch 292/1000\n",
            "20424/20424 [==============================] - 0s 4us/step - loss: 4.0798 - categorical_accuracy: 0.5762\n",
            "Epoch 293/1000\n",
            "20424/20424 [==============================] - 0s 4us/step - loss: 4.0905 - categorical_accuracy: 0.5641\n",
            "Epoch 294/1000\n",
            "20424/20424 [==============================] - 0s 4us/step - loss: 4.0916 - categorical_accuracy: 0.5671\n",
            "Epoch 295/1000\n",
            "20424/20424 [==============================] - 0s 4us/step - loss: 4.0827 - categorical_accuracy: 0.5706\n",
            "Epoch 296/1000\n",
            "20424/20424 [==============================] - 0s 4us/step - loss: 4.0803 - categorical_accuracy: 0.5742\n",
            "Epoch 297/1000\n",
            "20424/20424 [==============================] - 0s 4us/step - loss: 4.0911 - categorical_accuracy: 0.5675\n",
            "Epoch 298/1000\n",
            "20424/20424 [==============================] - 0s 4us/step - loss: 4.0879 - categorical_accuracy: 0.5651\n",
            "Epoch 299/1000\n",
            "20424/20424 [==============================] - 0s 4us/step - loss: 4.0821 - categorical_accuracy: 0.5718\n",
            "Epoch 300/1000\n",
            "20424/20424 [==============================] - 0s 4us/step - loss: 4.0827 - categorical_accuracy: 0.5713\n",
            "Epoch 301/1000\n",
            "20424/20424 [==============================] - 0s 4us/step - loss: 4.0794 - categorical_accuracy: 0.5721\n",
            "Epoch 302/1000\n",
            "20424/20424 [==============================] - 0s 4us/step - loss: 4.0794 - categorical_accuracy: 0.5745\n",
            "Epoch 303/1000\n",
            "20424/20424 [==============================] - 0s 4us/step - loss: 4.0837 - categorical_accuracy: 0.5678\n",
            "Epoch 304/1000\n",
            "20424/20424 [==============================] - 0s 4us/step - loss: 4.0763 - categorical_accuracy: 0.5740\n",
            "Epoch 305/1000\n",
            "20424/20424 [==============================] - 0s 4us/step - loss: 4.0965 - categorical_accuracy: 0.5586\n",
            "Epoch 306/1000\n",
            "20424/20424 [==============================] - 0s 4us/step - loss: 4.0857 - categorical_accuracy: 0.5632\n",
            "Epoch 307/1000\n",
            "20424/20424 [==============================] - 0s 4us/step - loss: 4.0825 - categorical_accuracy: 0.5690\n",
            "Epoch 308/1000\n",
            "20424/20424 [==============================] - 0s 4us/step - loss: 4.0753 - categorical_accuracy: 0.5768\n",
            "Epoch 309/1000\n",
            "20424/20424 [==============================] - 0s 4us/step - loss: 4.0791 - categorical_accuracy: 0.5706\n",
            "Epoch 310/1000\n",
            "20424/20424 [==============================] - 0s 4us/step - loss: 4.0775 - categorical_accuracy: 0.5753\n",
            "Epoch 311/1000\n",
            "20424/20424 [==============================] - 0s 4us/step - loss: 4.0810 - categorical_accuracy: 0.5691\n",
            "Epoch 312/1000\n",
            "20424/20424 [==============================] - 0s 4us/step - loss: 4.0952 - categorical_accuracy: 0.5563\n",
            "Epoch 313/1000\n",
            "20424/20424 [==============================] - 0s 4us/step - loss: 4.0857 - categorical_accuracy: 0.5624\n",
            "Epoch 314/1000\n",
            "20424/20424 [==============================] - 0s 4us/step - loss: 4.0899 - categorical_accuracy: 0.5611\n",
            "Epoch 315/1000\n",
            "20424/20424 [==============================] - 0s 4us/step - loss: 4.0979 - categorical_accuracy: 0.5541\n",
            "Epoch 316/1000\n",
            "20424/20424 [==============================] - 0s 4us/step - loss: 4.0878 - categorical_accuracy: 0.5622\n",
            "Epoch 317/1000\n",
            "20424/20424 [==============================] - 0s 4us/step - loss: 4.0929 - categorical_accuracy: 0.5575\n",
            "Epoch 318/1000\n",
            "20424/20424 [==============================] - 0s 4us/step - loss: 4.1172 - categorical_accuracy: 0.5442\n",
            "Epoch 319/1000\n",
            "20424/20424 [==============================] - 0s 4us/step - loss: 4.0997 - categorical_accuracy: 0.5514\n",
            "Epoch 320/1000\n",
            "20424/20424 [==============================] - 0s 4us/step - loss: 4.0858 - categorical_accuracy: 0.5651\n",
            "Epoch 321/1000\n",
            "20424/20424 [==============================] - 0s 4us/step - loss: 4.0781 - categorical_accuracy: 0.5722\n",
            "Epoch 322/1000\n",
            "20424/20424 [==============================] - 0s 4us/step - loss: 4.0811 - categorical_accuracy: 0.5665\n",
            "Epoch 323/1000\n",
            "20424/20424 [==============================] - 0s 4us/step - loss: 4.0745 - categorical_accuracy: 0.5735\n",
            "Epoch 324/1000\n",
            "20424/20424 [==============================] - 0s 4us/step - loss: 4.1206 - categorical_accuracy: 0.5342\n",
            "Epoch 325/1000\n",
            "20424/20424 [==============================] - 0s 4us/step - loss: 4.0970 - categorical_accuracy: 0.5552\n",
            "Epoch 326/1000\n",
            "20424/20424 [==============================] - 0s 4us/step - loss: 4.0884 - categorical_accuracy: 0.5606\n",
            "Epoch 327/1000\n",
            "20424/20424 [==============================] - 0s 4us/step - loss: 4.0701 - categorical_accuracy: 0.5763\n",
            "Epoch 328/1000\n",
            "20424/20424 [==============================] - 0s 4us/step - loss: 4.0687 - categorical_accuracy: 0.5760\n",
            "Epoch 329/1000\n",
            "20424/20424 [==============================] - 0s 4us/step - loss: 4.0722 - categorical_accuracy: 0.5749\n",
            "Epoch 330/1000\n",
            "20424/20424 [==============================] - 0s 4us/step - loss: 4.0706 - categorical_accuracy: 0.5781\n",
            "Epoch 331/1000\n",
            "20424/20424 [==============================] - 0s 4us/step - loss: 4.0699 - categorical_accuracy: 0.5755\n",
            "Epoch 332/1000\n",
            "20424/20424 [==============================] - 0s 4us/step - loss: 4.0744 - categorical_accuracy: 0.5743\n",
            "Epoch 333/1000\n",
            "20424/20424 [==============================] - 0s 4us/step - loss: 4.0742 - categorical_accuracy: 0.5672\n",
            "Epoch 334/1000\n",
            "20424/20424 [==============================] - 0s 4us/step - loss: 4.0764 - categorical_accuracy: 0.5693\n",
            "Epoch 335/1000\n",
            "20424/20424 [==============================] - 0s 4us/step - loss: 4.0769 - categorical_accuracy: 0.5694\n",
            "Epoch 336/1000\n",
            "20424/20424 [==============================] - 0s 4us/step - loss: 4.0866 - categorical_accuracy: 0.5623\n",
            "Epoch 337/1000\n",
            "20424/20424 [==============================] - 0s 4us/step - loss: 4.0832 - categorical_accuracy: 0.5637\n",
            "Epoch 338/1000\n",
            "20424/20424 [==============================] - 0s 4us/step - loss: 4.0984 - categorical_accuracy: 0.5508\n",
            "Epoch 339/1000\n",
            "20424/20424 [==============================] - 0s 4us/step - loss: 4.0773 - categorical_accuracy: 0.5672\n",
            "Epoch 340/1000\n",
            "20424/20424 [==============================] - 0s 4us/step - loss: 4.0871 - categorical_accuracy: 0.5608\n",
            "Epoch 341/1000\n",
            "20424/20424 [==============================] - 0s 4us/step - loss: 4.0702 - categorical_accuracy: 0.5740\n",
            "Epoch 342/1000\n",
            "20424/20424 [==============================] - 0s 4us/step - loss: 4.0740 - categorical_accuracy: 0.5714\n",
            "Epoch 343/1000\n",
            "20424/20424 [==============================] - 0s 4us/step - loss: 4.0724 - categorical_accuracy: 0.5754\n",
            "Epoch 344/1000\n",
            "20424/20424 [==============================] - 0s 4us/step - loss: 4.0697 - categorical_accuracy: 0.5756\n",
            "Epoch 345/1000\n",
            "20424/20424 [==============================] - 0s 4us/step - loss: 4.0687 - categorical_accuracy: 0.5745\n",
            "Epoch 346/1000\n",
            "20424/20424 [==============================] - 0s 4us/step - loss: 4.0700 - categorical_accuracy: 0.5729\n",
            "Epoch 347/1000\n",
            "20424/20424 [==============================] - 0s 4us/step - loss: 4.0801 - categorical_accuracy: 0.5626\n",
            "Epoch 348/1000\n",
            "20424/20424 [==============================] - 0s 4us/step - loss: 4.0781 - categorical_accuracy: 0.5638\n",
            "Epoch 349/1000\n",
            "20424/20424 [==============================] - 0s 4us/step - loss: 4.0667 - categorical_accuracy: 0.5770\n",
            "Epoch 350/1000\n",
            "20424/20424 [==============================] - 0s 4us/step - loss: 4.0682 - categorical_accuracy: 0.5717\n",
            "Epoch 351/1000\n",
            "20424/20424 [==============================] - 0s 4us/step - loss: 4.0718 - categorical_accuracy: 0.5735\n",
            "Epoch 352/1000\n",
            "20424/20424 [==============================] - 0s 4us/step - loss: 4.0764 - categorical_accuracy: 0.5647\n",
            "Epoch 353/1000\n",
            "20424/20424 [==============================] - 0s 4us/step - loss: 4.1033 - categorical_accuracy: 0.5421\n",
            "Epoch 354/1000\n",
            "20424/20424 [==============================] - 0s 4us/step - loss: 4.0699 - categorical_accuracy: 0.5691\n",
            "Epoch 355/1000\n",
            "20424/20424 [==============================] - 0s 4us/step - loss: 4.0790 - categorical_accuracy: 0.5673\n",
            "Epoch 356/1000\n",
            "20424/20424 [==============================] - 0s 4us/step - loss: 4.0722 - categorical_accuracy: 0.5686\n",
            "Epoch 357/1000\n",
            "20424/20424 [==============================] - 0s 4us/step - loss: 4.0848 - categorical_accuracy: 0.5613\n",
            "Epoch 358/1000\n",
            "20424/20424 [==============================] - 0s 4us/step - loss: 4.0728 - categorical_accuracy: 0.5685\n",
            "Epoch 359/1000\n",
            "20424/20424 [==============================] - 0s 4us/step - loss: 4.0717 - categorical_accuracy: 0.5687\n",
            "Epoch 360/1000\n",
            "20424/20424 [==============================] - 0s 4us/step - loss: 4.0688 - categorical_accuracy: 0.5708\n",
            "Epoch 361/1000\n",
            "20424/20424 [==============================] - 0s 4us/step - loss: 4.0653 - categorical_accuracy: 0.5762\n",
            "Epoch 362/1000\n",
            "20424/20424 [==============================] - 0s 4us/step - loss: 4.0737 - categorical_accuracy: 0.5659\n",
            "Epoch 363/1000\n",
            "20424/20424 [==============================] - 0s 4us/step - loss: 4.0673 - categorical_accuracy: 0.5704\n",
            "Epoch 364/1000\n",
            "20424/20424 [==============================] - 0s 4us/step - loss: 4.0869 - categorical_accuracy: 0.5547\n",
            "Epoch 365/1000\n",
            "20424/20424 [==============================] - 0s 4us/step - loss: 4.0928 - categorical_accuracy: 0.5463\n",
            "Epoch 366/1000\n",
            "20424/20424 [==============================] - 0s 4us/step - loss: 4.0623 - categorical_accuracy: 0.5781\n",
            "Epoch 367/1000\n",
            "20424/20424 [==============================] - 0s 4us/step - loss: 4.0635 - categorical_accuracy: 0.5750\n",
            "Epoch 368/1000\n",
            "20424/20424 [==============================] - 0s 4us/step - loss: 4.0598 - categorical_accuracy: 0.5744\n",
            "Epoch 369/1000\n",
            "20424/20424 [==============================] - 0s 4us/step - loss: 4.0678 - categorical_accuracy: 0.5711\n",
            "Epoch 370/1000\n",
            "20424/20424 [==============================] - 0s 4us/step - loss: 4.0641 - categorical_accuracy: 0.5711\n",
            "Epoch 371/1000\n",
            "20424/20424 [==============================] - 0s 4us/step - loss: 4.0642 - categorical_accuracy: 0.5720\n",
            "Epoch 372/1000\n",
            "20424/20424 [==============================] - 0s 4us/step - loss: 4.0604 - categorical_accuracy: 0.5751\n",
            "Epoch 373/1000\n",
            "20424/20424 [==============================] - 0s 4us/step - loss: 4.0577 - categorical_accuracy: 0.5804\n",
            "Epoch 374/1000\n",
            "20424/20424 [==============================] - 0s 4us/step - loss: 4.0709 - categorical_accuracy: 0.5648\n",
            "Epoch 375/1000\n",
            "20424/20424 [==============================] - 0s 4us/step - loss: 4.0629 - categorical_accuracy: 0.5725\n",
            "Epoch 376/1000\n",
            "20424/20424 [==============================] - 0s 4us/step - loss: 4.0651 - categorical_accuracy: 0.5699\n",
            "Epoch 377/1000\n",
            "20424/20424 [==============================] - 0s 4us/step - loss: 4.0627 - categorical_accuracy: 0.5731\n",
            "Epoch 378/1000\n",
            "20424/20424 [==============================] - 0s 4us/step - loss: 4.0604 - categorical_accuracy: 0.5763\n",
            "Epoch 379/1000\n",
            "20424/20424 [==============================] - 0s 4us/step - loss: 4.0760 - categorical_accuracy: 0.5604\n",
            "Epoch 380/1000\n",
            "20424/20424 [==============================] - 0s 4us/step - loss: 4.0748 - categorical_accuracy: 0.5612\n",
            "Epoch 381/1000\n",
            "20424/20424 [==============================] - 0s 4us/step - loss: 4.0688 - categorical_accuracy: 0.5659\n",
            "Epoch 382/1000\n",
            "20424/20424 [==============================] - 0s 4us/step - loss: 4.0690 - categorical_accuracy: 0.5636\n",
            "Epoch 383/1000\n",
            "20424/20424 [==============================] - 0s 4us/step - loss: 4.0694 - categorical_accuracy: 0.5653\n",
            "Epoch 384/1000\n",
            "20424/20424 [==============================] - 0s 4us/step - loss: 4.0681 - categorical_accuracy: 0.5656\n",
            "Epoch 385/1000\n",
            "20424/20424 [==============================] - 0s 4us/step - loss: 4.0690 - categorical_accuracy: 0.5667\n",
            "Epoch 386/1000\n",
            "20424/20424 [==============================] - 0s 4us/step - loss: 4.0940 - categorical_accuracy: 0.5461\n",
            "Epoch 387/1000\n",
            "20424/20424 [==============================] - 0s 4us/step - loss: 4.0670 - categorical_accuracy: 0.5652\n",
            "Epoch 388/1000\n",
            "20424/20424 [==============================] - 0s 4us/step - loss: 4.0662 - categorical_accuracy: 0.5635\n",
            "Epoch 389/1000\n",
            "20424/20424 [==============================] - 0s 4us/step - loss: 4.0549 - categorical_accuracy: 0.5788\n",
            "Epoch 390/1000\n",
            "20424/20424 [==============================] - 0s 4us/step - loss: 4.0694 - categorical_accuracy: 0.5645\n",
            "Epoch 391/1000\n",
            "20424/20424 [==============================] - 0s 4us/step - loss: 4.0566 - categorical_accuracy: 0.5719\n",
            "Epoch 392/1000\n",
            "20424/20424 [==============================] - 0s 4us/step - loss: 4.0700 - categorical_accuracy: 0.5612\n",
            "Epoch 393/1000\n",
            "20424/20424 [==============================] - 0s 4us/step - loss: 4.0556 - categorical_accuracy: 0.5765\n",
            "Epoch 394/1000\n",
            "20424/20424 [==============================] - 0s 4us/step - loss: 4.0670 - categorical_accuracy: 0.5637\n",
            "Epoch 395/1000\n",
            "20424/20424 [==============================] - 0s 4us/step - loss: 4.0609 - categorical_accuracy: 0.5698\n",
            "Epoch 396/1000\n",
            "20424/20424 [==============================] - 0s 4us/step - loss: 4.0568 - categorical_accuracy: 0.5742\n",
            "Epoch 397/1000\n",
            "20424/20424 [==============================] - 0s 4us/step - loss: 4.0600 - categorical_accuracy: 0.5711\n",
            "Epoch 398/1000\n",
            "20424/20424 [==============================] - 0s 4us/step - loss: 4.0532 - categorical_accuracy: 0.5729\n",
            "Epoch 399/1000\n",
            "20424/20424 [==============================] - 0s 4us/step - loss: 4.0558 - categorical_accuracy: 0.5755\n",
            "Epoch 400/1000\n",
            "20424/20424 [==============================] - 0s 4us/step - loss: 4.0531 - categorical_accuracy: 0.5766\n",
            "Epoch 401/1000\n",
            "20424/20424 [==============================] - 0s 4us/step - loss: 4.0674 - categorical_accuracy: 0.5651\n",
            "Epoch 402/1000\n",
            "20424/20424 [==============================] - 0s 4us/step - loss: 4.1003 - categorical_accuracy: 0.5401\n",
            "Epoch 403/1000\n",
            "20424/20424 [==============================] - 0s 4us/step - loss: 4.0723 - categorical_accuracy: 0.5576\n",
            "Epoch 404/1000\n",
            "20424/20424 [==============================] - 0s 4us/step - loss: 4.0547 - categorical_accuracy: 0.5723\n",
            "Epoch 405/1000\n",
            "20424/20424 [==============================] - 0s 4us/step - loss: 4.0575 - categorical_accuracy: 0.5675\n",
            "Epoch 406/1000\n",
            "20424/20424 [==============================] - 0s 4us/step - loss: 4.0582 - categorical_accuracy: 0.5692\n",
            "Epoch 407/1000\n",
            "20424/20424 [==============================] - 0s 4us/step - loss: 4.0597 - categorical_accuracy: 0.5691\n",
            "Epoch 408/1000\n",
            "20424/20424 [==============================] - 0s 4us/step - loss: 4.0529 - categorical_accuracy: 0.5783\n",
            "Epoch 409/1000\n",
            "20424/20424 [==============================] - 0s 4us/step - loss: 4.0589 - categorical_accuracy: 0.5682\n",
            "Epoch 410/1000\n",
            "20424/20424 [==============================] - 0s 4us/step - loss: 4.0558 - categorical_accuracy: 0.5728\n",
            "Epoch 411/1000\n",
            "20424/20424 [==============================] - 0s 4us/step - loss: 4.0617 - categorical_accuracy: 0.5679\n",
            "Epoch 412/1000\n",
            "20424/20424 [==============================] - 0s 4us/step - loss: 4.0571 - categorical_accuracy: 0.5699\n",
            "Epoch 413/1000\n",
            "20424/20424 [==============================] - 0s 4us/step - loss: 4.0604 - categorical_accuracy: 0.5650\n",
            "Epoch 414/1000\n",
            "20424/20424 [==============================] - 0s 4us/step - loss: 4.0512 - categorical_accuracy: 0.5754\n",
            "Epoch 415/1000\n",
            "20424/20424 [==============================] - 0s 4us/step - loss: 4.0460 - categorical_accuracy: 0.5786\n",
            "Epoch 416/1000\n",
            "20424/20424 [==============================] - 0s 4us/step - loss: 4.1090 - categorical_accuracy: 0.5324\n",
            "Epoch 417/1000\n",
            "20424/20424 [==============================] - 0s 4us/step - loss: 4.0698 - categorical_accuracy: 0.5564\n",
            "Epoch 418/1000\n",
            "20424/20424 [==============================] - 0s 4us/step - loss: 4.0488 - categorical_accuracy: 0.5734\n",
            "Epoch 419/1000\n",
            "20424/20424 [==============================] - 0s 4us/step - loss: 4.0696 - categorical_accuracy: 0.5574\n",
            "Epoch 420/1000\n",
            "20424/20424 [==============================] - 0s 4us/step - loss: 4.0642 - categorical_accuracy: 0.5584\n",
            "Epoch 421/1000\n",
            "20424/20424 [==============================] - 0s 4us/step - loss: 4.0449 - categorical_accuracy: 0.5791\n",
            "Epoch 422/1000\n",
            "20424/20424 [==============================] - 0s 4us/step - loss: 4.0461 - categorical_accuracy: 0.5739\n",
            "Epoch 423/1000\n",
            "20424/20424 [==============================] - 0s 4us/step - loss: 4.0483 - categorical_accuracy: 0.5741\n",
            "Epoch 424/1000\n",
            "20424/20424 [==============================] - 0s 4us/step - loss: 4.0555 - categorical_accuracy: 0.5689\n",
            "Epoch 425/1000\n",
            "20424/20424 [==============================] - 0s 4us/step - loss: 4.0664 - categorical_accuracy: 0.5620\n",
            "Epoch 426/1000\n",
            "20424/20424 [==============================] - 0s 4us/step - loss: 4.0550 - categorical_accuracy: 0.5684\n",
            "Epoch 427/1000\n",
            "20424/20424 [==============================] - 0s 4us/step - loss: 4.0489 - categorical_accuracy: 0.5733\n",
            "Epoch 428/1000\n",
            "20424/20424 [==============================] - 0s 4us/step - loss: 4.0725 - categorical_accuracy: 0.5533\n",
            "Epoch 429/1000\n",
            "20424/20424 [==============================] - 0s 4us/step - loss: 4.0603 - categorical_accuracy: 0.5610\n",
            "Epoch 430/1000\n",
            "20424/20424 [==============================] - 0s 4us/step - loss: 4.0446 - categorical_accuracy: 0.5765\n",
            "Epoch 431/1000\n",
            "20424/20424 [==============================] - 0s 4us/step - loss: 4.0441 - categorical_accuracy: 0.5787\n",
            "Epoch 432/1000\n",
            "20424/20424 [==============================] - 0s 4us/step - loss: 4.0444 - categorical_accuracy: 0.5722\n",
            "Epoch 433/1000\n",
            "20424/20424 [==============================] - 0s 4us/step - loss: 4.0507 - categorical_accuracy: 0.5691\n",
            "Epoch 434/1000\n",
            "20424/20424 [==============================] - 0s 4us/step - loss: 4.0482 - categorical_accuracy: 0.5713\n",
            "Epoch 435/1000\n",
            "20424/20424 [==============================] - 0s 4us/step - loss: 4.0425 - categorical_accuracy: 0.5781\n",
            "Epoch 436/1000\n",
            "20424/20424 [==============================] - 0s 4us/step - loss: 4.0428 - categorical_accuracy: 0.5746\n",
            "Epoch 437/1000\n",
            "20424/20424 [==============================] - 0s 4us/step - loss: 4.0504 - categorical_accuracy: 0.5727\n",
            "Epoch 438/1000\n",
            "20424/20424 [==============================] - 0s 4us/step - loss: 4.0575 - categorical_accuracy: 0.5626\n",
            "Epoch 439/1000\n",
            "20424/20424 [==============================] - 0s 4us/step - loss: 4.0623 - categorical_accuracy: 0.5609\n",
            "Epoch 440/1000\n",
            "20424/20424 [==============================] - 0s 4us/step - loss: 4.0388 - categorical_accuracy: 0.5784\n",
            "Epoch 441/1000\n",
            "20424/20424 [==============================] - 0s 4us/step - loss: 4.0418 - categorical_accuracy: 0.5739\n",
            "Epoch 442/1000\n",
            "20424/20424 [==============================] - 0s 4us/step - loss: 4.0393 - categorical_accuracy: 0.5779\n",
            "Epoch 443/1000\n",
            "20424/20424 [==============================] - 0s 4us/step - loss: 4.0399 - categorical_accuracy: 0.5764\n",
            "Epoch 444/1000\n",
            "20424/20424 [==============================] - 0s 4us/step - loss: 4.0676 - categorical_accuracy: 0.5537\n",
            "Epoch 445/1000\n",
            "20424/20424 [==============================] - 0s 4us/step - loss: 4.0504 - categorical_accuracy: 0.5649\n",
            "Epoch 446/1000\n",
            "20424/20424 [==============================] - 0s 4us/step - loss: 4.0443 - categorical_accuracy: 0.5672\n",
            "Epoch 447/1000\n",
            "20424/20424 [==============================] - 0s 4us/step - loss: 4.0674 - categorical_accuracy: 0.5535\n",
            "Epoch 448/1000\n",
            "20424/20424 [==============================] - 0s 4us/step - loss: 4.0351 - categorical_accuracy: 0.5802\n",
            "Epoch 449/1000\n",
            "20424/20424 [==============================] - 0s 4us/step - loss: 4.0382 - categorical_accuracy: 0.5767\n",
            "Epoch 450/1000\n",
            "20424/20424 [==============================] - 0s 4us/step - loss: 4.0468 - categorical_accuracy: 0.5653\n",
            "Epoch 451/1000\n",
            "20424/20424 [==============================] - 0s 4us/step - loss: 4.0441 - categorical_accuracy: 0.5697\n",
            "Epoch 452/1000\n",
            "20424/20424 [==============================] - 0s 4us/step - loss: 4.0376 - categorical_accuracy: 0.5708\n",
            "Epoch 453/1000\n",
            "20424/20424 [==============================] - 0s 4us/step - loss: 4.0449 - categorical_accuracy: 0.5696\n",
            "Epoch 454/1000\n",
            "20424/20424 [==============================] - 0s 4us/step - loss: 4.0373 - categorical_accuracy: 0.5740\n",
            "Epoch 455/1000\n",
            "20424/20424 [==============================] - 0s 4us/step - loss: 4.0533 - categorical_accuracy: 0.5629\n",
            "Epoch 456/1000\n",
            "20424/20424 [==============================] - 0s 4us/step - loss: 4.0418 - categorical_accuracy: 0.5696\n",
            "Epoch 457/1000\n",
            "20424/20424 [==============================] - 0s 5us/step - loss: 4.0670 - categorical_accuracy: 0.5515\n",
            "Epoch 458/1000\n",
            "20424/20424 [==============================] - 0s 5us/step - loss: 4.0435 - categorical_accuracy: 0.5683\n",
            "Epoch 459/1000\n",
            "20424/20424 [==============================] - 0s 5us/step - loss: 4.0301 - categorical_accuracy: 0.5826\n",
            "Epoch 460/1000\n",
            "20424/20424 [==============================] - 0s 5us/step - loss: 4.0398 - categorical_accuracy: 0.5689\n",
            "Epoch 461/1000\n",
            "20424/20424 [==============================] - 0s 5us/step - loss: 4.0326 - categorical_accuracy: 0.5784\n",
            "Epoch 462/1000\n",
            "20424/20424 [==============================] - 0s 5us/step - loss: 4.0340 - categorical_accuracy: 0.5764\n",
            "Epoch 463/1000\n",
            "20424/20424 [==============================] - 0s 5us/step - loss: 4.0297 - categorical_accuracy: 0.5809\n",
            "Epoch 464/1000\n",
            "20424/20424 [==============================] - 0s 4us/step - loss: 4.0305 - categorical_accuracy: 0.5781\n",
            "Epoch 465/1000\n",
            "20424/20424 [==============================] - 0s 4us/step - loss: 4.0296 - categorical_accuracy: 0.5800\n",
            "Epoch 466/1000\n",
            "20424/20424 [==============================] - 0s 4us/step - loss: 4.0284 - categorical_accuracy: 0.5790\n",
            "Epoch 467/1000\n",
            "20424/20424 [==============================] - 0s 4us/step - loss: 4.0483 - categorical_accuracy: 0.5622\n",
            "Epoch 468/1000\n",
            "20424/20424 [==============================] - 0s 4us/step - loss: 4.0408 - categorical_accuracy: 0.5676\n",
            "Epoch 469/1000\n",
            "20424/20424 [==============================] - 0s 4us/step - loss: 4.0493 - categorical_accuracy: 0.5649\n",
            "Epoch 470/1000\n",
            "20424/20424 [==============================] - 0s 4us/step - loss: 4.0490 - categorical_accuracy: 0.5612\n",
            "Epoch 471/1000\n",
            "20424/20424 [==============================] - 0s 4us/step - loss: 4.0305 - categorical_accuracy: 0.5750\n",
            "Epoch 472/1000\n",
            "20424/20424 [==============================] - 0s 4us/step - loss: 4.0314 - categorical_accuracy: 0.5748\n",
            "Epoch 473/1000\n",
            "20424/20424 [==============================] - 0s 4us/step - loss: 4.0287 - categorical_accuracy: 0.5780\n",
            "Epoch 474/1000\n",
            "20424/20424 [==============================] - 0s 4us/step - loss: 4.0323 - categorical_accuracy: 0.5754\n",
            "Epoch 475/1000\n",
            "20424/20424 [==============================] - 0s 4us/step - loss: 4.0540 - categorical_accuracy: 0.5569\n",
            "Epoch 476/1000\n",
            "20424/20424 [==============================] - 0s 4us/step - loss: 4.0414 - categorical_accuracy: 0.5626\n",
            "Epoch 477/1000\n",
            "20424/20424 [==============================] - 0s 4us/step - loss: 4.0454 - categorical_accuracy: 0.5609\n",
            "Epoch 478/1000\n",
            "20424/20424 [==============================] - 0s 4us/step - loss: 4.0241 - categorical_accuracy: 0.5787\n",
            "Epoch 479/1000\n",
            "20424/20424 [==============================] - 0s 4us/step - loss: 4.0247 - categorical_accuracy: 0.5778\n",
            "Epoch 480/1000\n",
            "20424/20424 [==============================] - 0s 4us/step - loss: 4.0259 - categorical_accuracy: 0.5786\n",
            "Epoch 481/1000\n",
            "20424/20424 [==============================] - 0s 4us/step - loss: 4.0214 - categorical_accuracy: 0.5808\n",
            "Epoch 482/1000\n",
            "20424/20424 [==============================] - 0s 4us/step - loss: 4.0325 - categorical_accuracy: 0.5694\n",
            "Epoch 483/1000\n",
            "20424/20424 [==============================] - 0s 4us/step - loss: 4.0287 - categorical_accuracy: 0.5739\n",
            "Epoch 484/1000\n",
            "20424/20424 [==============================] - 0s 4us/step - loss: 4.0282 - categorical_accuracy: 0.5756\n",
            "Epoch 485/1000\n",
            "20424/20424 [==============================] - 0s 4us/step - loss: 4.0227 - categorical_accuracy: 0.5788\n",
            "Epoch 486/1000\n",
            "20424/20424 [==============================] - 0s 4us/step - loss: 4.0293 - categorical_accuracy: 0.5745\n",
            "Epoch 487/1000\n",
            "20424/20424 [==============================] - 0s 4us/step - loss: 4.0216 - categorical_accuracy: 0.5822\n",
            "Epoch 488/1000\n",
            "20424/20424 [==============================] - 0s 4us/step - loss: 4.0380 - categorical_accuracy: 0.5679\n",
            "Epoch 489/1000\n",
            "20424/20424 [==============================] - 0s 4us/step - loss: 4.0342 - categorical_accuracy: 0.5731\n",
            "Epoch 490/1000\n",
            "20424/20424 [==============================] - 0s 4us/step - loss: 4.0265 - categorical_accuracy: 0.5742\n",
            "Epoch 491/1000\n",
            "20424/20424 [==============================] - 0s 4us/step - loss: 4.0304 - categorical_accuracy: 0.5685\n",
            "Epoch 492/1000\n",
            "20424/20424 [==============================] - 0s 4us/step - loss: 4.0277 - categorical_accuracy: 0.5719\n",
            "Epoch 493/1000\n",
            "20424/20424 [==============================] - 0s 4us/step - loss: 4.0301 - categorical_accuracy: 0.5697\n",
            "Epoch 494/1000\n",
            "20424/20424 [==============================] - 0s 4us/step - loss: 4.0478 - categorical_accuracy: 0.5606\n",
            "Epoch 495/1000\n",
            "20424/20424 [==============================] - 0s 4us/step - loss: 4.0307 - categorical_accuracy: 0.5709\n",
            "Epoch 496/1000\n",
            "20424/20424 [==============================] - 0s 4us/step - loss: 4.0161 - categorical_accuracy: 0.5830\n",
            "Epoch 497/1000\n",
            "20424/20424 [==============================] - 0s 4us/step - loss: 4.0223 - categorical_accuracy: 0.5754\n",
            "Epoch 498/1000\n",
            "20424/20424 [==============================] - 0s 4us/step - loss: 4.0194 - categorical_accuracy: 0.5800\n",
            "Epoch 499/1000\n",
            "20424/20424 [==============================] - 0s 4us/step - loss: 4.0203 - categorical_accuracy: 0.5775\n",
            "Epoch 500/1000\n",
            "20424/20424 [==============================] - 0s 4us/step - loss: 4.0196 - categorical_accuracy: 0.5802\n",
            "Epoch 501/1000\n",
            "20424/20424 [==============================] - 0s 4us/step - loss: 4.0284 - categorical_accuracy: 0.5682\n",
            "Epoch 502/1000\n",
            "20424/20424 [==============================] - 0s 4us/step - loss: 4.0238 - categorical_accuracy: 0.5744\n",
            "Epoch 503/1000\n",
            "20424/20424 [==============================] - 0s 4us/step - loss: 4.0137 - categorical_accuracy: 0.5844\n",
            "Epoch 504/1000\n",
            "20424/20424 [==============================] - 0s 4us/step - loss: 4.0237 - categorical_accuracy: 0.5732\n",
            "Epoch 505/1000\n",
            "20424/20424 [==============================] - 0s 4us/step - loss: 4.0149 - categorical_accuracy: 0.5835\n",
            "Epoch 506/1000\n",
            "20424/20424 [==============================] - 0s 4us/step - loss: 4.0175 - categorical_accuracy: 0.5811\n",
            "Epoch 507/1000\n",
            "20424/20424 [==============================] - 0s 4us/step - loss: 4.0426 - categorical_accuracy: 0.5618\n",
            "Epoch 508/1000\n",
            "20424/20424 [==============================] - 0s 4us/step - loss: 4.0693 - categorical_accuracy: 0.5441\n",
            "Epoch 509/1000\n",
            "20424/20424 [==============================] - 0s 4us/step - loss: 4.0331 - categorical_accuracy: 0.5658\n",
            "Epoch 510/1000\n",
            "20424/20424 [==============================] - 0s 4us/step - loss: 4.0155 - categorical_accuracy: 0.5792\n",
            "Epoch 511/1000\n",
            "20424/20424 [==============================] - 0s 4us/step - loss: 4.0234 - categorical_accuracy: 0.5735\n",
            "Epoch 512/1000\n",
            "20424/20424 [==============================] - 0s 4us/step - loss: 4.0200 - categorical_accuracy: 0.5711\n",
            "Epoch 513/1000\n",
            "20424/20424 [==============================] - 0s 4us/step - loss: 4.0119 - categorical_accuracy: 0.5818\n",
            "Epoch 514/1000\n",
            "20424/20424 [==============================] - 0s 4us/step - loss: 4.0310 - categorical_accuracy: 0.5659\n",
            "Epoch 515/1000\n",
            "20424/20424 [==============================] - 0s 4us/step - loss: 4.0080 - categorical_accuracy: 0.5842\n",
            "Epoch 516/1000\n",
            "20424/20424 [==============================] - 0s 4us/step - loss: 4.0154 - categorical_accuracy: 0.5791\n",
            "Epoch 517/1000\n",
            "20424/20424 [==============================] - 0s 4us/step - loss: 4.0188 - categorical_accuracy: 0.5736\n",
            "Epoch 518/1000\n",
            "20424/20424 [==============================] - 0s 4us/step - loss: 4.0111 - categorical_accuracy: 0.5820\n",
            "Epoch 519/1000\n",
            "20424/20424 [==============================] - 0s 4us/step - loss: 4.0364 - categorical_accuracy: 0.5635\n",
            "Epoch 520/1000\n",
            "20424/20424 [==============================] - 0s 4us/step - loss: 4.0071 - categorical_accuracy: 0.5853\n",
            "Epoch 521/1000\n",
            "20424/20424 [==============================] - 0s 4us/step - loss: 4.0111 - categorical_accuracy: 0.5800\n",
            "Epoch 522/1000\n",
            "20424/20424 [==============================] - 0s 4us/step - loss: 4.0202 - categorical_accuracy: 0.5747\n",
            "Epoch 523/1000\n",
            "20424/20424 [==============================] - 0s 4us/step - loss: 4.0266 - categorical_accuracy: 0.5689\n",
            "Epoch 524/1000\n",
            "20424/20424 [==============================] - 0s 4us/step - loss: 4.0047 - categorical_accuracy: 0.5867\n",
            "Epoch 525/1000\n",
            "20424/20424 [==============================] - 0s 5us/step - loss: 4.0052 - categorical_accuracy: 0.5855\n",
            "Epoch 526/1000\n",
            "20424/20424 [==============================] - 0s 4us/step - loss: 4.0118 - categorical_accuracy: 0.5800\n",
            "Epoch 527/1000\n",
            "20424/20424 [==============================] - 0s 4us/step - loss: 4.0247 - categorical_accuracy: 0.5694\n",
            "Epoch 528/1000\n",
            "20424/20424 [==============================] - 0s 4us/step - loss: 4.0215 - categorical_accuracy: 0.5702\n",
            "Epoch 529/1000\n",
            "20424/20424 [==============================] - 0s 4us/step - loss: 4.0060 - categorical_accuracy: 0.5861\n",
            "Epoch 530/1000\n",
            "20424/20424 [==============================] - 0s 4us/step - loss: 4.0071 - categorical_accuracy: 0.5867\n",
            "Epoch 531/1000\n",
            "20424/20424 [==============================] - 0s 4us/step - loss: 4.0049 - categorical_accuracy: 0.5856\n",
            "Epoch 532/1000\n",
            "20424/20424 [==============================] - 0s 4us/step - loss: 4.0042 - categorical_accuracy: 0.5852\n",
            "Epoch 533/1000\n",
            "20424/20424 [==============================] - 0s 4us/step - loss: 4.0051 - categorical_accuracy: 0.5847\n",
            "Epoch 534/1000\n",
            "20424/20424 [==============================] - 0s 4us/step - loss: 4.0089 - categorical_accuracy: 0.5794\n",
            "Epoch 535/1000\n",
            "20424/20424 [==============================] - 0s 4us/step - loss: 4.0058 - categorical_accuracy: 0.5831\n",
            "Epoch 536/1000\n",
            "20424/20424 [==============================] - 0s 4us/step - loss: 4.0048 - categorical_accuracy: 0.5836\n",
            "Epoch 537/1000\n",
            "20424/20424 [==============================] - 0s 4us/step - loss: 4.0156 - categorical_accuracy: 0.5766\n",
            "Epoch 538/1000\n",
            "20424/20424 [==============================] - 0s 4us/step - loss: 4.0065 - categorical_accuracy: 0.5802\n",
            "Epoch 539/1000\n",
            "20424/20424 [==============================] - 0s 4us/step - loss: 4.0062 - categorical_accuracy: 0.5832\n",
            "Epoch 540/1000\n",
            "20424/20424 [==============================] - 0s 4us/step - loss: 4.0038 - categorical_accuracy: 0.5838\n",
            "Epoch 541/1000\n",
            "20424/20424 [==============================] - 0s 4us/step - loss: 4.0250 - categorical_accuracy: 0.5675\n",
            "Epoch 542/1000\n",
            "20424/20424 [==============================] - 0s 4us/step - loss: 4.0102 - categorical_accuracy: 0.5761\n",
            "Epoch 543/1000\n",
            "20424/20424 [==============================] - 0s 4us/step - loss: 4.0184 - categorical_accuracy: 0.5724\n",
            "Epoch 544/1000\n",
            "20424/20424 [==============================] - 0s 4us/step - loss: 4.0023 - categorical_accuracy: 0.5871\n",
            "Epoch 545/1000\n",
            "20424/20424 [==============================] - 0s 4us/step - loss: 4.0160 - categorical_accuracy: 0.5741\n",
            "Epoch 546/1000\n",
            "20424/20424 [==============================] - 0s 4us/step - loss: 4.0235 - categorical_accuracy: 0.5721\n",
            "Epoch 547/1000\n",
            "20424/20424 [==============================] - 0s 4us/step - loss: 4.0143 - categorical_accuracy: 0.5738\n",
            "Epoch 548/1000\n",
            "20424/20424 [==============================] - 0s 4us/step - loss: 4.0203 - categorical_accuracy: 0.5704\n",
            "Epoch 549/1000\n",
            "20424/20424 [==============================] - 0s 4us/step - loss: 4.0414 - categorical_accuracy: 0.5559\n",
            "Epoch 550/1000\n",
            "20424/20424 [==============================] - 0s 4us/step - loss: 4.0201 - categorical_accuracy: 0.5698\n",
            "Epoch 551/1000\n",
            "20424/20424 [==============================] - 0s 4us/step - loss: 4.0001 - categorical_accuracy: 0.5862\n",
            "Epoch 552/1000\n",
            "20424/20424 [==============================] - 0s 4us/step - loss: 4.0052 - categorical_accuracy: 0.5801\n",
            "Epoch 553/1000\n",
            "20424/20424 [==============================] - 0s 4us/step - loss: 4.0072 - categorical_accuracy: 0.5785\n",
            "Epoch 554/1000\n",
            "20424/20424 [==============================] - 0s 4us/step - loss: 4.0024 - categorical_accuracy: 0.5830\n",
            "Epoch 555/1000\n",
            "20424/20424 [==============================] - 0s 4us/step - loss: 4.0091 - categorical_accuracy: 0.5746\n",
            "Epoch 556/1000\n",
            "20424/20424 [==============================] - 0s 4us/step - loss: 4.0014 - categorical_accuracy: 0.5843\n",
            "Epoch 557/1000\n",
            "20424/20424 [==============================] - 0s 4us/step - loss: 4.0102 - categorical_accuracy: 0.5736\n",
            "Epoch 558/1000\n",
            "20424/20424 [==============================] - 0s 4us/step - loss: 4.0165 - categorical_accuracy: 0.5746\n",
            "Epoch 559/1000\n",
            "20424/20424 [==============================] - 0s 4us/step - loss: 4.0062 - categorical_accuracy: 0.5778\n",
            "Epoch 560/1000\n",
            "20424/20424 [==============================] - 0s 4us/step - loss: 3.9987 - categorical_accuracy: 0.5830\n",
            "Epoch 561/1000\n",
            "20424/20424 [==============================] - 0s 4us/step - loss: 4.0086 - categorical_accuracy: 0.5787\n",
            "Epoch 562/1000\n",
            "20424/20424 [==============================] - 0s 4us/step - loss: 4.0107 - categorical_accuracy: 0.5767\n",
            "Epoch 563/1000\n",
            "20424/20424 [==============================] - 0s 4us/step - loss: 3.9961 - categorical_accuracy: 0.5883\n",
            "Epoch 564/1000\n",
            "20424/20424 [==============================] - 0s 4us/step - loss: 4.0023 - categorical_accuracy: 0.5821\n",
            "Epoch 565/1000\n",
            "20424/20424 [==============================] - 0s 4us/step - loss: 4.0027 - categorical_accuracy: 0.5813\n",
            "Epoch 566/1000\n",
            "20424/20424 [==============================] - 0s 4us/step - loss: 4.0072 - categorical_accuracy: 0.5787\n",
            "Epoch 567/1000\n",
            "20424/20424 [==============================] - 0s 4us/step - loss: 4.0207 - categorical_accuracy: 0.5660\n",
            "Epoch 568/1000\n",
            "20424/20424 [==============================] - 0s 4us/step - loss: 4.0039 - categorical_accuracy: 0.5820\n",
            "Epoch 569/1000\n",
            "20424/20424 [==============================] - 0s 4us/step - loss: 4.0152 - categorical_accuracy: 0.5712\n",
            "Epoch 570/1000\n",
            "20424/20424 [==============================] - 0s 4us/step - loss: 4.0608 - categorical_accuracy: 0.5463\n",
            "Epoch 571/1000\n",
            "20424/20424 [==============================] - 0s 4us/step - loss: 4.0023 - categorical_accuracy: 0.5796\n",
            "Epoch 572/1000\n",
            "20424/20424 [==============================] - 0s 4us/step - loss: 3.9984 - categorical_accuracy: 0.5839\n",
            "Epoch 573/1000\n",
            "20424/20424 [==============================] - 0s 4us/step - loss: 4.0004 - categorical_accuracy: 0.5835\n",
            "Epoch 574/1000\n",
            "20424/20424 [==============================] - 0s 4us/step - loss: 4.0109 - categorical_accuracy: 0.5733\n",
            "Epoch 575/1000\n",
            "20424/20424 [==============================] - 0s 4us/step - loss: 3.9908 - categorical_accuracy: 0.5899\n",
            "Epoch 576/1000\n",
            "20424/20424 [==============================] - 0s 4us/step - loss: 3.9916 - categorical_accuracy: 0.5892\n",
            "Epoch 577/1000\n",
            "20424/20424 [==============================] - 0s 4us/step - loss: 4.0014 - categorical_accuracy: 0.5825\n",
            "Epoch 578/1000\n",
            "20424/20424 [==============================] - 0s 4us/step - loss: 4.0121 - categorical_accuracy: 0.5737\n",
            "Epoch 579/1000\n",
            "20424/20424 [==============================] - 0s 4us/step - loss: 3.9990 - categorical_accuracy: 0.5824\n",
            "Epoch 580/1000\n",
            "20424/20424 [==============================] - 0s 4us/step - loss: 3.9917 - categorical_accuracy: 0.5898\n",
            "Epoch 581/1000\n",
            "20424/20424 [==============================] - 0s 4us/step - loss: 3.9909 - categorical_accuracy: 0.5899\n",
            "Epoch 582/1000\n",
            "20424/20424 [==============================] - 0s 4us/step - loss: 3.9890 - categorical_accuracy: 0.5920\n",
            "Epoch 583/1000\n",
            "20424/20424 [==============================] - 0s 4us/step - loss: 4.0005 - categorical_accuracy: 0.5805\n",
            "Epoch 584/1000\n",
            "20424/20424 [==============================] - 0s 4us/step - loss: 3.9945 - categorical_accuracy: 0.5883\n",
            "Epoch 585/1000\n",
            "20424/20424 [==============================] - 0s 4us/step - loss: 3.9931 - categorical_accuracy: 0.5888\n",
            "Epoch 586/1000\n",
            "20424/20424 [==============================] - 0s 4us/step - loss: 4.0084 - categorical_accuracy: 0.5761\n",
            "Epoch 587/1000\n",
            "20424/20424 [==============================] - 0s 4us/step - loss: 4.0166 - categorical_accuracy: 0.5674\n",
            "Epoch 588/1000\n",
            "20424/20424 [==============================] - 0s 4us/step - loss: 4.0356 - categorical_accuracy: 0.5560\n",
            "Epoch 589/1000\n",
            "20424/20424 [==============================] - 0s 4us/step - loss: 4.0804 - categorical_accuracy: 0.5344\n",
            "Epoch 590/1000\n",
            "20424/20424 [==============================] - 0s 4us/step - loss: 4.0183 - categorical_accuracy: 0.5667\n",
            "Epoch 591/1000\n",
            "20424/20424 [==============================] - 0s 4us/step - loss: 3.9887 - categorical_accuracy: 0.5906\n",
            "Epoch 592/1000\n",
            "20424/20424 [==============================] - 0s 4us/step - loss: 3.9920 - categorical_accuracy: 0.5882\n",
            "Epoch 593/1000\n",
            "20424/20424 [==============================] - 0s 4us/step - loss: 3.9856 - categorical_accuracy: 0.5909\n",
            "Epoch 594/1000\n",
            "20424/20424 [==============================] - 0s 4us/step - loss: 3.9935 - categorical_accuracy: 0.5856\n",
            "Epoch 595/1000\n",
            "20424/20424 [==============================] - 0s 4us/step - loss: 3.9898 - categorical_accuracy: 0.5876\n",
            "Epoch 596/1000\n",
            "20424/20424 [==============================] - 0s 4us/step - loss: 4.0066 - categorical_accuracy: 0.5754\n",
            "Epoch 597/1000\n",
            "20424/20424 [==============================] - 0s 4us/step - loss: 4.0266 - categorical_accuracy: 0.5593\n",
            "Epoch 598/1000\n",
            "20424/20424 [==============================] - 0s 4us/step - loss: 4.0394 - categorical_accuracy: 0.5553\n",
            "Epoch 599/1000\n",
            "20424/20424 [==============================] - 0s 4us/step - loss: 3.9943 - categorical_accuracy: 0.5840\n",
            "Epoch 600/1000\n",
            "20424/20424 [==============================] - 0s 4us/step - loss: 3.9986 - categorical_accuracy: 0.5770\n",
            "Epoch 601/1000\n",
            "20424/20424 [==============================] - 0s 4us/step - loss: 4.0206 - categorical_accuracy: 0.5657\n",
            "Epoch 602/1000\n",
            "20424/20424 [==============================] - 0s 4us/step - loss: 3.9920 - categorical_accuracy: 0.5876\n",
            "Epoch 603/1000\n",
            "20424/20424 [==============================] - 0s 4us/step - loss: 3.9861 - categorical_accuracy: 0.5911\n",
            "Epoch 604/1000\n",
            "20424/20424 [==============================] - 0s 4us/step - loss: 4.0011 - categorical_accuracy: 0.5767\n",
            "Epoch 605/1000\n",
            "20424/20424 [==============================] - 0s 4us/step - loss: 4.0115 - categorical_accuracy: 0.5718\n",
            "Epoch 606/1000\n",
            "20424/20424 [==============================] - 0s 4us/step - loss: 3.9885 - categorical_accuracy: 0.5837\n",
            "Epoch 607/1000\n",
            "20424/20424 [==============================] - 0s 4us/step - loss: 3.9829 - categorical_accuracy: 0.5935\n",
            "Epoch 608/1000\n",
            "20424/20424 [==============================] - 0s 4us/step - loss: 3.9821 - categorical_accuracy: 0.5909\n",
            "Epoch 609/1000\n",
            "20424/20424 [==============================] - 0s 4us/step - loss: 3.9881 - categorical_accuracy: 0.5908\n",
            "Epoch 610/1000\n",
            "20424/20424 [==============================] - 0s 4us/step - loss: 4.0095 - categorical_accuracy: 0.5730\n",
            "Epoch 611/1000\n",
            "20424/20424 [==============================] - 0s 4us/step - loss: 4.0047 - categorical_accuracy: 0.5741\n",
            "Epoch 612/1000\n",
            "20424/20424 [==============================] - 0s 4us/step - loss: 3.9866 - categorical_accuracy: 0.5920\n",
            "Epoch 613/1000\n",
            "20424/20424 [==============================] - 0s 4us/step - loss: 3.9863 - categorical_accuracy: 0.5861\n",
            "Epoch 614/1000\n",
            "20424/20424 [==============================] - 0s 4us/step - loss: 3.9899 - categorical_accuracy: 0.5859\n",
            "Epoch 615/1000\n",
            "20424/20424 [==============================] - 0s 4us/step - loss: 3.9891 - categorical_accuracy: 0.5863\n",
            "Epoch 616/1000\n",
            "20424/20424 [==============================] - 0s 4us/step - loss: 3.9990 - categorical_accuracy: 0.5766\n",
            "Epoch 617/1000\n",
            "20424/20424 [==============================] - 0s 4us/step - loss: 3.9901 - categorical_accuracy: 0.5863\n",
            "Epoch 618/1000\n",
            "20424/20424 [==============================] - 0s 4us/step - loss: 3.9935 - categorical_accuracy: 0.5882\n",
            "Epoch 619/1000\n",
            "20424/20424 [==============================] - 0s 4us/step - loss: 3.9833 - categorical_accuracy: 0.5901\n",
            "Epoch 620/1000\n",
            "20424/20424 [==============================] - 0s 4us/step - loss: 3.9808 - categorical_accuracy: 0.5934\n",
            "Epoch 621/1000\n",
            "20424/20424 [==============================] - 0s 4us/step - loss: 3.9847 - categorical_accuracy: 0.5877\n",
            "Epoch 622/1000\n",
            "20424/20424 [==============================] - 0s 4us/step - loss: 4.0152 - categorical_accuracy: 0.5694\n",
            "Epoch 623/1000\n",
            "20424/20424 [==============================] - 0s 4us/step - loss: 4.0157 - categorical_accuracy: 0.5654\n",
            "Epoch 624/1000\n",
            "20424/20424 [==============================] - 0s 4us/step - loss: 3.9900 - categorical_accuracy: 0.5821\n",
            "Epoch 625/1000\n",
            "20424/20424 [==============================] - 0s 4us/step - loss: 3.9976 - categorical_accuracy: 0.5770\n",
            "Epoch 626/1000\n",
            "20424/20424 [==============================] - 0s 4us/step - loss: 3.9848 - categorical_accuracy: 0.5878\n",
            "Epoch 627/1000\n",
            "20424/20424 [==============================] - 0s 4us/step - loss: 3.9862 - categorical_accuracy: 0.5875\n",
            "Epoch 628/1000\n",
            "20424/20424 [==============================] - 0s 4us/step - loss: 3.9809 - categorical_accuracy: 0.5910\n",
            "Epoch 629/1000\n",
            "20424/20424 [==============================] - 0s 4us/step - loss: 3.9826 - categorical_accuracy: 0.5876\n",
            "Epoch 630/1000\n",
            "20424/20424 [==============================] - 0s 4us/step - loss: 3.9824 - categorical_accuracy: 0.5910\n",
            "Epoch 631/1000\n",
            "20424/20424 [==============================] - 0s 4us/step - loss: 3.9857 - categorical_accuracy: 0.5848\n",
            "Epoch 632/1000\n",
            "20424/20424 [==============================] - 0s 4us/step - loss: 4.0068 - categorical_accuracy: 0.5706\n",
            "Epoch 633/1000\n",
            "20424/20424 [==============================] - 0s 4us/step - loss: 3.9859 - categorical_accuracy: 0.5897\n",
            "Epoch 634/1000\n",
            "20424/20424 [==============================] - 0s 4us/step - loss: 3.9886 - categorical_accuracy: 0.5814\n",
            "Epoch 635/1000\n",
            "20424/20424 [==============================] - 0s 4us/step - loss: 3.9913 - categorical_accuracy: 0.5820\n",
            "Epoch 636/1000\n",
            "20424/20424 [==============================] - 0s 4us/step - loss: 3.9928 - categorical_accuracy: 0.5807\n",
            "Epoch 637/1000\n",
            "20424/20424 [==============================] - 0s 4us/step - loss: 3.9923 - categorical_accuracy: 0.5817\n",
            "Epoch 638/1000\n",
            "20424/20424 [==============================] - 0s 4us/step - loss: 3.9757 - categorical_accuracy: 0.5956\n",
            "Epoch 639/1000\n",
            "20424/20424 [==============================] - 0s 4us/step - loss: 3.9814 - categorical_accuracy: 0.5911\n",
            "Epoch 640/1000\n",
            "20424/20424 [==============================] - 0s 4us/step - loss: 3.9872 - categorical_accuracy: 0.5819\n",
            "Epoch 641/1000\n",
            "20424/20424 [==============================] - 0s 4us/step - loss: 3.9759 - categorical_accuracy: 0.5912\n",
            "Epoch 642/1000\n",
            "20424/20424 [==============================] - 0s 4us/step - loss: 3.9813 - categorical_accuracy: 0.5883\n",
            "Epoch 643/1000\n",
            "20424/20424 [==============================] - 0s 4us/step - loss: 3.9834 - categorical_accuracy: 0.5870\n",
            "Epoch 644/1000\n",
            "20424/20424 [==============================] - 0s 4us/step - loss: 3.9806 - categorical_accuracy: 0.5897\n",
            "Epoch 645/1000\n",
            "20424/20424 [==============================] - 0s 4us/step - loss: 3.9788 - categorical_accuracy: 0.5885\n",
            "Epoch 646/1000\n",
            "20424/20424 [==============================] - 0s 4us/step - loss: 3.9728 - categorical_accuracy: 0.5939\n",
            "Epoch 647/1000\n",
            "20424/20424 [==============================] - 0s 4us/step - loss: 3.9737 - categorical_accuracy: 0.5943\n",
            "Epoch 648/1000\n",
            "20424/20424 [==============================] - 0s 4us/step - loss: 3.9759 - categorical_accuracy: 0.5934\n",
            "Epoch 649/1000\n",
            "20424/20424 [==============================] - 0s 4us/step - loss: 3.9699 - categorical_accuracy: 0.5960\n",
            "Epoch 650/1000\n",
            "20424/20424 [==============================] - 0s 4us/step - loss: 3.9743 - categorical_accuracy: 0.5893\n",
            "Epoch 651/1000\n",
            "20424/20424 [==============================] - 0s 4us/step - loss: 3.9816 - categorical_accuracy: 0.5858\n",
            "Epoch 652/1000\n",
            "20424/20424 [==============================] - 0s 4us/step - loss: 3.9679 - categorical_accuracy: 0.5968\n",
            "Epoch 653/1000\n",
            "20424/20424 [==============================] - 0s 4us/step - loss: 3.9787 - categorical_accuracy: 0.5878\n",
            "Epoch 654/1000\n",
            "20424/20424 [==============================] - 0s 4us/step - loss: 3.9690 - categorical_accuracy: 0.5936\n",
            "Epoch 655/1000\n",
            "20424/20424 [==============================] - 0s 5us/step - loss: 3.9846 - categorical_accuracy: 0.5803\n",
            "Epoch 656/1000\n",
            "20424/20424 [==============================] - 0s 5us/step - loss: 3.9912 - categorical_accuracy: 0.5791\n",
            "Epoch 657/1000\n",
            "20424/20424 [==============================] - 0s 5us/step - loss: 3.9721 - categorical_accuracy: 0.5921\n",
            "Epoch 658/1000\n",
            "20424/20424 [==============================] - 0s 5us/step - loss: 3.9815 - categorical_accuracy: 0.5838\n",
            "Epoch 659/1000\n",
            "20424/20424 [==============================] - 0s 5us/step - loss: 3.9879 - categorical_accuracy: 0.5805\n",
            "Epoch 660/1000\n",
            "20424/20424 [==============================] - 0s 5us/step - loss: 3.9788 - categorical_accuracy: 0.5867\n",
            "Epoch 661/1000\n",
            "20424/20424 [==============================] - 0s 4us/step - loss: 3.9733 - categorical_accuracy: 0.5904\n",
            "Epoch 662/1000\n",
            "20424/20424 [==============================] - 0s 4us/step - loss: 3.9684 - categorical_accuracy: 0.5932\n",
            "Epoch 663/1000\n",
            "20424/20424 [==============================] - 0s 4us/step - loss: 3.9916 - categorical_accuracy: 0.5746\n",
            "Epoch 664/1000\n",
            "20424/20424 [==============================] - 0s 4us/step - loss: 3.9955 - categorical_accuracy: 0.5773\n",
            "Epoch 665/1000\n",
            "20424/20424 [==============================] - 0s 4us/step - loss: 3.9946 - categorical_accuracy: 0.5750\n",
            "Epoch 666/1000\n",
            "20424/20424 [==============================] - 0s 4us/step - loss: 3.9735 - categorical_accuracy: 0.5894\n",
            "Epoch 667/1000\n",
            "20424/20424 [==============================] - 0s 5us/step - loss: 3.9862 - categorical_accuracy: 0.5794\n",
            "Epoch 668/1000\n",
            "20424/20424 [==============================] - 0s 4us/step - loss: 3.9900 - categorical_accuracy: 0.5764\n",
            "Epoch 669/1000\n",
            "20424/20424 [==============================] - 0s 4us/step - loss: 3.9628 - categorical_accuracy: 0.5980\n",
            "Epoch 670/1000\n",
            "20424/20424 [==============================] - 0s 4us/step - loss: 3.9674 - categorical_accuracy: 0.5936\n",
            "Epoch 671/1000\n",
            "20424/20424 [==============================] - 0s 4us/step - loss: 3.9741 - categorical_accuracy: 0.5896\n",
            "Epoch 672/1000\n",
            "20424/20424 [==============================] - 0s 4us/step - loss: 3.9659 - categorical_accuracy: 0.5950\n",
            "Epoch 673/1000\n",
            "20424/20424 [==============================] - 0s 4us/step - loss: 3.9717 - categorical_accuracy: 0.5905\n",
            "Epoch 674/1000\n",
            "20424/20424 [==============================] - 0s 4us/step - loss: 3.9616 - categorical_accuracy: 0.5971\n",
            "Epoch 675/1000\n",
            "20424/20424 [==============================] - 0s 4us/step - loss: 3.9669 - categorical_accuracy: 0.5932\n",
            "Epoch 676/1000\n",
            "20424/20424 [==============================] - 0s 4us/step - loss: 3.9714 - categorical_accuracy: 0.5900\n",
            "Epoch 677/1000\n",
            "20424/20424 [==============================] - 0s 4us/step - loss: 3.9765 - categorical_accuracy: 0.5873\n",
            "Epoch 678/1000\n",
            "20424/20424 [==============================] - 0s 4us/step - loss: 3.9737 - categorical_accuracy: 0.5906\n",
            "Epoch 679/1000\n",
            "20424/20424 [==============================] - 0s 4us/step - loss: 3.9704 - categorical_accuracy: 0.5918\n",
            "Epoch 680/1000\n",
            "20424/20424 [==============================] - 0s 4us/step - loss: 3.9699 - categorical_accuracy: 0.5924\n",
            "Epoch 681/1000\n",
            "20424/20424 [==============================] - 0s 4us/step - loss: 3.9809 - categorical_accuracy: 0.5817\n",
            "Epoch 682/1000\n",
            "20424/20424 [==============================] - 0s 4us/step - loss: 3.9830 - categorical_accuracy: 0.5819\n",
            "Epoch 683/1000\n",
            "20424/20424 [==============================] - 0s 4us/step - loss: 3.9751 - categorical_accuracy: 0.5872\n",
            "Epoch 684/1000\n",
            "20424/20424 [==============================] - 0s 4us/step - loss: 3.9646 - categorical_accuracy: 0.5939\n",
            "Epoch 685/1000\n",
            "20424/20424 [==============================] - 0s 4us/step - loss: 3.9824 - categorical_accuracy: 0.5848\n",
            "Epoch 686/1000\n",
            "20424/20424 [==============================] - 0s 4us/step - loss: 3.9822 - categorical_accuracy: 0.5835\n",
            "Epoch 687/1000\n",
            "20424/20424 [==============================] - 0s 4us/step - loss: 3.9782 - categorical_accuracy: 0.5845\n",
            "Epoch 688/1000\n",
            "20424/20424 [==============================] - 0s 4us/step - loss: 3.9627 - categorical_accuracy: 0.5982\n",
            "Epoch 689/1000\n",
            "20424/20424 [==============================] - 0s 4us/step - loss: 3.9624 - categorical_accuracy: 0.5959\n",
            "Epoch 690/1000\n",
            "20424/20424 [==============================] - 0s 4us/step - loss: 3.9645 - categorical_accuracy: 0.5967\n",
            "Epoch 691/1000\n",
            "20424/20424 [==============================] - 0s 4us/step - loss: 3.9793 - categorical_accuracy: 0.5841\n",
            "Epoch 692/1000\n",
            "20424/20424 [==============================] - 0s 4us/step - loss: 3.9704 - categorical_accuracy: 0.5917\n",
            "Epoch 693/1000\n",
            "20424/20424 [==============================] - 0s 4us/step - loss: 3.9835 - categorical_accuracy: 0.5803\n",
            "Epoch 694/1000\n",
            "20424/20424 [==============================] - 0s 4us/step - loss: 3.9807 - categorical_accuracy: 0.5820\n",
            "Epoch 695/1000\n",
            "20424/20424 [==============================] - 0s 4us/step - loss: 3.9889 - categorical_accuracy: 0.5804\n",
            "Epoch 696/1000\n",
            "20424/20424 [==============================] - 0s 4us/step - loss: 3.9705 - categorical_accuracy: 0.5906\n",
            "Epoch 697/1000\n",
            "20424/20424 [==============================] - 0s 4us/step - loss: 3.9713 - categorical_accuracy: 0.5866\n",
            "Epoch 698/1000\n",
            "20424/20424 [==============================] - 0s 4us/step - loss: 3.9754 - categorical_accuracy: 0.5831\n",
            "Epoch 699/1000\n",
            "20424/20424 [==============================] - 0s 4us/step - loss: 3.9590 - categorical_accuracy: 0.5989\n",
            "Epoch 700/1000\n",
            "20424/20424 [==============================] - 0s 4us/step - loss: 3.9589 - categorical_accuracy: 0.5998\n",
            "Epoch 701/1000\n",
            "20424/20424 [==============================] - 0s 4us/step - loss: 3.9737 - categorical_accuracy: 0.5858\n",
            "Epoch 702/1000\n",
            "20424/20424 [==============================] - 0s 4us/step - loss: 3.9737 - categorical_accuracy: 0.5864\n",
            "Epoch 703/1000\n",
            "20424/20424 [==============================] - 0s 4us/step - loss: 3.9651 - categorical_accuracy: 0.5940\n",
            "Epoch 704/1000\n",
            "20424/20424 [==============================] - 0s 4us/step - loss: 3.9738 - categorical_accuracy: 0.5905\n",
            "Epoch 705/1000\n",
            "20424/20424 [==============================] - 0s 4us/step - loss: 3.9860 - categorical_accuracy: 0.5769\n",
            "Epoch 706/1000\n",
            "20424/20424 [==============================] - 0s 4us/step - loss: 3.9659 - categorical_accuracy: 0.5936\n",
            "Epoch 707/1000\n",
            "20424/20424 [==============================] - 0s 4us/step - loss: 3.9722 - categorical_accuracy: 0.5895\n",
            "Epoch 708/1000\n",
            "20424/20424 [==============================] - 0s 4us/step - loss: 3.9613 - categorical_accuracy: 0.5933\n",
            "Epoch 709/1000\n",
            "20424/20424 [==============================] - 0s 4us/step - loss: 3.9605 - categorical_accuracy: 0.5964\n",
            "Epoch 710/1000\n",
            "20424/20424 [==============================] - 0s 4us/step - loss: 3.9749 - categorical_accuracy: 0.5842\n",
            "Epoch 711/1000\n",
            "20424/20424 [==============================] - 0s 4us/step - loss: 3.9951 - categorical_accuracy: 0.5719\n",
            "Epoch 712/1000\n",
            "20424/20424 [==============================] - 0s 4us/step - loss: 3.9871 - categorical_accuracy: 0.5743\n",
            "Epoch 713/1000\n",
            "20424/20424 [==============================] - 0s 4us/step - loss: 3.9726 - categorical_accuracy: 0.5868\n",
            "Epoch 714/1000\n",
            "20424/20424 [==============================] - 0s 4us/step - loss: 3.9716 - categorical_accuracy: 0.5862\n",
            "Epoch 715/1000\n",
            "20424/20424 [==============================] - 0s 4us/step - loss: 3.9746 - categorical_accuracy: 0.5844\n",
            "Epoch 716/1000\n",
            "20424/20424 [==============================] - 0s 4us/step - loss: 3.9663 - categorical_accuracy: 0.5923\n",
            "Epoch 717/1000\n",
            "20424/20424 [==============================] - 0s 4us/step - loss: 3.9586 - categorical_accuracy: 0.5964\n",
            "Epoch 718/1000\n",
            "20424/20424 [==============================] - 0s 4us/step - loss: 3.9559 - categorical_accuracy: 0.6002\n",
            "Epoch 719/1000\n",
            "20424/20424 [==============================] - 0s 4us/step - loss: 3.9670 - categorical_accuracy: 0.5900\n",
            "Epoch 720/1000\n",
            "20424/20424 [==============================] - 0s 4us/step - loss: 3.9606 - categorical_accuracy: 0.5945\n",
            "Epoch 721/1000\n",
            "20424/20424 [==============================] - 0s 4us/step - loss: 3.9520 - categorical_accuracy: 0.6038\n",
            "Epoch 722/1000\n",
            "20424/20424 [==============================] - 0s 4us/step - loss: 3.9625 - categorical_accuracy: 0.5966\n",
            "Epoch 723/1000\n",
            "20424/20424 [==============================] - 0s 4us/step - loss: 3.9591 - categorical_accuracy: 0.6001\n",
            "Epoch 724/1000\n",
            "20424/20424 [==============================] - 0s 4us/step - loss: 3.9585 - categorical_accuracy: 0.5990\n",
            "Epoch 725/1000\n",
            "20424/20424 [==============================] - 0s 4us/step - loss: 3.9589 - categorical_accuracy: 0.5970\n",
            "Epoch 726/1000\n",
            "20424/20424 [==============================] - 0s 4us/step - loss: 3.9728 - categorical_accuracy: 0.5879\n",
            "Epoch 727/1000\n",
            "20424/20424 [==============================] - 0s 4us/step - loss: 3.9564 - categorical_accuracy: 0.5978\n",
            "Epoch 728/1000\n",
            "20424/20424 [==============================] - 0s 4us/step - loss: 3.9687 - categorical_accuracy: 0.5862\n",
            "Epoch 729/1000\n",
            "20424/20424 [==============================] - 0s 4us/step - loss: 3.9637 - categorical_accuracy: 0.5926\n",
            "Epoch 730/1000\n",
            "20424/20424 [==============================] - 0s 4us/step - loss: 3.9566 - categorical_accuracy: 0.5971\n",
            "Epoch 731/1000\n",
            "20424/20424 [==============================] - 0s 4us/step - loss: 3.9637 - categorical_accuracy: 0.5925\n",
            "Epoch 732/1000\n",
            "20424/20424 [==============================] - 0s 4us/step - loss: 3.9861 - categorical_accuracy: 0.5784\n",
            "Epoch 733/1000\n",
            "20424/20424 [==============================] - 0s 4us/step - loss: 3.9535 - categorical_accuracy: 0.6027\n",
            "Epoch 734/1000\n",
            "20424/20424 [==============================] - 0s 4us/step - loss: 3.9601 - categorical_accuracy: 0.5951\n",
            "Epoch 735/1000\n",
            "20424/20424 [==============================] - 0s 4us/step - loss: 3.9947 - categorical_accuracy: 0.5708\n",
            "Epoch 736/1000\n",
            "20424/20424 [==============================] - 0s 4us/step - loss: 3.9664 - categorical_accuracy: 0.5885\n",
            "Epoch 737/1000\n",
            "20424/20424 [==============================] - 0s 4us/step - loss: 3.9522 - categorical_accuracy: 0.5997\n",
            "Epoch 738/1000\n",
            "20424/20424 [==============================] - 0s 4us/step - loss: 3.9696 - categorical_accuracy: 0.5860\n",
            "Epoch 739/1000\n",
            "20424/20424 [==============================] - 0s 4us/step - loss: 3.9652 - categorical_accuracy: 0.5898\n",
            "Epoch 740/1000\n",
            "20424/20424 [==============================] - 0s 4us/step - loss: 3.9646 - categorical_accuracy: 0.5925\n",
            "Epoch 741/1000\n",
            "20424/20424 [==============================] - 0s 4us/step - loss: 3.9562 - categorical_accuracy: 0.5947\n",
            "Epoch 742/1000\n",
            "20424/20424 [==============================] - 0s 4us/step - loss: 3.9622 - categorical_accuracy: 0.5929\n",
            "Epoch 743/1000\n",
            "20424/20424 [==============================] - 0s 4us/step - loss: 3.9895 - categorical_accuracy: 0.5760\n",
            "Epoch 744/1000\n",
            "20424/20424 [==============================] - 0s 4us/step - loss: 3.9661 - categorical_accuracy: 0.5901\n",
            "Epoch 745/1000\n",
            "20424/20424 [==============================] - 0s 4us/step - loss: 3.9773 - categorical_accuracy: 0.5824\n",
            "Epoch 746/1000\n",
            "20424/20424 [==============================] - 0s 4us/step - loss: 3.9617 - categorical_accuracy: 0.5927\n",
            "Epoch 747/1000\n",
            "20424/20424 [==============================] - 0s 4us/step - loss: 3.9551 - categorical_accuracy: 0.5979\n",
            "Epoch 748/1000\n",
            "20424/20424 [==============================] - 0s 4us/step - loss: 3.9703 - categorical_accuracy: 0.5852\n",
            "Epoch 749/1000\n",
            "20424/20424 [==============================] - 0s 4us/step - loss: 3.9650 - categorical_accuracy: 0.5899\n",
            "Epoch 750/1000\n",
            "20424/20424 [==============================] - 0s 4us/step - loss: 3.9561 - categorical_accuracy: 0.5974\n",
            "Epoch 751/1000\n",
            "20424/20424 [==============================] - 0s 4us/step - loss: 3.9565 - categorical_accuracy: 0.5967\n",
            "Epoch 752/1000\n",
            "20424/20424 [==============================] - 0s 4us/step - loss: 3.9595 - categorical_accuracy: 0.5974\n",
            "Epoch 753/1000\n",
            "20424/20424 [==============================] - 0s 4us/step - loss: 3.9548 - categorical_accuracy: 0.5984\n",
            "Epoch 754/1000\n",
            "20424/20424 [==============================] - 0s 4us/step - loss: 3.9491 - categorical_accuracy: 0.6003\n",
            "Epoch 755/1000\n",
            "20424/20424 [==============================] - 0s 4us/step - loss: 3.9484 - categorical_accuracy: 0.6018\n",
            "Epoch 756/1000\n",
            "20424/20424 [==============================] - 0s 4us/step - loss: 3.9669 - categorical_accuracy: 0.5869\n",
            "Epoch 757/1000\n",
            "20424/20424 [==============================] - 0s 4us/step - loss: 4.0208 - categorical_accuracy: 0.5588\n",
            "Epoch 758/1000\n",
            "20424/20424 [==============================] - 0s 4us/step - loss: 3.9573 - categorical_accuracy: 0.5967\n",
            "Epoch 759/1000\n",
            "20424/20424 [==============================] - 0s 4us/step - loss: 3.9708 - categorical_accuracy: 0.5854\n",
            "Epoch 760/1000\n",
            "20424/20424 [==============================] - 0s 4us/step - loss: 3.9675 - categorical_accuracy: 0.5861\n",
            "Epoch 761/1000\n",
            "20424/20424 [==============================] - 0s 4us/step - loss: 3.9570 - categorical_accuracy: 0.5926\n",
            "Epoch 762/1000\n",
            "20424/20424 [==============================] - 0s 4us/step - loss: 3.9501 - categorical_accuracy: 0.6021\n",
            "Epoch 763/1000\n",
            "20424/20424 [==============================] - 0s 4us/step - loss: 3.9544 - categorical_accuracy: 0.5960\n",
            "Epoch 764/1000\n",
            "20424/20424 [==============================] - 0s 4us/step - loss: 3.9505 - categorical_accuracy: 0.5985\n",
            "Epoch 765/1000\n",
            "20424/20424 [==============================] - 0s 4us/step - loss: 3.9463 - categorical_accuracy: 0.6014\n",
            "Epoch 766/1000\n",
            "20424/20424 [==============================] - 0s 4us/step - loss: 3.9530 - categorical_accuracy: 0.5963\n",
            "Epoch 767/1000\n",
            "20424/20424 [==============================] - 0s 4us/step - loss: 3.9470 - categorical_accuracy: 0.6013\n",
            "Epoch 768/1000\n",
            "20424/20424 [==============================] - 0s 4us/step - loss: 3.9531 - categorical_accuracy: 0.5941\n",
            "Epoch 769/1000\n",
            "20424/20424 [==============================] - 0s 4us/step - loss: 3.9462 - categorical_accuracy: 0.6034\n",
            "Epoch 770/1000\n",
            "20424/20424 [==============================] - 0s 4us/step - loss: 3.9495 - categorical_accuracy: 0.5988\n",
            "Epoch 771/1000\n",
            "20424/20424 [==============================] - 0s 4us/step - loss: 3.9542 - categorical_accuracy: 0.5932\n",
            "Epoch 772/1000\n",
            "20424/20424 [==============================] - 0s 4us/step - loss: 3.9728 - categorical_accuracy: 0.5833\n",
            "Epoch 773/1000\n",
            "20424/20424 [==============================] - 0s 5us/step - loss: 3.9502 - categorical_accuracy: 0.5969\n",
            "Epoch 774/1000\n",
            "20424/20424 [==============================] - 0s 4us/step - loss: 3.9580 - categorical_accuracy: 0.5940\n",
            "Epoch 775/1000\n",
            "20424/20424 [==============================] - 0s 4us/step - loss: 4.0063 - categorical_accuracy: 0.5647\n",
            "Epoch 776/1000\n",
            "20424/20424 [==============================] - 0s 4us/step - loss: 4.0731 - categorical_accuracy: 0.5401\n",
            "Epoch 777/1000\n",
            "20424/20424 [==============================] - 0s 4us/step - loss: 3.9736 - categorical_accuracy: 0.5827\n",
            "Epoch 778/1000\n",
            "20424/20424 [==============================] - 0s 4us/step - loss: 3.9755 - categorical_accuracy: 0.5805\n",
            "Epoch 779/1000\n",
            "20424/20424 [==============================] - 0s 4us/step - loss: 3.9588 - categorical_accuracy: 0.5919\n",
            "Epoch 780/1000\n",
            "20424/20424 [==============================] - 0s 4us/step - loss: 3.9472 - categorical_accuracy: 0.6016\n",
            "Epoch 781/1000\n",
            "20424/20424 [==============================] - 0s 4us/step - loss: 3.9503 - categorical_accuracy: 0.5985\n",
            "Epoch 782/1000\n",
            "20424/20424 [==============================] - 0s 4us/step - loss: 3.9448 - categorical_accuracy: 0.5999\n",
            "Epoch 783/1000\n",
            "20424/20424 [==============================] - 0s 4us/step - loss: 3.9479 - categorical_accuracy: 0.6002\n",
            "Epoch 784/1000\n",
            "20424/20424 [==============================] - 0s 4us/step - loss: 3.9446 - categorical_accuracy: 0.6047\n",
            "Epoch 785/1000\n",
            "20424/20424 [==============================] - 0s 4us/step - loss: 3.9736 - categorical_accuracy: 0.5816\n",
            "Epoch 786/1000\n",
            "20424/20424 [==============================] - 0s 4us/step - loss: 3.9602 - categorical_accuracy: 0.5905\n",
            "Epoch 787/1000\n",
            "20424/20424 [==============================] - 0s 4us/step - loss: 3.9579 - categorical_accuracy: 0.5932\n",
            "Epoch 788/1000\n",
            "20424/20424 [==============================] - 0s 4us/step - loss: 3.9498 - categorical_accuracy: 0.5954\n",
            "Epoch 789/1000\n",
            "20424/20424 [==============================] - 0s 4us/step - loss: 3.9436 - categorical_accuracy: 0.6028\n",
            "Epoch 790/1000\n",
            "20424/20424 [==============================] - 0s 4us/step - loss: 3.9565 - categorical_accuracy: 0.5938\n",
            "Epoch 791/1000\n",
            "20424/20424 [==============================] - 0s 4us/step - loss: 3.9670 - categorical_accuracy: 0.5866\n",
            "Epoch 792/1000\n",
            "20424/20424 [==============================] - 0s 4us/step - loss: 3.9553 - categorical_accuracy: 0.5913\n",
            "Epoch 793/1000\n",
            "20424/20424 [==============================] - 0s 4us/step - loss: 3.9576 - categorical_accuracy: 0.5926\n",
            "Epoch 794/1000\n",
            "20424/20424 [==============================] - 0s 4us/step - loss: 3.9409 - categorical_accuracy: 0.6043\n",
            "Epoch 795/1000\n",
            "20424/20424 [==============================] - 0s 4us/step - loss: 3.9429 - categorical_accuracy: 0.6024\n",
            "Epoch 796/1000\n",
            "20424/20424 [==============================] - 0s 4us/step - loss: 3.9456 - categorical_accuracy: 0.6006\n",
            "Epoch 797/1000\n",
            "20424/20424 [==============================] - 0s 4us/step - loss: 3.9454 - categorical_accuracy: 0.5993\n",
            "Epoch 798/1000\n",
            "20424/20424 [==============================] - 0s 4us/step - loss: 3.9592 - categorical_accuracy: 0.5899\n",
            "Epoch 799/1000\n",
            "20424/20424 [==============================] - 0s 4us/step - loss: 3.9427 - categorical_accuracy: 0.6055\n",
            "Epoch 800/1000\n",
            "20424/20424 [==============================] - 0s 4us/step - loss: 3.9385 - categorical_accuracy: 0.6067\n",
            "Epoch 801/1000\n",
            "20424/20424 [==============================] - 0s 4us/step - loss: 3.9439 - categorical_accuracy: 0.5996\n",
            "Epoch 802/1000\n",
            "20424/20424 [==============================] - 0s 4us/step - loss: 3.9400 - categorical_accuracy: 0.6033\n",
            "Epoch 803/1000\n",
            "20424/20424 [==============================] - 0s 4us/step - loss: 3.9535 - categorical_accuracy: 0.5955\n",
            "Epoch 804/1000\n",
            "20424/20424 [==============================] - 0s 4us/step - loss: 3.9555 - categorical_accuracy: 0.5914\n",
            "Epoch 805/1000\n",
            "20424/20424 [==============================] - 0s 4us/step - loss: 3.9391 - categorical_accuracy: 0.6059\n",
            "Epoch 806/1000\n",
            "20424/20424 [==============================] - 0s 4us/step - loss: 3.9549 - categorical_accuracy: 0.5949\n",
            "Epoch 807/1000\n",
            "20424/20424 [==============================] - 0s 4us/step - loss: 3.9476 - categorical_accuracy: 0.5995\n",
            "Epoch 808/1000\n",
            "20424/20424 [==============================] - 0s 4us/step - loss: 3.9531 - categorical_accuracy: 0.5955\n",
            "Epoch 809/1000\n",
            "20424/20424 [==============================] - 0s 4us/step - loss: 3.9385 - categorical_accuracy: 0.6051\n",
            "Epoch 810/1000\n",
            "20424/20424 [==============================] - 0s 4us/step - loss: 3.9384 - categorical_accuracy: 0.6036\n",
            "Epoch 811/1000\n",
            "20424/20424 [==============================] - 0s 4us/step - loss: 3.9440 - categorical_accuracy: 0.6005\n",
            "Epoch 812/1000\n",
            "20424/20424 [==============================] - 0s 4us/step - loss: 3.9477 - categorical_accuracy: 0.5982\n",
            "Epoch 813/1000\n",
            "20424/20424 [==============================] - 0s 4us/step - loss: 3.9695 - categorical_accuracy: 0.5832\n",
            "Epoch 814/1000\n",
            "20424/20424 [==============================] - 0s 4us/step - loss: 3.9694 - categorical_accuracy: 0.5841\n",
            "Epoch 815/1000\n",
            "20424/20424 [==============================] - 0s 4us/step - loss: 3.9421 - categorical_accuracy: 0.6032\n",
            "Epoch 816/1000\n",
            "20424/20424 [==============================] - 0s 4us/step - loss: 3.9583 - categorical_accuracy: 0.5941\n",
            "Epoch 817/1000\n",
            "20424/20424 [==============================] - 0s 4us/step - loss: 3.9919 - categorical_accuracy: 0.5723\n",
            "Epoch 818/1000\n",
            "20424/20424 [==============================] - 0s 4us/step - loss: 3.9606 - categorical_accuracy: 0.5902\n",
            "Epoch 819/1000\n",
            "20424/20424 [==============================] - 0s 4us/step - loss: 3.9494 - categorical_accuracy: 0.5959\n",
            "Epoch 820/1000\n",
            "20424/20424 [==============================] - 0s 4us/step - loss: 3.9794 - categorical_accuracy: 0.5782\n",
            "Epoch 821/1000\n",
            "20424/20424 [==============================] - 0s 4us/step - loss: 3.9499 - categorical_accuracy: 0.5985\n",
            "Epoch 822/1000\n",
            "20424/20424 [==============================] - 0s 4us/step - loss: 3.9378 - categorical_accuracy: 0.6044\n",
            "Epoch 823/1000\n",
            "20424/20424 [==============================] - 0s 4us/step - loss: 3.9424 - categorical_accuracy: 0.6019\n",
            "Epoch 824/1000\n",
            "20424/20424 [==============================] - 0s 4us/step - loss: 3.9399 - categorical_accuracy: 0.6038\n",
            "Epoch 825/1000\n",
            "20424/20424 [==============================] - 0s 4us/step - loss: 3.9464 - categorical_accuracy: 0.5989\n",
            "Epoch 826/1000\n",
            "20424/20424 [==============================] - 0s 4us/step - loss: 3.9423 - categorical_accuracy: 0.6020\n",
            "Epoch 827/1000\n",
            "20424/20424 [==============================] - 0s 4us/step - loss: 3.9408 - categorical_accuracy: 0.6022\n",
            "Epoch 828/1000\n",
            "20424/20424 [==============================] - 0s 4us/step - loss: 3.9527 - categorical_accuracy: 0.5974\n",
            "Epoch 829/1000\n",
            "20424/20424 [==============================] - 0s 4us/step - loss: 3.9552 - categorical_accuracy: 0.5925\n",
            "Epoch 830/1000\n",
            "20424/20424 [==============================] - 0s 4us/step - loss: 3.9669 - categorical_accuracy: 0.5850\n",
            "Epoch 831/1000\n",
            "20424/20424 [==============================] - 0s 4us/step - loss: 3.9486 - categorical_accuracy: 0.5973\n",
            "Epoch 832/1000\n",
            "20424/20424 [==============================] - 0s 4us/step - loss: 3.9566 - categorical_accuracy: 0.5919\n",
            "Epoch 833/1000\n",
            "20424/20424 [==============================] - 0s 4us/step - loss: 3.9409 - categorical_accuracy: 0.6006\n",
            "Epoch 834/1000\n",
            "20424/20424 [==============================] - 0s 4us/step - loss: 3.9331 - categorical_accuracy: 0.6088\n",
            "Epoch 835/1000\n",
            "20424/20424 [==============================] - 0s 4us/step - loss: 3.9395 - categorical_accuracy: 0.6033\n",
            "Epoch 836/1000\n",
            "20424/20424 [==============================] - 0s 4us/step - loss: 3.9418 - categorical_accuracy: 0.6012\n",
            "Epoch 837/1000\n",
            "20424/20424 [==============================] - 0s 4us/step - loss: 3.9547 - categorical_accuracy: 0.5891\n",
            "Epoch 838/1000\n",
            "20424/20424 [==============================] - 0s 4us/step - loss: 3.9493 - categorical_accuracy: 0.5968\n",
            "Epoch 839/1000\n",
            "20424/20424 [==============================] - 0s 4us/step - loss: 3.9822 - categorical_accuracy: 0.5747\n",
            "Epoch 840/1000\n",
            "20424/20424 [==============================] - 0s 4us/step - loss: 3.9480 - categorical_accuracy: 0.5971\n",
            "Epoch 841/1000\n",
            "20424/20424 [==============================] - 0s 4us/step - loss: 3.9418 - categorical_accuracy: 0.6033\n",
            "Epoch 842/1000\n",
            "20424/20424 [==============================] - 0s 4us/step - loss: 3.9585 - categorical_accuracy: 0.5897\n",
            "Epoch 843/1000\n",
            "20424/20424 [==============================] - 0s 4us/step - loss: 3.9525 - categorical_accuracy: 0.5921\n",
            "Epoch 844/1000\n",
            "20424/20424 [==============================] - 0s 4us/step - loss: 3.9333 - categorical_accuracy: 0.6085\n",
            "Epoch 845/1000\n",
            "20424/20424 [==============================] - 0s 4us/step - loss: 3.9433 - categorical_accuracy: 0.5995\n",
            "Epoch 846/1000\n",
            "20424/20424 [==============================] - 0s 4us/step - loss: 3.9349 - categorical_accuracy: 0.6049\n",
            "Epoch 847/1000\n",
            "20424/20424 [==============================] - 0s 4us/step - loss: 3.9350 - categorical_accuracy: 0.6072\n",
            "Epoch 848/1000\n",
            "20424/20424 [==============================] - 0s 4us/step - loss: 3.9385 - categorical_accuracy: 0.6043\n",
            "Epoch 849/1000\n",
            "20424/20424 [==============================] - 0s 4us/step - loss: 3.9656 - categorical_accuracy: 0.5822\n",
            "Epoch 850/1000\n",
            "20424/20424 [==============================] - 0s 4us/step - loss: 3.9855 - categorical_accuracy: 0.5755\n",
            "Epoch 851/1000\n",
            "20424/20424 [==============================] - 0s 4us/step - loss: 3.9734 - categorical_accuracy: 0.5817\n",
            "Epoch 852/1000\n",
            "20424/20424 [==============================] - 0s 4us/step - loss: 3.9848 - categorical_accuracy: 0.5754\n",
            "Epoch 853/1000\n",
            "20424/20424 [==============================] - 0s 4us/step - loss: 3.9545 - categorical_accuracy: 0.5911\n",
            "Epoch 854/1000\n",
            "20424/20424 [==============================] - 0s 4us/step - loss: 3.9586 - categorical_accuracy: 0.5898\n",
            "Epoch 855/1000\n",
            "20424/20424 [==============================] - 0s 4us/step - loss: 3.9630 - categorical_accuracy: 0.5854\n",
            "Epoch 856/1000\n",
            "20424/20424 [==============================] - 0s 4us/step - loss: 3.9386 - categorical_accuracy: 0.6041\n",
            "Epoch 857/1000\n",
            "20424/20424 [==============================] - 0s 4us/step - loss: 3.9380 - categorical_accuracy: 0.6028\n",
            "Epoch 858/1000\n",
            "20424/20424 [==============================] - 0s 4us/step - loss: 3.9474 - categorical_accuracy: 0.5967\n",
            "Epoch 859/1000\n",
            "20424/20424 [==============================] - 0s 4us/step - loss: 3.9408 - categorical_accuracy: 0.5991\n",
            "Epoch 860/1000\n",
            "20424/20424 [==============================] - 0s 4us/step - loss: 3.9407 - categorical_accuracy: 0.5993\n",
            "Epoch 861/1000\n",
            "20424/20424 [==============================] - 0s 4us/step - loss: 3.9526 - categorical_accuracy: 0.5931\n",
            "Epoch 862/1000\n",
            "20424/20424 [==============================] - 0s 4us/step - loss: 3.9379 - categorical_accuracy: 0.6028\n",
            "Epoch 863/1000\n",
            "20424/20424 [==============================] - 0s 4us/step - loss: 3.9380 - categorical_accuracy: 0.6033\n",
            "Epoch 864/1000\n",
            "20424/20424 [==============================] - 0s 4us/step - loss: 3.9355 - categorical_accuracy: 0.6062\n",
            "Epoch 865/1000\n",
            "20424/20424 [==============================] - 0s 4us/step - loss: 3.9494 - categorical_accuracy: 0.5986\n",
            "Epoch 866/1000\n",
            "20424/20424 [==============================] - 0s 4us/step - loss: 3.9421 - categorical_accuracy: 0.5981\n",
            "Epoch 867/1000\n",
            "20424/20424 [==============================] - 0s 4us/step - loss: 3.9445 - categorical_accuracy: 0.5962\n",
            "Epoch 868/1000\n",
            "20424/20424 [==============================] - 0s 4us/step - loss: 3.9483 - categorical_accuracy: 0.5953\n",
            "Epoch 869/1000\n",
            "20424/20424 [==============================] - 0s 4us/step - loss: 3.9382 - categorical_accuracy: 0.6042\n",
            "Epoch 870/1000\n",
            "20424/20424 [==============================] - 0s 4us/step - loss: 3.9347 - categorical_accuracy: 0.6037\n",
            "Epoch 871/1000\n",
            "20424/20424 [==============================] - 0s 4us/step - loss: 3.9603 - categorical_accuracy: 0.5919\n",
            "Epoch 872/1000\n",
            "20424/20424 [==============================] - 0s 4us/step - loss: 3.9736 - categorical_accuracy: 0.5821\n",
            "Epoch 873/1000\n",
            "20424/20424 [==============================] - 0s 4us/step - loss: 3.9415 - categorical_accuracy: 0.6012\n",
            "Epoch 874/1000\n",
            "20424/20424 [==============================] - 0s 4us/step - loss: 3.9888 - categorical_accuracy: 0.5740\n",
            "Epoch 875/1000\n",
            "20424/20424 [==============================] - 0s 4us/step - loss: 3.9483 - categorical_accuracy: 0.5924\n",
            "Epoch 876/1000\n",
            "20424/20424 [==============================] - 0s 4us/step - loss: 3.9313 - categorical_accuracy: 0.6069\n",
            "Epoch 877/1000\n",
            "20424/20424 [==============================] - 0s 4us/step - loss: 3.9342 - categorical_accuracy: 0.6072\n",
            "Epoch 878/1000\n",
            "20424/20424 [==============================] - 0s 4us/step - loss: 3.9488 - categorical_accuracy: 0.5939\n",
            "Epoch 879/1000\n",
            "20424/20424 [==============================] - 0s 5us/step - loss: 3.9297 - categorical_accuracy: 0.6104\n",
            "Epoch 880/1000\n",
            "20424/20424 [==============================] - 0s 4us/step - loss: 3.9616 - categorical_accuracy: 0.5873\n",
            "Epoch 881/1000\n",
            "20424/20424 [==============================] - 0s 4us/step - loss: 3.9577 - categorical_accuracy: 0.5905\n",
            "Epoch 882/1000\n",
            "20424/20424 [==============================] - 0s 4us/step - loss: 3.9340 - categorical_accuracy: 0.6046\n",
            "Epoch 883/1000\n",
            "20424/20424 [==============================] - 0s 4us/step - loss: 3.9617 - categorical_accuracy: 0.5857\n",
            "Epoch 884/1000\n",
            "20424/20424 [==============================] - 0s 4us/step - loss: 3.9328 - categorical_accuracy: 0.6056\n",
            "Epoch 885/1000\n",
            "20424/20424 [==============================] - 0s 4us/step - loss: 3.9298 - categorical_accuracy: 0.6086\n",
            "Epoch 886/1000\n",
            "20424/20424 [==============================] - 0s 4us/step - loss: 3.9319 - categorical_accuracy: 0.6056\n",
            "Epoch 887/1000\n",
            "20424/20424 [==============================] - 0s 4us/step - loss: 3.9412 - categorical_accuracy: 0.6006\n",
            "Epoch 888/1000\n",
            "20424/20424 [==============================] - 0s 4us/step - loss: 3.9385 - categorical_accuracy: 0.6035\n",
            "Epoch 889/1000\n",
            "20424/20424 [==============================] - 0s 4us/step - loss: 3.9552 - categorical_accuracy: 0.5908\n",
            "Epoch 890/1000\n",
            "20424/20424 [==============================] - 0s 4us/step - loss: 3.9581 - categorical_accuracy: 0.5889\n",
            "Epoch 891/1000\n",
            "20424/20424 [==============================] - 0s 4us/step - loss: 3.9348 - categorical_accuracy: 0.6058\n",
            "Epoch 892/1000\n",
            "20424/20424 [==============================] - 0s 4us/step - loss: 3.9377 - categorical_accuracy: 0.6009\n",
            "Epoch 893/1000\n",
            "20424/20424 [==============================] - 0s 4us/step - loss: 3.9307 - categorical_accuracy: 0.6088\n",
            "Epoch 894/1000\n",
            "20424/20424 [==============================] - 0s 4us/step - loss: 3.9476 - categorical_accuracy: 0.5954\n",
            "Epoch 895/1000\n",
            "20424/20424 [==============================] - 0s 4us/step - loss: 3.9321 - categorical_accuracy: 0.6053\n",
            "Epoch 896/1000\n",
            "20424/20424 [==============================] - 0s 4us/step - loss: 3.9349 - categorical_accuracy: 0.6021\n",
            "Epoch 897/1000\n",
            "20424/20424 [==============================] - 0s 4us/step - loss: 3.9476 - categorical_accuracy: 0.5950\n",
            "Epoch 898/1000\n",
            "20424/20424 [==============================] - 0s 4us/step - loss: 3.9409 - categorical_accuracy: 0.5980\n",
            "Epoch 899/1000\n",
            "20424/20424 [==============================] - 0s 4us/step - loss: 3.9423 - categorical_accuracy: 0.5991\n",
            "Epoch 900/1000\n",
            "20424/20424 [==============================] - 0s 4us/step - loss: 3.9355 - categorical_accuracy: 0.6059\n",
            "Epoch 901/1000\n",
            "20424/20424 [==============================] - 0s 4us/step - loss: 3.9396 - categorical_accuracy: 0.5987\n",
            "Epoch 902/1000\n",
            "20424/20424 [==============================] - 0s 4us/step - loss: 3.9443 - categorical_accuracy: 0.5980\n",
            "Epoch 903/1000\n",
            "20424/20424 [==============================] - 0s 4us/step - loss: 3.9297 - categorical_accuracy: 0.6074\n",
            "Epoch 904/1000\n",
            "20424/20424 [==============================] - 0s 4us/step - loss: 3.9352 - categorical_accuracy: 0.6050\n",
            "Epoch 905/1000\n",
            "20424/20424 [==============================] - 0s 4us/step - loss: 3.9711 - categorical_accuracy: 0.5811\n",
            "Epoch 906/1000\n",
            "20424/20424 [==============================] - 0s 4us/step - loss: 3.9581 - categorical_accuracy: 0.5898\n",
            "Epoch 907/1000\n",
            "20424/20424 [==============================] - 0s 4us/step - loss: 3.9263 - categorical_accuracy: 0.6114\n",
            "Epoch 908/1000\n",
            "20424/20424 [==============================] - 0s 4us/step - loss: 3.9564 - categorical_accuracy: 0.5936\n",
            "Epoch 909/1000\n",
            "20424/20424 [==============================] - 0s 4us/step - loss: 3.9765 - categorical_accuracy: 0.5780\n",
            "Epoch 910/1000\n",
            "20424/20424 [==============================] - 0s 4us/step - loss: 3.9625 - categorical_accuracy: 0.5865\n",
            "Epoch 911/1000\n",
            "20424/20424 [==============================] - 0s 4us/step - loss: 3.9426 - categorical_accuracy: 0.5985\n",
            "Epoch 912/1000\n",
            "20424/20424 [==============================] - 0s 4us/step - loss: 3.9307 - categorical_accuracy: 0.6075\n",
            "Epoch 913/1000\n",
            "20424/20424 [==============================] - 0s 4us/step - loss: 3.9365 - categorical_accuracy: 0.6034\n",
            "Epoch 914/1000\n",
            "20424/20424 [==============================] - 0s 4us/step - loss: 3.9608 - categorical_accuracy: 0.5893\n",
            "Epoch 915/1000\n",
            "20424/20424 [==============================] - 0s 4us/step - loss: 3.9402 - categorical_accuracy: 0.6006\n",
            "Epoch 916/1000\n",
            "20424/20424 [==============================] - 0s 4us/step - loss: 3.9314 - categorical_accuracy: 0.6058\n",
            "Epoch 917/1000\n",
            "20424/20424 [==============================] - 0s 4us/step - loss: 3.9289 - categorical_accuracy: 0.6088\n",
            "Epoch 918/1000\n",
            "20424/20424 [==============================] - 0s 4us/step - loss: 3.9322 - categorical_accuracy: 0.6036\n",
            "Epoch 919/1000\n",
            "20424/20424 [==============================] - 0s 4us/step - loss: 3.9282 - categorical_accuracy: 0.6078\n",
            "Epoch 920/1000\n",
            "20424/20424 [==============================] - 0s 4us/step - loss: 3.9403 - categorical_accuracy: 0.6013\n",
            "Epoch 921/1000\n",
            "20424/20424 [==============================] - 0s 4us/step - loss: 3.9326 - categorical_accuracy: 0.6070\n",
            "Epoch 922/1000\n",
            "20424/20424 [==============================] - 0s 4us/step - loss: 3.9265 - categorical_accuracy: 0.6083\n",
            "Epoch 923/1000\n",
            "20424/20424 [==============================] - 0s 4us/step - loss: 3.9316 - categorical_accuracy: 0.6056\n",
            "Epoch 924/1000\n",
            "20424/20424 [==============================] - 0s 4us/step - loss: 3.9466 - categorical_accuracy: 0.5959\n",
            "Epoch 925/1000\n",
            "20424/20424 [==============================] - 0s 4us/step - loss: 3.9368 - categorical_accuracy: 0.6017\n",
            "Epoch 926/1000\n",
            "20424/20424 [==============================] - 0s 4us/step - loss: 3.9538 - categorical_accuracy: 0.5920\n",
            "Epoch 927/1000\n",
            "20424/20424 [==============================] - 0s 4us/step - loss: 3.9320 - categorical_accuracy: 0.6056\n",
            "Epoch 928/1000\n",
            "20424/20424 [==============================] - 0s 4us/step - loss: 3.9275 - categorical_accuracy: 0.6091\n",
            "Epoch 929/1000\n",
            "20424/20424 [==============================] - 0s 4us/step - loss: 3.9360 - categorical_accuracy: 0.6035\n",
            "Epoch 930/1000\n",
            "20424/20424 [==============================] - 0s 4us/step - loss: 3.9603 - categorical_accuracy: 0.5878\n",
            "Epoch 931/1000\n",
            "20424/20424 [==============================] - 0s 4us/step - loss: 3.9440 - categorical_accuracy: 0.5938\n",
            "Epoch 932/1000\n",
            "20424/20424 [==============================] - 0s 4us/step - loss: 3.9227 - categorical_accuracy: 0.6144\n",
            "Epoch 933/1000\n",
            "20424/20424 [==============================] - 0s 4us/step - loss: 3.9310 - categorical_accuracy: 0.6033\n",
            "Epoch 934/1000\n",
            "20424/20424 [==============================] - 0s 4us/step - loss: 3.9385 - categorical_accuracy: 0.6022\n",
            "Epoch 935/1000\n",
            "20424/20424 [==============================] - 0s 4us/step - loss: 3.9470 - categorical_accuracy: 0.5923\n",
            "Epoch 936/1000\n",
            "20424/20424 [==============================] - 0s 4us/step - loss: 3.9298 - categorical_accuracy: 0.6057\n",
            "Epoch 937/1000\n",
            "20424/20424 [==============================] - 0s 4us/step - loss: 3.9342 - categorical_accuracy: 0.6032\n",
            "Epoch 938/1000\n",
            "20424/20424 [==============================] - 0s 4us/step - loss: 3.9303 - categorical_accuracy: 0.6052\n",
            "Epoch 939/1000\n",
            "20424/20424 [==============================] - 0s 4us/step - loss: 3.9267 - categorical_accuracy: 0.6095\n",
            "Epoch 940/1000\n",
            "20424/20424 [==============================] - 0s 4us/step - loss: 3.9262 - categorical_accuracy: 0.6089\n",
            "Epoch 941/1000\n",
            "20424/20424 [==============================] - 0s 4us/step - loss: 3.9392 - categorical_accuracy: 0.5987\n",
            "Epoch 942/1000\n",
            "20424/20424 [==============================] - 0s 4us/step - loss: 3.9515 - categorical_accuracy: 0.5920\n",
            "Epoch 943/1000\n",
            "20424/20424 [==============================] - 0s 4us/step - loss: 3.9439 - categorical_accuracy: 0.5958\n",
            "Epoch 944/1000\n",
            "20424/20424 [==============================] - 0s 4us/step - loss: 3.9452 - categorical_accuracy: 0.5977\n",
            "Epoch 945/1000\n",
            "20424/20424 [==============================] - 0s 4us/step - loss: 3.9205 - categorical_accuracy: 0.6136\n",
            "Epoch 946/1000\n",
            "20424/20424 [==============================] - 0s 4us/step - loss: 3.9563 - categorical_accuracy: 0.5866\n",
            "Epoch 947/1000\n",
            "20424/20424 [==============================] - 0s 4us/step - loss: 3.9543 - categorical_accuracy: 0.5889\n",
            "Epoch 948/1000\n",
            "20424/20424 [==============================] - 0s 4us/step - loss: 3.9478 - categorical_accuracy: 0.5925\n",
            "Epoch 949/1000\n",
            "20424/20424 [==============================] - 0s 4us/step - loss: 3.9333 - categorical_accuracy: 0.6018\n",
            "Epoch 950/1000\n",
            "20424/20424 [==============================] - 0s 4us/step - loss: 3.9268 - categorical_accuracy: 0.6091\n",
            "Epoch 951/1000\n",
            "20424/20424 [==============================] - 0s 4us/step - loss: 3.9418 - categorical_accuracy: 0.5977\n",
            "Epoch 952/1000\n",
            "20424/20424 [==============================] - 0s 4us/step - loss: 3.9527 - categorical_accuracy: 0.5910\n",
            "Epoch 953/1000\n",
            "20424/20424 [==============================] - 0s 4us/step - loss: 3.9437 - categorical_accuracy: 0.5938\n",
            "Epoch 954/1000\n",
            "20424/20424 [==============================] - 0s 4us/step - loss: 3.9327 - categorical_accuracy: 0.6038\n",
            "Epoch 955/1000\n",
            "20424/20424 [==============================] - 0s 5us/step - loss: 3.9578 - categorical_accuracy: 0.5900\n",
            "Epoch 956/1000\n",
            "20424/20424 [==============================] - 0s 4us/step - loss: 3.9503 - categorical_accuracy: 0.5907\n",
            "Epoch 957/1000\n",
            "20424/20424 [==============================] - 0s 4us/step - loss: 3.9343 - categorical_accuracy: 0.6034\n",
            "Epoch 958/1000\n",
            "20424/20424 [==============================] - 0s 4us/step - loss: 3.9265 - categorical_accuracy: 0.6089\n",
            "Epoch 959/1000\n",
            "20424/20424 [==============================] - 0s 4us/step - loss: 3.9370 - categorical_accuracy: 0.6019\n",
            "Epoch 960/1000\n",
            "20424/20424 [==============================] - 0s 4us/step - loss: 3.9256 - categorical_accuracy: 0.6075\n",
            "Epoch 961/1000\n",
            "20424/20424 [==============================] - 0s 4us/step - loss: 3.9256 - categorical_accuracy: 0.6087\n",
            "Epoch 962/1000\n",
            "20424/20424 [==============================] - 0s 4us/step - loss: 3.9550 - categorical_accuracy: 0.5885\n",
            "Epoch 963/1000\n",
            "20424/20424 [==============================] - 0s 4us/step - loss: 3.9269 - categorical_accuracy: 0.6076\n",
            "Epoch 964/1000\n",
            "20424/20424 [==============================] - 0s 4us/step - loss: 3.9224 - categorical_accuracy: 0.6111\n",
            "Epoch 965/1000\n",
            "20424/20424 [==============================] - 0s 4us/step - loss: 3.9276 - categorical_accuracy: 0.6085\n",
            "Epoch 966/1000\n",
            "20424/20424 [==============================] - 0s 4us/step - loss: 3.9275 - categorical_accuracy: 0.6061\n",
            "Epoch 967/1000\n",
            "20424/20424 [==============================] - 0s 4us/step - loss: 3.9323 - categorical_accuracy: 0.6047\n",
            "Epoch 968/1000\n",
            "20424/20424 [==============================] - 0s 4us/step - loss: 3.9288 - categorical_accuracy: 0.6075\n",
            "Epoch 969/1000\n",
            "20424/20424 [==============================] - 0s 4us/step - loss: 3.9200 - categorical_accuracy: 0.6122\n",
            "Epoch 970/1000\n",
            "20424/20424 [==============================] - 0s 4us/step - loss: 3.9356 - categorical_accuracy: 0.6004\n",
            "Epoch 971/1000\n",
            "20424/20424 [==============================] - 0s 4us/step - loss: 3.9435 - categorical_accuracy: 0.5927\n",
            "Epoch 972/1000\n",
            "20424/20424 [==============================] - 0s 4us/step - loss: 3.9330 - categorical_accuracy: 0.6043\n",
            "Epoch 973/1000\n",
            "20424/20424 [==============================] - 0s 4us/step - loss: 3.9206 - categorical_accuracy: 0.6126\n",
            "Epoch 974/1000\n",
            "20424/20424 [==============================] - 0s 4us/step - loss: 3.9335 - categorical_accuracy: 0.6021\n",
            "Epoch 975/1000\n",
            "20424/20424 [==============================] - 0s 4us/step - loss: 3.9310 - categorical_accuracy: 0.6053\n",
            "Epoch 976/1000\n",
            "20424/20424 [==============================] - 0s 4us/step - loss: 3.9229 - categorical_accuracy: 0.6096\n",
            "Epoch 977/1000\n",
            "20424/20424 [==============================] - 0s 4us/step - loss: 3.9341 - categorical_accuracy: 0.6002\n",
            "Epoch 978/1000\n",
            "20424/20424 [==============================] - 0s 4us/step - loss: 3.9326 - categorical_accuracy: 0.6058\n",
            "Epoch 979/1000\n",
            "20424/20424 [==============================] - 0s 4us/step - loss: 3.9632 - categorical_accuracy: 0.5856\n",
            "Epoch 980/1000\n",
            "20424/20424 [==============================] - 0s 4us/step - loss: 3.9369 - categorical_accuracy: 0.6007\n",
            "Epoch 981/1000\n",
            "20424/20424 [==============================] - 0s 4us/step - loss: 3.9319 - categorical_accuracy: 0.6025\n",
            "Epoch 982/1000\n",
            "20424/20424 [==============================] - 0s 4us/step - loss: 3.9321 - categorical_accuracy: 0.6036\n",
            "Epoch 983/1000\n",
            "20424/20424 [==============================] - 0s 4us/step - loss: 3.9242 - categorical_accuracy: 0.6103\n",
            "Epoch 984/1000\n",
            "20424/20424 [==============================] - 0s 4us/step - loss: 3.9648 - categorical_accuracy: 0.5854\n",
            "Epoch 985/1000\n",
            "20424/20424 [==============================] - 0s 4us/step - loss: 3.9390 - categorical_accuracy: 0.5968\n",
            "Epoch 986/1000\n",
            "20424/20424 [==============================] - 0s 4us/step - loss: 3.9418 - categorical_accuracy: 0.5969\n",
            "Epoch 987/1000\n",
            "20424/20424 [==============================] - 0s 4us/step - loss: 3.9255 - categorical_accuracy: 0.6084\n",
            "Epoch 988/1000\n",
            "20424/20424 [==============================] - 0s 4us/step - loss: 3.9441 - categorical_accuracy: 0.5937\n",
            "Epoch 989/1000\n",
            "20424/20424 [==============================] - 0s 4us/step - loss: 3.9313 - categorical_accuracy: 0.6031\n",
            "Epoch 990/1000\n",
            "20424/20424 [==============================] - 0s 4us/step - loss: 3.9350 - categorical_accuracy: 0.6013\n",
            "Epoch 991/1000\n",
            "20424/20424 [==============================] - 0s 4us/step - loss: 3.9805 - categorical_accuracy: 0.5784\n",
            "Epoch 992/1000\n",
            "20424/20424 [==============================] - 0s 4us/step - loss: 3.9328 - categorical_accuracy: 0.6018\n",
            "Epoch 993/1000\n",
            "20424/20424 [==============================] - 0s 4us/step - loss: 3.9456 - categorical_accuracy: 0.5958\n",
            "Epoch 994/1000\n",
            "20424/20424 [==============================] - 0s 4us/step - loss: 3.9632 - categorical_accuracy: 0.5855\n",
            "Epoch 995/1000\n",
            "20424/20424 [==============================] - 0s 4us/step - loss: 3.9314 - categorical_accuracy: 0.6010\n",
            "Epoch 996/1000\n",
            "20424/20424 [==============================] - 0s 4us/step - loss: 3.9292 - categorical_accuracy: 0.6075\n",
            "Epoch 997/1000\n",
            "20424/20424 [==============================] - 0s 4us/step - loss: 3.9258 - categorical_accuracy: 0.6092\n",
            "Epoch 998/1000\n",
            "20424/20424 [==============================] - 0s 4us/step - loss: 3.9241 - categorical_accuracy: 0.6094\n",
            "Epoch 999/1000\n",
            "20424/20424 [==============================] - 0s 4us/step - loss: 3.9280 - categorical_accuracy: 0.6085\n",
            "Epoch 1000/1000\n",
            "20424/20424 [==============================] - 0s 4us/step - loss: 3.9434 - categorical_accuracy: 0.5930\n",
            "5106/5106 [==============================] - 0s 37us/step\n",
            "[93.68516254425049, 0.6950254602428515, 0.005922775768565877, 0.8563781172476824, 0.855406249600356, 0.8563247160155626, 0.8547921598027515]\n"
          ],
          "name": "stdout"
        }
      ]
    },
    {
      "cell_type": "code",
      "metadata": {
        "id": "x-CTvojD1Wv6",
        "colab_type": "code",
        "outputId": "fd49545c-0136-4bd2-fa63-eab9231dfa43",
        "colab": {
          "base_uri": "https://localhost:8080/",
          "height": 296
        }
      },
      "source": [
        "dt=plt.scatter(['mean_acc_cv','std','acc_test','f1','recall','precision'], [metrics_DT[1], metrics_DT[2],metrics_DT[3],metrics_DT[4],metrics_DT[5],metrics_DT[6]],\n",
        "            label='DT',marker='^') #Criando o gráfico\n",
        "rf=plt.scatter(['mean_acc_cv','std','acc_test','f1','recall','precision'], [metrics_RF[1], metrics_RF[2],metrics_RF[3],metrics_RF[4],metrics_RF[5],metrics_RF[6]],\n",
        "            label='RF',marker='*') #Criando o gráfico\n",
        "svm=plt.scatter(['mean_acc_cv','std','acc_test','f1','recall','precision'], [metrics_SVM[1], metrics_SVM[2],metrics_SVM[3],metrics_SVM[4],metrics_SVM[5],metrics_SVM[6]],\n",
        "            label='SVM', marker='v') #Criando o gráfico\n",
        "extra=plt.scatter(['mean_acc_cv','std','acc_test','f1','recall','precision'], [metrics_extra[1], metrics_extra[2],metrics_extra[3],metrics_extra[4],metrics_extra[5],metrics_extra[6]],\n",
        "            label='Voting',marker='X') #Criando o gráfico\n",
        "voting= plt.scatter(['mean_acc_cv','std','acc_test','f1','recall','precision'], [metrics_voting[1], metrics_voting[2],metrics_voting[3],metrics_voting[4],metrics_voting[5],metrics_voting[6]],\n",
        "            label='Voting',marker=7) #Criando o gráfico\n",
        "neural= plt.scatter(['mean_acc_cv','std','acc_test','f1','recall','precision'], [metrics_neural[1], metrics_neural[2],metrics_neural[3],metrics_neural[4],metrics_neural[5],metrics_neural[6]],\n",
        "            label='Voting',marker=7) #Criando o gráfico            \n",
        "plt.legend((dt, rf,svm,extra,voting, neural),\n",
        "           ('DT', 'RF','SVM','Extra','Voting','Neural Net'),\n",
        "           scatterpoints=1,\n",
        "           loc='lower right',\n",
        "           ncol=3,\n",
        "           fontsize=9)\n",
        "plt.title('All Classifiers') #adicionando o título\n",
        "plt.xlabel('Metrics')\n",
        "plt.ylabel('Results')\n",
        "plt.show()"
      ],
      "execution_count": 0,
      "outputs": [
        {
          "output_type": "display_data",
          "data": {
            "image/png": "[encoded data removed]",
            "text/plain": [
              "<Figure size 432x288 with 1 Axes>"
            ]
          },
          "metadata": {
            "tags": []
          }
        }
      ]
    },
    {
      "cell_type": "code",
      "metadata": {
        "id": "lUUJfuHrSDx2",
        "colab_type": "code",
        "outputId": "d1653dcd-d5b3-47c3-d838-e04c05bf995c",
        "colab": {
          "base_uri": "https://localhost:8080/",
          "height": 296
        }
      },
      "source": [
        "dt=plt.scatter(['mean_acc_cv','acc_test','f1','recall','precision'], [metrics_DT[1],metrics_DT[3],metrics_DT[4],metrics_DT[5],metrics_DT[6]],\n",
        "            label='DT',marker='^') #Criando o gráfico\n",
        "rf=plt.scatter(['mean_acc_cv','acc_test','f1','recall','precision'], [metrics_RF[1],metrics_RF[3],metrics_RF[4],metrics_RF[5],metrics_RF[6]],\n",
        "            label='RF',marker='*') #Criando o gráfico\n",
        "svm=plt.scatter(['mean_acc_cv','acc_test','f1','recall','precision'], [metrics_SVM[1],metrics_SVM[3],metrics_SVM[4],metrics_SVM[5],metrics_SVM[6]],\n",
        "            label='SVM', marker='v') #Criando o gráfico\n",
        "extra=plt.scatter(['mean_acc_cv','acc_test','f1','recall','precision'], [metrics_extra[1],metrics_extra[3],metrics_extra[4],metrics_extra[5],metrics_extra[6]],\n",
        "            label='Voting',marker='X') #Criando o gráfico\n",
        "voting= plt.scatter(['mean_acc_cv','acc_test','f1','recall','precision'], [metrics_voting[1],metrics_voting[3],metrics_voting[4],metrics_voting[5],metrics_voting[6]],\n",
        "            label='Voting',marker=7) #Criando o gráfico\n",
        "neural= plt.scatter(['mean_acc_cv','acc_test','f1','recall','precision'], [metrics_neural[1],metrics_neural[3],metrics_neural[4],metrics_neural[5],metrics_neural[6]],\n",
        "            label='Voting',marker=7) #Criando o gráfico            \n",
        "plt.legend((dt, rf,svm,extra,voting, neural),\n",
        "           ('DT', 'RF','SVM','Extra','Voting','Neural Net'),\n",
        "           scatterpoints=1,\n",
        "           loc='lower right',\n",
        "           ncol=3,\n",
        "           fontsize=9)\n",
        "plt.title('All Classifiers') #adicionando o título\n",
        "plt.xlabel('Metrics')\n",
        "plt.ylabel('Results')\n",
        "plt.grid(True)\n",
        "plt.show()"
      ],
      "execution_count": 0,
      "outputs": [
        {
          "output_type": "display_data",
          "data": {
            "image/png": "[encoded data removed]",
            "text/plain": [
              "<Figure size 432x288 with 1 Axes>"
            ]
          },
          "metadata": {
            "tags": []
          }
        }
      ]
    },
    {
      "cell_type": "code",
      "metadata": {
        "id": "GnaROsUzfnZI",
        "colab_type": "code",
        "outputId": "0f1bff1f-0ad8-43e2-8050-8f439c2eb55c",
        "colab": {
          "base_uri": "https://localhost:8080/",
          "height": 34
        }
      },
      "source": [
        "previsoes_original=previsoes\n",
        "previsoes = (previsoes > 0.5)\n",
        "print(end-start)\n",
        "import numpy as np\n",
        "classe_teste2 = [np.argmax(t) for t in classe_teste]\n",
        "previsoes2 = [np.argmax(t) for t in previsoes]\n",
        "\n",
        "from sklearn.metrics import confusion_matrix\n",
        "matriz = confusion_matrix(previsoes2, classe_teste2)"
      ],
      "execution_count": 0,
      "outputs": [
        {
          "output_type": "stream",
          "text": [
            "93.68516254425049\n"
          ],
          "name": "stdout"
        }
      ]
    },
    {
      "cell_type": "code",
      "metadata": {
        "id": "p9GOS0T72gQi",
        "colab_type": "code",
        "outputId": "6b69fd99-f2da-4ad0-e001-6315bc1a4038",
        "colab": {
          "base_uri": "https://localhost:8080/",
          "height": 136
        }
      },
      "source": [
        "metrics_DT"
      ],
      "execution_count": 0,
      "outputs": [
        {
          "output_type": "execute_result",
          "data": {
            "text/plain": [
              "[0.28552746772766113,\n",
              " 0.8310614962788876,\n",
              " 0.007363573094683877,\n",
              " 0.833268050659355,\n",
              " 0.8326651205022728,\n",
              " 0.8331348319628357,\n",
              " 0.8323177668902997]"
            ]
          },
          "metadata": {
            "tags": []
          },
          "execution_count": 34
        }
      ]
    },
    {
      "cell_type": "code",
      "metadata": {
        "id": "OD_Ez2K12jyF",
        "colab_type": "code",
        "outputId": "2b54d2fa-d67f-4122-b672-76448ec382d7",
        "colab": {
          "base_uri": "https://localhost:8080/",
          "height": 136
        }
      },
      "source": [
        "metrics_RF"
      ],
      "execution_count": 0,
      "outputs": [
        {
          "output_type": "execute_result",
          "data": {
            "text/plain": [
              "[3.6919546127319336,\n",
              " 0.8835095965530748,\n",
              " 0.006967787111808959,\n",
              " 0.8815772294033164,\n",
              " 0.8810483583879948,\n",
              " 0.8813104006039806,\n",
              " 0.881213108081593]"
            ]
          },
          "metadata": {
            "tags": []
          },
          "execution_count": 35
        }
      ]
    },
    {
      "cell_type": "code",
      "metadata": {
        "id": "IrUMrkGA2lFJ",
        "colab_type": "code",
        "outputId": "906d63da-bf75-471e-aaf9-662a5c71fb48",
        "colab": {
          "base_uri": "https://localhost:8080/",
          "height": 136
        }
      },
      "source": [
        "metrics_extra"
      ],
      "execution_count": 0,
      "outputs": [
        {
          "output_type": "execute_result",
          "data": {
            "text/plain": [
              "[1.326235294342041,\n",
              " 0.8911868390129261,\n",
              " 0.006632976689619872,\n",
              " 0.8883666274970623,\n",
              " 0.8877073365229915,\n",
              " 0.888150936017449,\n",
              " 0.887827169392853]"
            ]
          },
          "metadata": {
            "tags": []
          },
          "execution_count": 36
        }
      ]
    },
    {
      "cell_type": "code",
      "metadata": {
        "id": "cKFVu7m22m0r",
        "colab_type": "code",
        "outputId": "90c62de4-f4b8-4029-ae3a-ceef770edea8",
        "colab": {
          "base_uri": "https://localhost:8080/",
          "height": 136
        }
      },
      "source": [
        "metrics_SVM"
      ],
      "execution_count": 0,
      "outputs": [
        {
          "output_type": "execute_result",
          "data": {
            "text/plain": [
              "[1.0496747493743896,\n",
              " 0.6950254602428515,\n",
              " 0.005922775768565877,\n",
              " 0.699177438307873,\n",
              " 0.6733338319474023,\n",
              " 0.6974269437082571,\n",
              " 0.6807495871733258]"
            ]
          },
          "metadata": {
            "tags": []
          },
          "execution_count": 37
        }
      ]
    },
    {
      "cell_type": "code",
      "metadata": {
        "id": "SOSBzs8D2oIo",
        "colab_type": "code",
        "outputId": "b60a64a6-0603-4e5f-c2f6-56409126d083",
        "colab": {
          "base_uri": "https://localhost:8080/",
          "height": 136
        }
      },
      "source": [
        "metrics_voting"
      ],
      "execution_count": 0,
      "outputs": [
        {
          "output_type": "execute_result",
          "data": {
            "text/plain": [
              "[1.0496747493743896,\n",
              " 0.6950254602428515,\n",
              " 0.005922775768565877,\n",
              " 0.8884971928450189,\n",
              " 0.8880932031157479,\n",
              " 0.8882822472046679,\n",
              " 0.8882095912057577]"
            ]
          },
          "metadata": {
            "tags": []
          },
          "execution_count": 38
        }
      ]
    },
    {
      "cell_type": "code",
      "metadata": {
        "id": "uHQjscpN2qQX",
        "colab_type": "code",
        "outputId": "db768c90-1164-443f-8408-3ac7071d824b",
        "colab": {
          "base_uri": "https://localhost:8080/",
          "height": 136
        }
      },
      "source": [
        "metrics_neural"
      ],
      "execution_count": 0,
      "outputs": [
        {
          "output_type": "execute_result",
          "data": {
            "text/plain": [
              "[93.68516254425049,\n",
              " 0.6950254602428515,\n",
              " 0.005922775768565877,\n",
              " 0.8563781172476824,\n",
              " 0.855406249600356,\n",
              " 0.8563247160155626,\n",
              " 0.8547921598027515]"
            ]
          },
          "metadata": {
            "tags": []
          },
          "execution_count": 39
        }
      ]
    },
    {
      "cell_type": "code",
      "metadata": {
        "id": "b-FjN5Vd2z8U",
        "colab_type": "code",
        "outputId": "525de657-f835-4332-81e0-9f7152ea3b75",
        "colab": {
          "base_uri": "https://localhost:8080/",
          "height": 295
        }
      },
      "source": [
        "dt=plt.scatter(['DT'], [metrics_DT[0]],\n",
        "            label='DT',marker='^') #Criando o gráfico\n",
        "rf=plt.scatter(['RF'], [metrics_RF[0]],\n",
        "            label='RF',marker='*') #Criando o gráfico\n",
        "svm=plt.scatter(['SVM'], [metrics_SVM[0]],\n",
        "            label='SVM', marker='v') #Criando o gráfico\n",
        "extra=plt.scatter(['Extra'], [metrics_extra[0]],\n",
        "            label='Extra',marker='X') #Criando o gráfico\n",
        "voting= plt.scatter(['Voting'], [metrics_voting[0]],\n",
        "            label='Voting',marker=7) #Criando o gráfico\n",
        "neural= plt.scatter(['Neural'], [metrics_neural[0]],\n",
        "            label='Neural',marker=7) #Criando o gráfico            \n",
        "plt.legend((dt, rf,svm,extra,voting, neural),\n",
        "           ('DT', 'RF','SVM','Extra','Voting','Neural Net'),\n",
        "           scatterpoints=1,\n",
        "           loc='upper left',\n",
        "           ncol=3,\n",
        "           fontsize=9)\n",
        "plt.title('Fitting Time') #adicionando o título\n",
        "plt.xlabel('Classifier')\n",
        "plt.ylabel('Seconds')\n",
        "plt.grid(True)\n",
        "plt.show()"
      ],
      "execution_count": 0,
      "outputs": [
        {
          "output_type": "display_data",
          "data": {
            "image/png": "[encoded data removed]",
            "text/plain": [
              "<Figure size 432x288 with 1 Axes>"
            ]
          },
          "metadata": {
            "tags": []
          }
        }
      ]
    },
    {
      "cell_type": "code",
      "metadata": {
        "id": "oRjS8B0733Dr",
        "colab_type": "code",
        "outputId": "e2f515b7-d1c4-4353-9fef-e241671cd48c",
        "colab": {
          "base_uri": "https://localhost:8080/",
          "height": 295
        }
      },
      "source": [
        "dt=plt.scatter(['DT'], [metrics_DT[0]],\n",
        "            label='DT',marker='^') #Criando o gráfico\n",
        "rf=plt.scatter(['RF'], [metrics_RF[0]],\n",
        "            label='RF',marker='*') #Criando o gráfico\n",
        "svm=plt.scatter(['SVM'], [metrics_SVM[0]],\n",
        "            label='SVM', marker='v') #Criando o gráfico\n",
        "extra=plt.scatter(['Extra'], [metrics_extra[0]],\n",
        "            label='Extra',marker='X') #Criando o gráfico\n",
        "voting= plt.scatter(['Voting'], [metrics_voting[0]],\n",
        "            label='Voting',marker=7) #Criando o gráfico        \n",
        "plt.legend((dt, rf,svm,extra,voting, neural),\n",
        "           ('DT', 'RF','SVM','Extra','Voting'),\n",
        "           scatterpoints=1,\n",
        "           loc='upper right',\n",
        "           ncol=3,\n",
        "           fontsize=9)\n",
        "plt.title('Fitting Time') #adicionando o título\n",
        "plt.xlabel('Classifier')\n",
        "plt.ylabel('Seconds')\n",
        "plt.grid(True)\n",
        "plt.show()"
      ],
      "execution_count": 0,
      "outputs": [
        {
          "output_type": "display_data",
          "data": {
            "image/png": "[encoded data removed]",
            "text/plain": [
              "<Figure size 432x288 with 1 Axes>"
            ]
          },
          "metadata": {
            "tags": []
          }
        }
      ]
    },
    {
      "cell_type": "code",
      "metadata": {
        "id": "BjFParl-qBPX",
        "colab_type": "code",
        "outputId": "1a6454ee-3f63-4fb9-d6b3-bb18df5dbb49",
        "colab": {
          "base_uri": "https://localhost:8080/",
          "height": 296
        }
      },
      "source": [
        "classifiers=('SVM','DT','RF','Extra', 'Voting H', 'Voting S','Neural')\n",
        "results = [metrics_SVM[0],metrics_DT[0], metrics_RF[0], metrics_extra[0], metrics_voting[0],metrics_voting_soft[0], metrics_neural[0]]\n",
        "plt.ylabel(\"Fitting Time (s)\")\n",
        "plt.xlabel(\"All Classifiers\")\n",
        "plt.grid(True)\n",
        "plt.bar(classifiers, results, color=['black', 'red', 'green', 'blue', 'cyan', 'yellow', 'white'],edgecolor='blue')\n"
      ],
      "execution_count": 0,
      "outputs": [
        {
          "output_type": "execute_result",
          "data": {
            "text/plain": [
              "<BarContainer object of 7 artists>"
            ]
          },
          "metadata": {
            "tags": []
          },
          "execution_count": 42
        },
        {
          "output_type": "display_data",
          "data": {
            "image/png": "[encoded data removed]",
            "text/plain": [
              "<Figure size 432x288 with 1 Axes>"
            ]
          },
          "metadata": {
            "tags": []
          }
        }
      ]
    },
    {
      "cell_type": "code",
      "metadata": {
        "id": "Awlh_dEwwaAk",
        "colab_type": "code",
        "outputId": "4d7fb71f-9124-4b9a-90d5-cc7a1ef0c413",
        "colab": {
          "base_uri": "https://localhost:8080/",
          "height": 296
        }
      },
      "source": [
        "classifiers=('SVM','DT','RF','Extra', 'Voting H', 'Voting S')\n",
        "results = [metrics_SVM[0],metrics_DT[0], metrics_RF[0], metrics_extra[0], metrics_voting[0],metrics_voting_soft[0]]\n",
        "plt.ylabel(\"Fitting Time (s)\")\n",
        "plt.xlabel(\"All Classifiers\")\n",
        "plt.grid(True)\n",
        "plt.bar(classifiers, results, color=['black', 'red', 'green', 'blue', 'cyan', 'yellow', 'white'],edgecolor='blue')\n"
      ],
      "execution_count": 0,
      "outputs": [
        {
          "output_type": "execute_result",
          "data": {
            "text/plain": [
              "<BarContainer object of 6 artists>"
            ]
          },
          "metadata": {
            "tags": []
          },
          "execution_count": 43
        },
        {
          "output_type": "display_data",
          "data": {
            "image/png": "[encoded data removed]",
            "text/plain": [
              "<Figure size 432x288 with 1 Axes>"
            ]
          },
          "metadata": {
            "tags": []
          }
        }
      ]
    },
    {
      "cell_type": "code",
      "metadata": {
        "id": "vVVYRq6SvJlE",
        "colab_type": "code",
        "outputId": "055b9e43-6cbd-445c-ea2f-3f25480f9180",
        "colab": {
          "base_uri": "https://localhost:8080/",
          "height": 296
        }
      },
      "source": [
        "classifiers=('SVM','DT','RF','Extra')\n",
        "results = [metrics_SVM[2],metrics_DT[2], metrics_RF[2], metrics_extra[2]]\n",
        "plt.ylabel(\"Standard Deviation usign Cross Validation\")\n",
        "plt.xlabel(\"All Classifiers\")\n",
        "plt.grid(True)\n",
        "plt.bar(classifiers, results, color=['black', 'red', 'green', 'blue', 'cyan', 'yellow', 'white'],edgecolor='blue')\n"
      ],
      "execution_count": 0,
      "outputs": [
        {
          "output_type": "execute_result",
          "data": {
            "text/plain": [
              "<BarContainer object of 4 artists>"
            ]
          },
          "metadata": {
            "tags": []
          },
          "execution_count": 44
        },
        {
          "output_type": "display_data",
          "data": {
            "image/png": "[encoded data removed]",
            "text/plain": [
              "<Figure size 432x288 with 1 Axes>"
            ]
          },
          "metadata": {
            "tags": []
          }
        }
      ]
    },
    {
      "cell_type": "code",
      "metadata": {
        "id": "6LMsCIj7pROn",
        "colab_type": "code",
        "colab": {}
      },
      "source": [
        "classifiers=('SVM','DT','RF','Extra')\n",
        "results = [metrics_SVM[2],metrics_DT[2], metrics_RF[2], metrics_extra[2]]\n",
        "plt.ylabel(\"Standard Deviation usign Cross Validation\")\n",
        "plt.xlabel(\"All Classifiers\")\n",
        "plt.grid(True)\n",
        "plt.bar(classifiers, results, color=['black', 'red', 'green', 'blue', 'cyan', 'yellow', 'white'],edgecolor='blue')\n"
      ],
      "execution_count": 0,
      "outputs": []
    },
    {
      "cell_type": "code",
      "metadata": {
        "id": "n8CPHxq3vlEa",
        "colab_type": "code",
        "outputId": "6a697ba7-f5bb-4435-e27f-f419555a6580",
        "colab": {
          "base_uri": "https://localhost:8080/",
          "height": 300
        }
      },
      "source": [
        "classifiers=('SVM','DT','RF','Extra','Voting H', 'Voting S','Neural')\n",
        "results = [metrics_SVM[4],metrics_DT[4], metrics_RF[4], metrics_extra[4], metrics_voting[4],metrics_voting_soft[4], metrics_neural[4]]\n",
        "plt.ylabel(\"F1 Macro\")\n",
        "plt.xlabel(\"All Classifiers\")\n",
        "plt.grid(True)\n",
        "plt.ylim([0,1])\n",
        "\n",
        "plt.bar(classifiers, results, color=['black', 'red', 'green', 'blue', 'cyan', 'yellow', 'white'],edgecolor='blue')\n"
      ],
      "execution_count": 0,
      "outputs": [
        {
          "output_type": "execute_result",
          "data": {
            "text/plain": [
              "<BarContainer object of 7 artists>"
            ]
          },
          "metadata": {
            "tags": []
          },
          "execution_count": 51
        },
        {
          "output_type": "display_data",
          "data": {
            "image/png": "[encoded data removed]",
            "text/plain": [
              "<Figure size 432x288 with 1 Axes>"
            ]
          },
          "metadata": {
            "tags": []
          }
        }
      ]
    },
    {
      "cell_type": "code",
      "metadata": {
        "id": "3THMOWjtpTrq",
        "colab_type": "code",
        "outputId": "26f86d25-44ab-42d4-f3a1-74266a89789f",
        "colab": {
          "base_uri": "https://localhost:8080/",
          "height": 300
        }
      },
      "source": [
        "classifiers=('SVM','DT','RF','Extra','Voting H', 'Voting S','Neural')\n",
        "results = [metrics_SVM[1],metrics_DT[1], metrics_RF[1], metrics_extra[1], metrics_voting[3],metrics_voting_soft[3], metrics_neural[3]]\n",
        "plt.ylabel(\"Accuracy usign Cross Validation\")\n",
        "plt.xlabel(\"All Classifiers\")\n",
        "plt.grid(True)\n",
        "plt.ylim([0,1])\n",
        "\n",
        "plt.bar(classifiers, results, color=['black', 'red', 'green', 'blue', 'cyan', 'yellow', 'white'],edgecolor='blue')\n"
      ],
      "execution_count": 0,
      "outputs": [
        {
          "output_type": "execute_result",
          "data": {
            "text/plain": [
              "<BarContainer object of 7 artists>"
            ]
          },
          "metadata": {
            "tags": []
          },
          "execution_count": 54
        },
        {
          "output_type": "display_data",
          "data": {
            "image/png": "[encoded data removed]",
            "text/plain": [
              "<Figure size 432x288 with 1 Axes>"
            ]
          },
          "metadata": {
            "tags": []
          }
        }
      ]
    },
    {
      "cell_type": "code",
      "metadata": {
        "id": "jcwT4iF3uDyL",
        "colab_type": "code",
        "colab": {}
      },
      "source": [
        ""
      ],
      "execution_count": 0,
      "outputs": []
    },
    {
      "cell_type": "code",
      "metadata": {
        "id": "MeERdzN5verN",
        "colab_type": "code",
        "outputId": "e409fd95-8567-4f79-e400-55a0404325d8",
        "colab": {
          "base_uri": "https://localhost:8080/",
          "height": 300
        }
      },
      "source": [
        "classifiers=('SVM','DT','RF','Extra','Voting H', 'Voting S','Neural')\n",
        "results = [metrics_SVM[1],metrics_DT[1], metrics_RF[1], metrics_extra[1], metrics_voting[3],metrics_voting_soft[3], metrics_neural[3]]\n",
        "plt.ylabel(\"F1 Macro\")\n",
        "plt.xlabel(\"All Classifiers\")\n",
        "plt.grid(True)\n",
        "plt.ylim([0,1])\n",
        "plt.bar(classifiers, results, color=['black', 'red', 'green', 'blue', 'cyan', 'yellow', 'white'],edgecolor='blue')\n"
      ],
      "execution_count": 0,
      "outputs": [
        {
          "output_type": "execute_result",
          "data": {
            "text/plain": [
              "<BarContainer object of 7 artists>"
            ]
          },
          "metadata": {
            "tags": []
          },
          "execution_count": 57
        },
        {
          "output_type": "display_data",
          "data": {
            "image/png": "[encoded data removed]",
            "text/plain": [
              "<Figure size 432x288 with 1 Axes>"
            ]
          },
          "metadata": {
            "tags": []
          }
        }
      ]
    },
    {
      "cell_type": "code",
      "metadata": {
        "id": "UXKzItfJDwSD",
        "colab_type": "code",
        "outputId": "7fb8c49d-4e76-4dbb-ad32-38c669e97b90",
        "colab": {
          "base_uri": "https://localhost:8080/",
          "height": 300
        }
      },
      "source": [
        "classifiers=('SVM','DT','RF','Extra','Voting H', 'Voting S','Neural')\n",
        "results = [metrics_SVM[6],metrics_DT[6], metrics_RF[6], metrics_extra[6], metrics_voting[6],metrics_voting_soft[6], metrics_neural[6]]\n",
        "plt.ylabel(\"Precision\")\n",
        "plt.xlabel(\"All Classifiers\")\n",
        "plt.grid(True)\n",
        "plt.ylim([0,1])\n",
        "\n",
        "\n",
        "plt.bar(classifiers, results, color=['black', 'red', 'green', 'blue', 'cyan', 'yellow', 'white'],edgecolor='blue')\n"
      ],
      "execution_count": 0,
      "outputs": [
        {
          "output_type": "execute_result",
          "data": {
            "text/plain": [
              "<BarContainer object of 7 artists>"
            ]
          },
          "metadata": {
            "tags": []
          },
          "execution_count": 58
        },
        {
          "output_type": "display_data",
          "data": {
            "image/png": "[encoded data removed]",
            "text/plain": [
              "<Figure size 432x288 with 1 Axes>"
            ]
          },
          "metadata": {
            "tags": []
          }
        }
      ]
    },
    {
      "cell_type": "code",
      "metadata": {
        "id": "EOf7jM8UF0y4",
        "colab_type": "code",
        "outputId": "8d9e7a0b-3403-40d3-e588-23f8a935fa6d",
        "colab": {
          "base_uri": "https://localhost:8080/",
          "height": 34
        }
      },
      "source": [
        "metrics_SVM[0]"
      ],
      "execution_count": 0,
      "outputs": [
        {
          "output_type": "execute_result",
          "data": {
            "text/plain": [
              "1.0496747493743896"
            ]
          },
          "metadata": {
            "tags": []
          },
          "execution_count": 48
        }
      ]
    },
    {
      "cell_type": "code",
      "metadata": {
        "id": "Tn78_OqgD_rO",
        "colab_type": "code",
        "outputId": "771f3cdc-3e55-4a01-d87e-35d7276add58",
        "colab": {
          "base_uri": "https://localhost:8080/",
          "height": 300
        }
      },
      "source": [
        "classifiers=('SVM','DT','RF','Extra','Voting H', 'Voting S','Neural')\n",
        "results = [metrics_SVM[5],metrics_DT[5], metrics_RF[5], metrics_extra[5], metrics_voting[5],metrics_voting_soft[5], metrics_neural[5]]\n",
        "plt.ylabel(\"Recall\")\n",
        "plt.xlabel(\"All Classifiers\")\n",
        "plt.grid(True)\n",
        "plt.ylim([0,1])\n",
        "\n",
        "plt.bar(classifiers, results, color=['black', 'red', 'green', 'blue', 'cyan', 'yellow', 'white'],edgecolor='blue')\n"
      ],
      "execution_count": 0,
      "outputs": [
        {
          "output_type": "execute_result",
          "data": {
            "text/plain": [
              "<BarContainer object of 7 artists>"
            ]
          },
          "metadata": {
            "tags": []
          },
          "execution_count": 55
        },
        {
          "output_type": "display_data",
          "data": {
            "image/png": "[encoded data removed]",
            "text/plain": [
              "<Figure size 432x288 with 1 Axes>"
            ]
          },
          "metadata": {
            "tags": []
          }
        }
      ]
    }
  ]
}